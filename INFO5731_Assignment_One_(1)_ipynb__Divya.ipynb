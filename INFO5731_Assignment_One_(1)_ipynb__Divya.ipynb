{
  "cells": [
    {
      "cell_type": "markdown",
      "metadata": {
        "id": "view-in-github",
        "colab_type": "text"
      },
      "source": [
        "<a href=\"https://colab.research.google.com/github/DivyaBenerjee/In_class_exercise_01-1.ipynb.divya/blob/main/INFO5731_Assignment_One_(1)_ipynb__Divya.ipynb\" target=\"_parent\"><img src=\"https://colab.research.google.com/assets/colab-badge.svg\" alt=\"Open In Colab\"/></a>"
      ]
    },
    {
      "cell_type": "markdown",
      "metadata": {
        "id": "Ryk8D1Q4Wsrp"
      },
      "source": [
        "# **INFO5731 Assignment One**"
      ]
    },
    {
      "cell_type": "markdown",
      "metadata": {
        "id": "90_NR8c5XGWc"
      },
      "source": [
        "# Question 1\n",
        "\n",
        "(20 points). Write a Python program to generate 12 random numbers between 1 and 100. Sort the list of numbers in ascending order and print it out. Sort the list of numbers in descending order and print it out. Calculate the average for the group and print it out."
      ]
    },
    {
      "cell_type": "code",
      "execution_count": 17,
      "metadata": {
        "colab": {
          "base_uri": "https://localhost:8080/"
        },
        "id": "5QX6bJjGWXY9",
        "outputId": "40694cfb-08c2-4729-e9d6-be60142f0d3a"
      },
      "outputs": [
        {
          "output_type": "stream",
          "name": "stdout",
          "text": [
            "Generating Random Numbers between 1 and 100:\n",
            " [68, 41, 98, 65, 79, 1, 33, 76, 92, 9, 19, 49]\n",
            "\n",
            "\n",
            "The list of Numbers in Ascending Order:\n",
            " [1, 9, 19, 33, 41, 49, 65, 68, 76, 79, 92, 98]\n",
            "\n",
            "\n",
            "The list of Numbers in Descending Order:\n",
            " [98, 92, 79, 76, 68, 65, 49, 41, 33, 19, 9, 1]\n",
            "\n",
            "\n",
            "The average of the group is: 52.5\n"
          ]
        }
      ],
      "source": [
        "# I am writing the code to generate 12 random numbers from 1-100\n",
        "# I am using built-in module'random' that can be used to generate random numbers\n",
        "# For this I am importing the module\n",
        "\n",
        "# I have used 'randint' function in random modules to retunr the random number of the given range\n",
        "\n",
        "import random\n",
        "import numpy as np\n",
        "#I have used seed(), methos in python random module which intialises random genetor useful to reproduce the data. By resuing the seed value we can get the same data.\n",
        "np.random.seed(52)\n",
        "\n",
        "# I have created an empty list where i can append all generated random numbers to this list\n",
        "my_list=[]\n",
        "\n",
        "#used for loop \n",
        "for i in range(1,13):\n",
        "  x=random.randint(1,100)\n",
        "  my_list.append(x)\n",
        "\n",
        "print(\"Generating Random Numbers between 1 and 100:\\n\", my_list)\n",
        "print(\"\\n\")\n",
        "\n",
        "\n",
        "# The function sorted() returns a sorted list of speicfied iterable object.\n",
        "# we can aslo specify ascending or descending order. \n",
        "\n",
        "# Ascending order\n",
        "a=sorted(my_list)\n",
        "print(\"The list of Numbers in Ascending Order:\\n\", a)\n",
        "print(\"\\n\")\n",
        "\n",
        "#Descending order\n",
        "b=sorted(my_list, reverse=True)\n",
        "print(\"The list of Numbers in Descending Order:\\n\" , b)\n",
        "print(\"\\n\")\n",
        "\n",
        "# Calculating average of the group:\n",
        " \n",
        "#I used Numpy library which is used commonly to work on large multi dimensional arrays.\n",
        "# the mean() function will give us the average for the list given.\n",
        "# we can also use built-in-functions like sum() and len() to find avg=sum()/len()\n",
        "\n",
        "from numpy import mean\n",
        "Average_of_group=mean(my_list)\n",
        "print(\"The average of the group is:\", round(Average_of_group,2))\n",
        "\n"
      ]
    },
    {
      "cell_type": "markdown",
      "metadata": {
        "id": "1F_PZdH9Sh49"
      },
      "source": [
        "# Question 2\n",
        "(25 points). Write a program that will do the following string formatting tasks:\n",
        "\n",
        "(1) Ask the user to enter two sentences.\n",
        "\n",
        "(2) Make each sentence into a list. Each element in the list should correspond to a word in the sentence. For example, if the sentence is \"Alas! Am I alive? This is my first python program\", the program should print out ['Alas, '!', 'Am', 'I', 'alive, '?', 'This', 'is', 'my', 'first', 'python', 'program'].\n",
        "\n",
        "(3) Compare the two sentences. Print out a list of words that occur in both sentences.\n",
        "\n",
        "(4) Remove any punctuation from the sentence and print it back out. It should remove at least the following characters, but it can remove more: period(“.”), comma (“,”), semicolon (“;”), and colon (“:”)\n",
        "\n",
        "(5) Count the number of vowels in the sentences. Print out each vowel and the number of times it appears in the sentences, such as: a:2, e:1, i:0, etc"
      ]
    },
    {
      "cell_type": "code",
      "execution_count": 18,
      "metadata": {
        "colab": {
          "base_uri": "https://localhost:8080/"
        },
        "id": "Y0oOSlsOS0cq",
        "outputId": "194414f2-97c3-473c-db20-9a64f267aca0"
      },
      "outputs": [
        {
          "output_type": "stream",
          "name": "stdout",
          "text": [
            "Enter the first sentence:\n",
            " I am a Data Science student\n",
            "Enter the second sentence:\n",
            "  I am from India\n",
            "The list where each element correspond to a word in the sentence:\n",
            "['I', 'am', 'a', 'Data', 'Science', 'student', 'I', 'am', 'from', 'India']\n"
          ]
        }
      ],
      "source": [
        "# Question 2-1:\n",
        "# used 'input' function to allow user to give input.\n",
        "first_sentence=input(\"Enter the first sentence:\\n \")\n",
        "second_sentence=input(\"Enter the second sentence:\\n \")\n",
        "\n",
        "#Question2-2:\n",
        "# I used 'findall()'frunction from 're' module, it finds all the matches\n",
        "#and returns them as a list of strings with each string representing one match\n",
        "\n",
        "import re\n",
        "reg_exp = r\"[0-9a-zA-Z_]+|\\$[\\d\\.]+|\\S+\"\n",
        "sen1=re.findall(reg_exp,first_sentence)\n",
        "sen2=re.findall(reg_exp,second_sentence)\n",
        "final_list=sen1+sen2\n",
        "print(\"The list where each element correspond to a word in the sentence:\")\n",
        "print(final_list)\n",
        "\n"
      ]
    },
    {
      "cell_type": "code",
      "source": [
        " #Question2-3:\n",
        "\n",
        "print(\"The list of words that occur in both sentences are:\")\n",
        "for ch in sen1:\n",
        "  for ch2 in sen2:\n",
        "    if ch==ch2:\n",
        "      print(ch)"
      ],
      "metadata": {
        "colab": {
          "base_uri": "https://localhost:8080/"
        },
        "id": "Sd55-AzCxKoi",
        "outputId": "2e061dab-c8bd-49cd-d5c0-5fd32c0bb2f7"
      },
      "execution_count": 19,
      "outputs": [
        {
          "output_type": "stream",
          "name": "stdout",
          "text": [
            "The list of words that occur in both sentences are:\n",
            "I\n",
            "am\n"
          ]
        }
      ]
    },
    {
      "cell_type": "code",
      "source": [
        "#Question2-4:\n",
        "# to Removing Punctuations\n",
        "# to Define punctuation\n",
        "punctuation_list=[':',';',',','.','!','$','@','#','%']\n",
        "no_punctuation=\"\"\n",
        "for abc in final_list:\n",
        "  if abc not in punctuation_list:\n",
        "    no_punctuation=no_punctuation + abc\n",
        "\n",
        "print(no_punctuation)"
      ],
      "metadata": {
        "colab": {
          "base_uri": "https://localhost:8080/"
        },
        "id": "mZa4Xk7fxOQF",
        "outputId": "5b2e34e1-ae26-41d2-c118-244503e5f2f7"
      },
      "execution_count": 20,
      "outputs": [
        {
          "output_type": "stream",
          "name": "stdout",
          "text": [
            "IamaDataSciencestudentIamfromIndia\n"
          ]
        }
      ]
    },
    {
      "cell_type": "code",
      "source": [
        "# Question2-5:\n",
        "# To Count number of vowels. I am first made them in lower case and then checked for vowels.\n",
        "#instead of changing into lower case we can also check for vowels as \"aeiouAEIOU\"\n",
        "first_sentence=first_sentence.lower()\n",
        "second_sentence=second_sentence.lower()\n",
        "vowel_counts = {}\n",
        "\n",
        "for i in \"aeiou\":\n",
        "  count=first_sentence.count(i)\n",
        "  count1=second_sentence.count(i)\n",
        "  vowel_counts[i]=count+count1"
      ],
      "metadata": {
        "id": "4poPL1qxxT9O"
      },
      "execution_count": 22,
      "outputs": []
    },
    {
      "cell_type": "code",
      "source": [
        "print(\"The number of times vowel appears in each sentences:\")\n",
        "vowel_counts"
      ],
      "metadata": {
        "colab": {
          "base_uri": "https://localhost:8080/"
        },
        "id": "CzGRhE6VxYKV",
        "outputId": "3bd98b41-9e38-4d84-96a8-6a6b9afa2b35"
      },
      "execution_count": 7,
      "outputs": [
        {
          "output_type": "stream",
          "name": "stdout",
          "text": [
            "The number of times vowel appears in each sentences:\n"
          ]
        },
        {
          "output_type": "execute_result",
          "data": {
            "text/plain": [
              "{'a': 6, 'e': 3, 'i': 5, 'o': 1, 'u': 1}"
            ]
          },
          "metadata": {},
          "execution_count": 7
        }
      ]
    },
    {
      "cell_type": "markdown",
      "metadata": {
        "id": "CmFoI4jDS9nx"
      },
      "source": [
        "# Question 3 \n",
        "\n",
        "(15 points). The formula that describes the volume V of a sphere with radius r is the following:\n",
        "\n",
        "$ V=\\frac{4}{3}\\ast\\ \\pi\\ast\\ r^3 $\n",
        "\n",
        "Write a program to calculate the value of V when r is in the range of 1–10. Output the result in the following format:\n",
        "\n",
        "\tr\tV\n",
        "\t1\t…\n",
        "\t2\t…\n",
        "\t3\t…\n"
      ]
    },
    {
      "cell_type": "code",
      "execution_count": 8,
      "metadata": {
        "colab": {
          "base_uri": "https://localhost:8080/"
        },
        "id": "pEyqeioAT95b",
        "outputId": "df196663-ed91-496d-f82c-93ec7de8452d"
      },
      "outputs": [
        {
          "output_type": "stream",
          "name": "stdout",
          "text": [
            "The volume 'V' of a sphere with radius 'r' in the range 1-10:\n",
            "\n",
            "r\t\tV\n",
            "1   4.1887902047863905\n",
            "2   33.510321638291124\n",
            "3   113.09733552923254\n",
            "4   268.082573106329\n",
            "5   523.5987755982989\n",
            "6   904.7786842338603\n",
            "7   1436.7550402417319\n",
            "8   2144.660584850632\n",
            "9   3053.6280592892786\n",
            "10   4188.790204786391\n"
          ]
        }
      ],
      "source": [
        "#Calculating the Volume of a sphere for Radius in range 1-10\n",
        "#I can give 'pi' value or i can import 'pi' function from the module 'math'\n",
        "\n",
        "from math import pi\n",
        "print(\"The volume 'V' of a sphere with radius 'r' in the range 1-10:\\n\")\n",
        "print(\"r\\t\\tV\")\n",
        "\n",
        "# It was given in the question to calculate Volume for radius in range 1-10\n",
        "# hence, i am using 'for' loop to do this.Since i was given a specific range i used'range' function\n",
        "\n",
        "for r in range(1,11):\n",
        "  V=(4/3)*pi*r**3\n",
        "  print(r,\" \",V)\n",
        "\n"
      ]
    },
    {
      "cell_type": "code",
      "execution_count": null,
      "metadata": {
        "id": "pMCr3l8tnu0j"
      },
      "outputs": [],
      "source": [
        ""
      ]
    },
    {
      "cell_type": "markdown",
      "metadata": {
        "id": "z3tBE7E-Xn5X"
      },
      "source": [
        "# Question 4\n",
        "\n",
        "(40 points). In the field of Data Science, data is often formatted as a comma-delimited (CSV) file, where each line in a file corresponds to a field's value. Refer to Chapter 9 (p. 106) for more information on comma-delimited files. To answer this question, you will need to download the file [Assignment1_denton_housing.csv](https://raw.githubusercontent.com/unt-iialab/info5731-spring2022/main/assignments/Assignment1_denton_housing.csv) included with this assignment. The file [Assignment1_denton_housing.csv](https://raw.githubusercontent.com/unt-iialab/info5731-spring2022/main/assignments/Assignment1_denton_housing.csv) contains statistics about housing in the city of Denton from 2008 to 2014. Write a program to implement the following questions.\n",
        "\n",
        "(1) (10 pts) Calculate the difference in the number of Occupied Housing Units from year to year and print it. The difference must be calculated for the consecutive years such as 2008-2009, 2009-2010 etc. Finally, print the values in the ascending order.\n",
        "\n",
        "(2) (10 pts) For all the years, calculate the percentage of housing units which are vacant an occupied. Print the results in the following format:\n",
        "\n",
        "Year Vacant Housing Units Occupied Housing Units\n",
        "\n",
        "    2008  30%   70%                          \n",
        "\t2009 ----- -----\n",
        "\t2010 ----- -----\n",
        "    2011 ----- -----\n",
        "\t2012 ----- -----\n",
        "    2013 ----- -----\n",
        "\t2014 ----- -----\n",
        "  \n",
        "  \n",
        "\n",
        "(3) (10 pts) Calculate and print the valued and years in which the highest number of housing units were vacant and occupied. Print the results in the following format:  \n",
        "\n",
        "                              Year\tValue\n",
        "\tVacant Housing Units\t  -----   -----\n",
        "\tOccupied Housing Units\t-----   -----\n",
        "\n",
        "(4) (10 pts) Calculate the harmonic mean of the total housing units and print it out. You can find the information about harmonic mean here: https://ncalculators.com/statistics/harmonic-mean-calculator.htm"
      ]
    },
    {
      "cell_type": "code",
      "execution_count": 31,
      "metadata": {
        "id": "lqGYuHBhcsRH"
      },
      "outputs": [],
      "source": [
        "# Question 4-1:\n",
        "#Firstly, I  am reading the csv file.\n",
        "\n",
        "import pandas as pdcsv\n",
        "my_dataframe=pd.read_csv(\"/content/sample_data/Assignment1_denton_housing.csv\",index_col=\"year\")\n",
        "\n",
        "\n"
      ]
    },
    {
      "cell_type": "code",
      "source": [
        "my_dataframe.sort_index(axis=0,ascending=True,inplace=True)\n",
        "my_dataframe2=my_dataframe[my_dataframe.title_field==\"Occupied Housing Units\"].sort_index(axis=0,ascending=True)\n",
        "my_dataframe2=my_dataframe2.reset_index()\n",
        "\n",
        "#Calculating the difference in the number of Occupied Housing Units for the consecutive years.\n",
        "abc1=my_dataframe2[[\"year\",\"value\"]].values\n",
        "\n",
        "#Finding the difference in number of occupied housing units\n",
        "list_new=[]\n",
        "for i in range(len(abc1)-1):\n",
        "  list_new.append(abc1[i+1][1]-abc1[i][1])\n",
        "list_new\n",
        "\n",
        "#Printing the 'difference' value for consecutive years\n",
        "print(\"Consecutive_years\\tDifference_value\")\n",
        "for i in range(2008,2014):\n",
        "  print(i,\"-\",i+1,\"           \",list_new[i-2008])\n",
        "\n",
        "print(\"\\n\")\n",
        "\n",
        "#Printing the ascending order\n",
        "\n",
        "data_2 = [['2008-2009', -795],['2009-2010', 5091],['2010-2011', -303],['2011-2012', 1404],['2012-2013', 1565],['2013-2014', 2622]]  \n",
        "B = pd.DataFrame(data_2, columns = ['Consecutive_years',  'Difference_value'])\n",
        "sort_by_diff = B.sort_values('Difference_value') \n",
        "\n",
        "print(\" Ascending order of the difference value for consecutive years is:\\n\")\n",
        "\n",
        "print(sort_by_diff)"
      ],
      "metadata": {
        "colab": {
          "base_uri": "https://localhost:8080/"
        },
        "id": "4yIb9XbhxxnK",
        "outputId": "d8af5572-24c5-454a-ce8a-2c6f801a8dc6"
      },
      "execution_count": 23,
      "outputs": [
        {
          "output_type": "stream",
          "name": "stdout",
          "text": [
            "Consecutive_years\tDifference_value\n",
            "2008 - 2009             -795\n",
            "2009 - 2010             5091\n",
            "2010 - 2011             -303\n",
            "2011 - 2012             1404\n",
            "2012 - 2013             1565\n",
            "2013 - 2014             2622\n",
            "\n",
            "\n",
            " Ascending order of the difference value for consecutive years is:\n",
            "\n",
            "  Consecutive_years  Difference_value\n",
            "0         2008-2009              -795\n",
            "2         2010-2011              -303\n",
            "3         2011-2012              1404\n",
            "4         2012-2013              1565\n",
            "5         2013-2014              2622\n",
            "1         2009-2010              5091\n"
          ]
        }
      ]
    },
    {
      "cell_type": "code",
      "source": [
        "#Question 4-2:\n",
        "my_dataframe.reset_index(inplace=True)\n",
        "occupied_list=[]\n",
        "vacant_list=[]\n",
        "\n",
        "#Finding the number of vacant and occupied housing units\n",
        "for i in range(2008,2015):\n",
        "  occupied_list.append((my_dataframe[(my_dataframe[\"year\"]==i) & (my_dataframe[\"title_field\"]==\"Occupied Housing Units\")].value.values)/(my_dataframe[(my_dataframe[\"year\"]==i) & (my_dataframe[\"title_field\"]==\"Total Housing Units\")].value.values))\n",
        "  vacant_list.append((my_dataframe[(my_dataframe[\"year\"]==i) & (my_dataframe[\"title_field\"]==\"Vacant Housing Units\")].value.values)/(my_dataframe[(my_dataframe[\"year\"]==i) & (my_dataframe[\"title_field\"]==\"Total Housing Units\")].value.values))\n",
        "\n",
        "#Printing the percentage of housing units which are vacant and occupied\n",
        "print(\"Years\\tVacant Housing Units\\t Occupied Housing Units\")\n",
        "for i in range(2008,2015):\n",
        "  print(i,\"\\t\\t\",\"{0:.0f}%\".format(vacant_list[i-2008][0]*100),\"\\t\\t\",\"{0:.0f}%\".format(occupied_list[i-2008][0]*100))"
      ],
      "metadata": {
        "colab": {
          "base_uri": "https://localhost:8080/"
        },
        "id": "vykI3AGsx10l",
        "outputId": "8b74818c-a3d6-4809-a2f7-c3d0b466d80e"
      },
      "execution_count": 34,
      "outputs": [
        {
          "output_type": "stream",
          "name": "stdout",
          "text": [
            "Years\tVacant Housing Units\t Occupied Housing Units\n",
            "2008 \t\t 11% \t\t 89%\n",
            "2009 \t\t 9% \t\t 91%\n",
            "2010 \t\t 8% \t\t 92%\n",
            "2011 \t\t 9% \t\t 91%\n",
            "2012 \t\t 7% \t\t 93%\n",
            "2013 \t\t 9% \t\t 91%\n",
            "2014 \t\t 6% \t\t 94%\n"
          ]
        }
      ]
    },
    {
      "cell_type": "code",
      "source": [
        "#Question 4-3:\n",
        "\n",
        "new_list=[]\n",
        "new_list1=[]\n",
        "\n",
        "for i in range(2008,2015):\n",
        "  new_list.append(occupied_list[i-2008][0])\n",
        "  new_list1.append(vacant_list[i-2008][0])\n",
        "\n",
        "print(\"\\t\\t\\t Year\\t Value\")\n",
        "\n",
        "for i in enumerate(occupied_list,start=2008):\n",
        "  if(i[1][0]==max(new_list)):\n",
        "    print(\"Occupied Housing Units \\t\",i[0],\"\\t\",(my_dataframe[(my_dataframe.year==i[0])&(my_dataframe.title_field==\"Occupied Housing Units\")].value.values)[0])\n",
        "    break\n",
        "for i in enumerate(vacant_list,start=2008):\n",
        "  if(i[1][0]==max(new_list1)):\n",
        "    print(\"Vacant Housing Units \\t\",i[0],\"\\t\",(my_dataframe[(my_dataframe.year==i[0])&(my_dataframe.title_field==\"Vacant Housing Units\")].value.values)[0])\n",
        "    break\n",
        "  "
      ],
      "metadata": {
        "colab": {
          "base_uri": "https://localhost:8080/"
        },
        "id": "Zr36VeHIx5wp",
        "outputId": "c225fb09-17c3-4f82-b28b-492f7b9ab9d0"
      },
      "execution_count": 35,
      "outputs": [
        {
          "output_type": "stream",
          "name": "stdout",
          "text": [
            "\t\t\t Year\t Value\n",
            "Occupied Housing Units \t 2014 \t 46295\n",
            "Vacant Housing Units \t 2008 \t 4483\n"
          ]
        }
      ]
    },
    {
      "cell_type": "code",
      "source": [
        "#Question 4-4:\n",
        "# To Calculate the harmonic mean of the total housing units and printing it out.\n",
        "# Harmonic mean is reciprocal of arithmetic mean\n",
        "#It is the number of observations, divided by the sum of reciprocals of the observations. \n",
        "\n",
        "\n",
        "from scipy import stats\n",
        "\n",
        "my_dataframe[my_dataframe.title_field==\"Total Housing Units\"].value.values"
      ],
      "metadata": {
        "colab": {
          "base_uri": "https://localhost:8080/"
        },
        "id": "yqiAXUvzx8oS",
        "outputId": "10db8174-5beb-4730-ca61-91a5a5703bb9"
      },
      "execution_count": 36,
      "outputs": [
        {
          "output_type": "execute_result",
          "data": {
            "text/plain": [
              "array([49109, 47888, 45121, 44917, 44642, 39499, 41194])"
            ]
          },
          "metadata": {},
          "execution_count": 36
        }
      ]
    },
    {
      "cell_type": "code",
      "source": [
        "print(\"The harmonic mean of the total housing units:\\n\")\n",
        "stats.hmean(my_dataframe[my_dataframe.title_field==\"Total Housing Units\"].value.values)"
      ],
      "metadata": {
        "colab": {
          "base_uri": "https://localhost:8080/"
        },
        "id": "siVA_KQkx_dg",
        "outputId": "0870379b-d3c0-4bbb-ed02-5b442dec40b0"
      },
      "execution_count": 15,
      "outputs": [
        {
          "output_type": "stream",
          "name": "stdout",
          "text": [
            "The harmonic mean of the total housing units:\n",
            "\n"
          ]
        },
        {
          "output_type": "execute_result",
          "data": {
            "text/plain": [
              "44398.28543969185"
            ]
          },
          "metadata": {},
          "execution_count": 15
        }
      ]
    }
  ],
  "metadata": {
    "colab": {
      "collapsed_sections": [],
      "name": "INFO5731_Assignment_One (1).ipynb _Divya",
      "provenance": [],
      "include_colab_link": true
    },
    "kernelspec": {
      "display_name": "Python 3",
      "language": "python",
      "name": "python3"
    },
    "language_info": {
      "codemirror_mode": {
        "name": "ipython",
        "version": 3
      },
      "file_extension": ".py",
      "mimetype": "text/x-python",
      "name": "python",
      "nbconvert_exporter": "python",
      "pygments_lexer": "ipython3",
      "version": "3.8.5"
    }
  },
  "nbformat": 4,
  "nbformat_minor": 0
}