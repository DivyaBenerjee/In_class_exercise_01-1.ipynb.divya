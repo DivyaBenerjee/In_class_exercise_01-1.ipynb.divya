{
  "cells": [
    {
      "cell_type": "markdown",
      "metadata": {
        "id": "view-in-github"
      },
      "source": [
        "<a href=\"https://colab.research.google.com/github/unt-iialab/INFO5731_Spring2020/blob/master/Assignments/INFO5731_Assignment_Four.ipynb\" target=\"_parent\"><img src=\"https://colab.research.google.com/assets/colab-badge.svg\" alt=\"Open In Colab\"/></a>"
      ]
    },
    {
      "cell_type": "markdown",
      "metadata": {
        "id": "USSdXHuqnwv9"
      },
      "source": [
        "# **INFO5731 Assignment Four**\n",
        "\n",
        "In this assignment, you are required to conduct topic modeling, sentiment analysis based on **the dataset you created from assignment three**."
      ]
    },
    {
      "cell_type": "markdown",
      "metadata": {
        "id": "YWxodXh5n4xF"
      },
      "source": [
        "# **Question 1: Topic Modeling**"
      ]
    },
    {
      "cell_type": "markdown",
      "metadata": {
        "id": "TenBkDJ5n95k"
      },
      "source": [
        "(30 points). This question is designed to help you develop a feel for the way topic modeling works, the connection to the human meanings of documents. Based on the dataset from assignment three, write a python program to **identify the top 10 topics in the dataset**. Before answering this question, please review the materials in lesson 8, especially the code for LDA and LSA. The following information should be reported:\n",
        "\n",
        "(1) Features (top n-gram phrases) used for topic modeling.\n",
        "\n",
        "(2) Top 10 clusters for topic modeling.\n",
        "\n",
        "(3) Summarize and describe the topic for each cluster. \n"
      ]
    },
    {
      "cell_type": "code",
      "execution_count": 2,
      "metadata": {
        "colab": {
          "base_uri": "https://localhost:8080/"
        },
        "id": "PuFPKhC0m1fd",
        "outputId": "74e45226-7279-4911-ff1b-6147a3b8194c"
      },
      "outputs": [
        {
          "output_type": "stream",
          "name": "stdout",
          "text": [
            "Collecting tomotopy\n",
            "  Downloading tomotopy-0.12.2-cp37-cp37m-manylinux_2_12_x86_64.manylinux2010_x86_64.whl (16.3 MB)\n",
            "\u001b[K     |████████████████████████████████| 16.3 MB 468 kB/s \n",
            "\u001b[?25hRequirement already satisfied: numpy>=1.11.0 in /usr/local/lib/python3.7/dist-packages (from tomotopy) (1.21.6)\n",
            "Installing collected packages: tomotopy\n",
            "Successfully installed tomotopy-0.12.2\n"
          ]
        }
      ],
      "source": [
        "# Write your code here\n",
        "!pip install tomotopy\n",
        "\n"
      ]
    },
    {
      "cell_type": "code",
      "source": [
        "!pip install pyLDAvis"
      ],
      "metadata": {
        "colab": {
          "base_uri": "https://localhost:8080/"
        },
        "id": "ODIn-Sfid-OF",
        "outputId": "b62b39f9-3763-4863-bd1d-f3d9408c8ba0"
      },
      "execution_count": 3,
      "outputs": [
        {
          "output_type": "stream",
          "name": "stdout",
          "text": [
            "Collecting pyLDAvis\n",
            "  Downloading pyLDAvis-3.3.1.tar.gz (1.7 MB)\n",
            "\u001b[K     |████████████████████████████████| 1.7 MB 4.6 MB/s \n",
            "\u001b[?25h  Installing build dependencies ... \u001b[?25l\u001b[?25hdone\n",
            "  Getting requirements to build wheel ... \u001b[?25l\u001b[?25hdone\n",
            "  Installing backend dependencies ... \u001b[?25l\u001b[?25hdone\n",
            "    Preparing wheel metadata ... \u001b[?25l\u001b[?25hdone\n",
            "Requirement already satisfied: pandas>=1.2.0 in /usr/local/lib/python3.7/dist-packages (from pyLDAvis) (1.3.5)\n",
            "Collecting funcy\n",
            "  Downloading funcy-1.17-py2.py3-none-any.whl (33 kB)\n",
            "Requirement already satisfied: numpy>=1.20.0 in /usr/local/lib/python3.7/dist-packages (from pyLDAvis) (1.21.6)\n",
            "Requirement already satisfied: setuptools in /usr/local/lib/python3.7/dist-packages (from pyLDAvis) (57.4.0)\n",
            "Requirement already satisfied: gensim in /usr/local/lib/python3.7/dist-packages (from pyLDAvis) (3.6.0)\n",
            "Requirement already satisfied: sklearn in /usr/local/lib/python3.7/dist-packages (from pyLDAvis) (0.0)\n",
            "Requirement already satisfied: numexpr in /usr/local/lib/python3.7/dist-packages (from pyLDAvis) (2.8.1)\n",
            "Requirement already satisfied: joblib in /usr/local/lib/python3.7/dist-packages (from pyLDAvis) (1.1.0)\n",
            "Requirement already satisfied: future in /usr/local/lib/python3.7/dist-packages (from pyLDAvis) (0.16.0)\n",
            "Requirement already satisfied: scipy in /usr/local/lib/python3.7/dist-packages (from pyLDAvis) (1.4.1)\n",
            "Requirement already satisfied: jinja2 in /usr/local/lib/python3.7/dist-packages (from pyLDAvis) (2.11.3)\n",
            "Requirement already satisfied: scikit-learn in /usr/local/lib/python3.7/dist-packages (from pyLDAvis) (1.0.2)\n",
            "Requirement already satisfied: pytz>=2017.3 in /usr/local/lib/python3.7/dist-packages (from pandas>=1.2.0->pyLDAvis) (2022.1)\n",
            "Requirement already satisfied: python-dateutil>=2.7.3 in /usr/local/lib/python3.7/dist-packages (from pandas>=1.2.0->pyLDAvis) (2.8.2)\n",
            "Requirement already satisfied: six>=1.5 in /usr/local/lib/python3.7/dist-packages (from python-dateutil>=2.7.3->pandas>=1.2.0->pyLDAvis) (1.15.0)\n",
            "Requirement already satisfied: smart-open>=1.2.1 in /usr/local/lib/python3.7/dist-packages (from gensim->pyLDAvis) (6.0.0)\n",
            "Requirement already satisfied: MarkupSafe>=0.23 in /usr/local/lib/python3.7/dist-packages (from jinja2->pyLDAvis) (2.0.1)\n",
            "Requirement already satisfied: packaging in /usr/local/lib/python3.7/dist-packages (from numexpr->pyLDAvis) (21.3)\n",
            "Requirement already satisfied: pyparsing!=3.0.5,>=2.0.2 in /usr/local/lib/python3.7/dist-packages (from packaging->numexpr->pyLDAvis) (3.0.8)\n",
            "Requirement already satisfied: threadpoolctl>=2.0.0 in /usr/local/lib/python3.7/dist-packages (from scikit-learn->pyLDAvis) (3.1.0)\n",
            "Building wheels for collected packages: pyLDAvis\n",
            "  Building wheel for pyLDAvis (PEP 517) ... \u001b[?25l\u001b[?25hdone\n",
            "  Created wheel for pyLDAvis: filename=pyLDAvis-3.3.1-py2.py3-none-any.whl size=136898 sha256=13c013c26e7fd74565f3d9e60888a03f8447cf6f083620afc5201269e69f80de\n",
            "  Stored in directory: /root/.cache/pip/wheels/c9/21/f6/17bcf2667e8a68532ba2fbf6d5c72fdf4c7f7d9abfa4852d2f\n",
            "Successfully built pyLDAvis\n",
            "Installing collected packages: funcy, pyLDAvis\n",
            "Successfully installed funcy-1.17 pyLDAvis-3.3.1\n"
          ]
        }
      ]
    },
    {
      "cell_type": "code",
      "source": [
        "import pyLDAvis.gensim_models as gensim"
      ],
      "metadata": {
        "colab": {
          "base_uri": "https://localhost:8080/"
        },
        "id": "jftiOYJNfa0W",
        "outputId": "006911e1-92f8-40b5-b8b3-93aa5415e0f4"
      },
      "execution_count": 4,
      "outputs": [
        {
          "output_type": "stream",
          "name": "stderr",
          "text": [
            "/usr/local/lib/python3.7/dist-packages/past/types/oldstr.py:5: DeprecationWarning: Using or importing the ABCs from 'collections' instead of from 'collections.abc' is deprecated since Python 3.3,and in 3.9 it will stop working\n",
            "  from collections import Iterable\n",
            "/usr/local/lib/python3.7/dist-packages/past/builtins/misc.py:4: DeprecationWarning: Using or importing the ABCs from 'collections' instead of from 'collections.abc' is deprecated since Python 3.3,and in 3.9 it will stop working\n",
            "  from collections import Mapping\n",
            "/usr/local/lib/python3.7/dist-packages/scipy/fft/__init__.py:97: DeprecationWarning: The module numpy.dual is deprecated.  Instead of using dual, use the functions directly from numpy or scipy.\n",
            "  from numpy.dual import register_func\n",
            "/usr/local/lib/python3.7/dist-packages/scipy/sparse/sputils.py:17: DeprecationWarning: `np.typeDict` is a deprecated alias for `np.sctypeDict`.\n",
            "  supported_dtypes = [np.typeDict[x] for x in supported_dtypes]\n",
            "/usr/local/lib/python3.7/dist-packages/scipy/sparse/sputils.py:17: DeprecationWarning: `np.typeDict` is a deprecated alias for `np.sctypeDict`.\n",
            "  supported_dtypes = [np.typeDict[x] for x in supported_dtypes]\n",
            "/usr/local/lib/python3.7/dist-packages/scipy/sparse/sputils.py:17: DeprecationWarning: `np.typeDict` is a deprecated alias for `np.sctypeDict`.\n",
            "  supported_dtypes = [np.typeDict[x] for x in supported_dtypes]\n",
            "/usr/local/lib/python3.7/dist-packages/scipy/sparse/sputils.py:17: DeprecationWarning: `np.typeDict` is a deprecated alias for `np.sctypeDict`.\n",
            "  supported_dtypes = [np.typeDict[x] for x in supported_dtypes]\n",
            "/usr/local/lib/python3.7/dist-packages/scipy/sparse/sputils.py:17: DeprecationWarning: `np.typeDict` is a deprecated alias for `np.sctypeDict`.\n",
            "  supported_dtypes = [np.typeDict[x] for x in supported_dtypes]\n",
            "/usr/local/lib/python3.7/dist-packages/scipy/sparse/sputils.py:17: DeprecationWarning: `np.typeDict` is a deprecated alias for `np.sctypeDict`.\n",
            "  supported_dtypes = [np.typeDict[x] for x in supported_dtypes]\n",
            "/usr/local/lib/python3.7/dist-packages/scipy/sparse/sputils.py:17: DeprecationWarning: `np.typeDict` is a deprecated alias for `np.sctypeDict`.\n",
            "  supported_dtypes = [np.typeDict[x] for x in supported_dtypes]\n",
            "/usr/local/lib/python3.7/dist-packages/scipy/sparse/sputils.py:17: DeprecationWarning: `np.typeDict` is a deprecated alias for `np.sctypeDict`.\n",
            "  supported_dtypes = [np.typeDict[x] for x in supported_dtypes]\n",
            "/usr/local/lib/python3.7/dist-packages/scipy/sparse/sputils.py:17: DeprecationWarning: `np.typeDict` is a deprecated alias for `np.sctypeDict`.\n",
            "  supported_dtypes = [np.typeDict[x] for x in supported_dtypes]\n",
            "/usr/local/lib/python3.7/dist-packages/scipy/sparse/sputils.py:17: DeprecationWarning: `np.typeDict` is a deprecated alias for `np.sctypeDict`.\n",
            "  supported_dtypes = [np.typeDict[x] for x in supported_dtypes]\n",
            "/usr/local/lib/python3.7/dist-packages/scipy/sparse/sputils.py:17: DeprecationWarning: `np.typeDict` is a deprecated alias for `np.sctypeDict`.\n",
            "  supported_dtypes = [np.typeDict[x] for x in supported_dtypes]\n",
            "/usr/local/lib/python3.7/dist-packages/scipy/sparse/sputils.py:17: DeprecationWarning: `np.typeDict` is a deprecated alias for `np.sctypeDict`.\n",
            "  supported_dtypes = [np.typeDict[x] for x in supported_dtypes]\n",
            "/usr/local/lib/python3.7/dist-packages/scipy/sparse/sputils.py:17: DeprecationWarning: `np.typeDict` is a deprecated alias for `np.sctypeDict`.\n",
            "  supported_dtypes = [np.typeDict[x] for x in supported_dtypes]\n",
            "/usr/local/lib/python3.7/dist-packages/scipy/sparse/sputils.py:17: DeprecationWarning: `np.typeDict` is a deprecated alias for `np.sctypeDict`.\n",
            "  supported_dtypes = [np.typeDict[x] for x in supported_dtypes]\n",
            "/usr/local/lib/python3.7/dist-packages/scipy/sparse/sputils.py:17: DeprecationWarning: `np.typeDict` is a deprecated alias for `np.sctypeDict`.\n",
            "  supported_dtypes = [np.typeDict[x] for x in supported_dtypes]\n",
            "/usr/local/lib/python3.7/dist-packages/scipy/special/orthogonal.py:81: DeprecationWarning: `np.int` is a deprecated alias for the builtin `int`. To silence this warning, use `int` by itself. Doing this will not modify any behavior and is safe. When replacing `np.int`, you may wish to use e.g. `np.int64` or `np.int32` to specify the precision. If you wish to review your current use, check the release note link for additional information.\n",
            "Deprecated in NumPy 1.20; for more details and guidance: https://numpy.org/devdocs/release/1.20.0-notes.html#deprecations\n",
            "  from numpy import (exp, inf, pi, sqrt, floor, sin, cos, around, int,\n",
            "/usr/local/lib/python3.7/dist-packages/scipy/special/orthogonal.py:81: DeprecationWarning: `np.int` is a deprecated alias for the builtin `int`. To silence this warning, use `int` by itself. Doing this will not modify any behavior and is safe. When replacing `np.int`, you may wish to use e.g. `np.int64` or `np.int32` to specify the precision. If you wish to review your current use, check the release note link for additional information.\n",
            "Deprecated in NumPy 1.20; for more details and guidance: https://numpy.org/devdocs/release/1.20.0-notes.html#deprecations\n",
            "  from numpy import (exp, inf, pi, sqrt, floor, sin, cos, around, int,\n"
          ]
        }
      ]
    },
    {
      "cell_type": "code",
      "source": [
        "#Importing necessary libraries\n",
        "\n",
        "import json\n",
        "import zipfile\n",
        "import glob\n",
        "import pandas as pd\n",
        "import re\n",
        "import nltk\n",
        "nltk.download('stopwords')\n",
        "from nltk.corpus import stopwords\n",
        "words = stopwords.words('english')\n",
        "from textblob import Word\n",
        "from textblob import TextBlob\n",
        "nltk.download('punkt')\n",
        "nltk.download('wordnet')\n",
        "import nltk\n",
        "nltk.download('stopwords')\n",
        "from nltk.corpus import stopwords\n",
        "import spacy\n",
        "import os\n",
        "import logging\n",
        "import nltk\n",
        "import numpy as np\n",
        "import matplotlib.pyplot as plt\n",
        "import tomotopy as tp\n",
        "import numpy as np\n",
        "import pyLDAvis\n",
        "import gensim\n",
        "import gensim.corpora as corpora\n",
        "from gensim.utils import simple_preprocess\n",
        "from gensim.models import CoherenceModel\n",
        "import re\n",
        "import gensim\n",
        "import gensim.corpora as corpora\n",
        "from gensim.utils import simple_preprocess\n",
        "from gensim.models import CoherenceModel\n",
        "import pyLDAvis\n",
        "import pyLDAvis.gensim  \n",
        "stop_words = stopwords.words('english')\n",
        "stop_words.extend(['from', 'subject', 're', 'edu', 'use'])"
      ],
      "metadata": {
        "colab": {
          "base_uri": "https://localhost:8080/",
          "height": 703
        },
        "id": "JM5cG9ePeBu4",
        "outputId": "ecd62ef5-0cf1-4f25-c7e3-8ce1cfe9c667"
      },
      "execution_count": 5,
      "outputs": [
        {
          "output_type": "stream",
          "name": "stderr",
          "text": [
            "/usr/local/lib/python3.7/dist-packages/nltk/decorators.py:70: DeprecationWarning: `formatargspec` is deprecated since Python 3.5. Use `signature` and the `Signature` object directly\n",
            "  formatvalue=lambda value: \"\")[1:-1]\n",
            "/usr/local/lib/python3.7/dist-packages/scipy/io/matlab/mio5.py:98: DeprecationWarning: `np.bool` is a deprecated alias for the builtin `bool`. To silence this warning, use `bool` by itself. Doing this will not modify any behavior and is safe. If you specifically wanted the numpy scalar type, use `np.bool_` here.\n",
            "Deprecated in NumPy 1.20; for more details and guidance: https://numpy.org/devdocs/release/1.20.0-notes.html#deprecations\n",
            "  from .mio5_utils import VarReader5\n"
          ]
        },
        {
          "output_type": "stream",
          "name": "stdout",
          "text": [
            "[nltk_data] Downloading package stopwords to /root/nltk_data...\n",
            "[nltk_data]   Unzipping corpora/stopwords.zip.\n",
            "[nltk_data] Downloading package punkt to /root/nltk_data...\n",
            "[nltk_data]   Unzipping tokenizers/punkt.zip.\n",
            "[nltk_data] Downloading package wordnet to /root/nltk_data...\n",
            "[nltk_data]   Unzipping corpora/wordnet.zip.\n",
            "[nltk_data] Downloading package stopwords to /root/nltk_data...\n",
            "[nltk_data]   Package stopwords is already up-to-date!\n"
          ]
        },
        {
          "output_type": "stream",
          "name": "stderr",
          "text": [
            "/usr/local/lib/python3.7/dist-packages/scipy/sparse/sparsetools.py:21: DeprecationWarning: `scipy.sparse.sparsetools` is deprecated!\n",
            "scipy.sparse.sparsetools is a private module for scipy.sparse, and should not be used.\n",
            "  _deprecated()\n"
          ]
        },
        {
          "output_type": "error",
          "ename": "ModuleNotFoundError",
          "evalue": "ignored",
          "traceback": [
            "\u001b[0;31m---------------------------------------------------------------------------\u001b[0m",
            "\u001b[0;31mModuleNotFoundError\u001b[0m                       Traceback (most recent call last)",
            "\u001b[0;32m<ipython-input-5-b30b7d2b6e4b>\u001b[0m in \u001b[0;36m<module>\u001b[0;34m()\u001b[0m\n\u001b[1;32m     36\u001b[0m \u001b[0;32mfrom\u001b[0m \u001b[0mgensim\u001b[0m\u001b[0;34m.\u001b[0m\u001b[0mmodels\u001b[0m \u001b[0;32mimport\u001b[0m \u001b[0mCoherenceModel\u001b[0m\u001b[0;34m\u001b[0m\u001b[0;34m\u001b[0m\u001b[0m\n\u001b[1;32m     37\u001b[0m \u001b[0;32mimport\u001b[0m \u001b[0mpyLDAvis\u001b[0m\u001b[0;34m\u001b[0m\u001b[0;34m\u001b[0m\u001b[0m\n\u001b[0;32m---> 38\u001b[0;31m \u001b[0;32mimport\u001b[0m \u001b[0mpyLDAvis\u001b[0m\u001b[0;34m.\u001b[0m\u001b[0mgensim\u001b[0m\u001b[0;34m\u001b[0m\u001b[0;34m\u001b[0m\u001b[0m\n\u001b[0m\u001b[1;32m     39\u001b[0m \u001b[0mstop_words\u001b[0m \u001b[0;34m=\u001b[0m \u001b[0mstopwords\u001b[0m\u001b[0;34m.\u001b[0m\u001b[0mwords\u001b[0m\u001b[0;34m(\u001b[0m\u001b[0;34m'english'\u001b[0m\u001b[0;34m)\u001b[0m\u001b[0;34m\u001b[0m\u001b[0;34m\u001b[0m\u001b[0m\n\u001b[1;32m     40\u001b[0m \u001b[0mstop_words\u001b[0m\u001b[0;34m.\u001b[0m\u001b[0mextend\u001b[0m\u001b[0;34m(\u001b[0m\u001b[0;34m[\u001b[0m\u001b[0;34m'from'\u001b[0m\u001b[0;34m,\u001b[0m \u001b[0;34m'subject'\u001b[0m\u001b[0;34m,\u001b[0m \u001b[0;34m're'\u001b[0m\u001b[0;34m,\u001b[0m \u001b[0;34m'edu'\u001b[0m\u001b[0;34m,\u001b[0m \u001b[0;34m'use'\u001b[0m\u001b[0;34m]\u001b[0m\u001b[0;34m)\u001b[0m\u001b[0;34m\u001b[0m\u001b[0;34m\u001b[0m\u001b[0m\n",
            "\u001b[0;31mModuleNotFoundError\u001b[0m: No module named 'pyLDAvis.gensim'",
            "",
            "\u001b[0;31m---------------------------------------------------------------------------\u001b[0;32m\nNOTE: If your import is failing due to a missing package, you can\nmanually install dependencies using either !pip or !apt.\n\nTo view examples of installing some common dependencies, click the\n\"Open Examples\" button below.\n\u001b[0;31m---------------------------------------------------------------------------\u001b[0m\n"
          ],
          "errorDetails": {
            "actions": [
              {
                "action": "open_url",
                "actionText": "Open Examples",
                "url": "/notebooks/snippets/importing_libraries.ipynb"
              }
            ]
          }
        }
      ]
    },
    {
      "cell_type": "code",
      "source": [
        "import csv"
      ],
      "metadata": {
        "id": "ptR5tmnrh3gw"
      },
      "execution_count": 6,
      "outputs": []
    },
    {
      "cell_type": "code",
      "source": [
        "import requests\n",
        "import csv\n",
        "from bs4 import BeautifulSoup\n",
        "l1=[i*10 for i in range(1,11)]\n",
        "l2=[]\n",
        "for i in l1:\n",
        "  URL = 'https://citeseerx.ist.psu.edu/search?q=natural+language+processing&t=doc&sort=rlv&start={}'.format(i)\n",
        "  page = requests.get(URL)\n",
        "  soup = BeautifulSoup(page.content, 'html.parser')\n",
        "  for i in soup.find_all(\"div\",{\"class\":\"snippet\"}):\n",
        "    l2.append(i.text)\n",
        "import pandas as pd\n",
        "df=pd.DataFrame({\"Abstract\":l2})\n",
        "df.to_csv(\"my1csv.csv\")\n",
        "df"
      ],
      "metadata": {
        "colab": {
          "base_uri": "https://localhost:8080/",
          "height": 424
        },
        "id": "oZBKZ-pDfGIB",
        "outputId": "89b60a14-bd41-4cf0-ae6c-12295f51af0c"
      },
      "execution_count": 7,
      "outputs": [
        {
          "output_type": "execute_result",
          "data": {
            "text/plain": [
              "                                             Abstract\n",
              "0   \"... Introduction  Statistical natural languag...\n",
              "1   \"... The paper summarizes the essential proper...\n",
              "2   \"... ABSTRACT: Language is way of communicatin...\n",
              "3   \"... We report experiments on the use of stand...\n",
              "4   \"... this paper, we will describe a simple rul...\n",
              "..                                                ...\n",
              "95                      \"...   9. Bibliography   ...\"\n",
              "96  \"... Applying Natural Language Processing tech...\n",
              "97  \"... Examples of natural languages are Chinese...\n",
              "98  \"... A number of powerful modelling techniques...\n",
              "99  \"... A semi-automated approach for the design ...\n",
              "\n",
              "[100 rows x 1 columns]"
            ],
            "text/html": [
              "\n",
              "  <div id=\"df-1620ca07-f7aa-4458-8e90-de165913a91c\">\n",
              "    <div class=\"colab-df-container\">\n",
              "      <div>\n",
              "<style scoped>\n",
              "    .dataframe tbody tr th:only-of-type {\n",
              "        vertical-align: middle;\n",
              "    }\n",
              "\n",
              "    .dataframe tbody tr th {\n",
              "        vertical-align: top;\n",
              "    }\n",
              "\n",
              "    .dataframe thead th {\n",
              "        text-align: right;\n",
              "    }\n",
              "</style>\n",
              "<table border=\"1\" class=\"dataframe\">\n",
              "  <thead>\n",
              "    <tr style=\"text-align: right;\">\n",
              "      <th></th>\n",
              "      <th>Abstract</th>\n",
              "    </tr>\n",
              "  </thead>\n",
              "  <tbody>\n",
              "    <tr>\n",
              "      <th>0</th>\n",
              "      <td>\"... Introduction  Statistical natural languag...</td>\n",
              "    </tr>\n",
              "    <tr>\n",
              "      <th>1</th>\n",
              "      <td>\"... The paper summarizes the essential proper...</td>\n",
              "    </tr>\n",
              "    <tr>\n",
              "      <th>2</th>\n",
              "      <td>\"... ABSTRACT: Language is way of communicatin...</td>\n",
              "    </tr>\n",
              "    <tr>\n",
              "      <th>3</th>\n",
              "      <td>\"... We report experiments on the use of stand...</td>\n",
              "    </tr>\n",
              "    <tr>\n",
              "      <th>4</th>\n",
              "      <td>\"... this paper, we will describe a simple rul...</td>\n",
              "    </tr>\n",
              "    <tr>\n",
              "      <th>...</th>\n",
              "      <td>...</td>\n",
              "    </tr>\n",
              "    <tr>\n",
              "      <th>95</th>\n",
              "      <td>\"...   9. Bibliography   ...\"</td>\n",
              "    </tr>\n",
              "    <tr>\n",
              "      <th>96</th>\n",
              "      <td>\"... Applying Natural Language Processing tech...</td>\n",
              "    </tr>\n",
              "    <tr>\n",
              "      <th>97</th>\n",
              "      <td>\"... Examples of natural languages are Chinese...</td>\n",
              "    </tr>\n",
              "    <tr>\n",
              "      <th>98</th>\n",
              "      <td>\"... A number of powerful modelling techniques...</td>\n",
              "    </tr>\n",
              "    <tr>\n",
              "      <th>99</th>\n",
              "      <td>\"... A semi-automated approach for the design ...</td>\n",
              "    </tr>\n",
              "  </tbody>\n",
              "</table>\n",
              "<p>100 rows × 1 columns</p>\n",
              "</div>\n",
              "      <button class=\"colab-df-convert\" onclick=\"convertToInteractive('df-1620ca07-f7aa-4458-8e90-de165913a91c')\"\n",
              "              title=\"Convert this dataframe to an interactive table.\"\n",
              "              style=\"display:none;\">\n",
              "        \n",
              "  <svg xmlns=\"http://www.w3.org/2000/svg\" height=\"24px\"viewBox=\"0 0 24 24\"\n",
              "       width=\"24px\">\n",
              "    <path d=\"M0 0h24v24H0V0z\" fill=\"none\"/>\n",
              "    <path d=\"M18.56 5.44l.94 2.06.94-2.06 2.06-.94-2.06-.94-.94-2.06-.94 2.06-2.06.94zm-11 1L8.5 8.5l.94-2.06 2.06-.94-2.06-.94L8.5 2.5l-.94 2.06-2.06.94zm10 10l.94 2.06.94-2.06 2.06-.94-2.06-.94-.94-2.06-.94 2.06-2.06.94z\"/><path d=\"M17.41 7.96l-1.37-1.37c-.4-.4-.92-.59-1.43-.59-.52 0-1.04.2-1.43.59L10.3 9.45l-7.72 7.72c-.78.78-.78 2.05 0 2.83L4 21.41c.39.39.9.59 1.41.59.51 0 1.02-.2 1.41-.59l7.78-7.78 2.81-2.81c.8-.78.8-2.07 0-2.86zM5.41 20L4 18.59l7.72-7.72 1.47 1.35L5.41 20z\"/>\n",
              "  </svg>\n",
              "      </button>\n",
              "      \n",
              "  <style>\n",
              "    .colab-df-container {\n",
              "      display:flex;\n",
              "      flex-wrap:wrap;\n",
              "      gap: 12px;\n",
              "    }\n",
              "\n",
              "    .colab-df-convert {\n",
              "      background-color: #E8F0FE;\n",
              "      border: none;\n",
              "      border-radius: 50%;\n",
              "      cursor: pointer;\n",
              "      display: none;\n",
              "      fill: #1967D2;\n",
              "      height: 32px;\n",
              "      padding: 0 0 0 0;\n",
              "      width: 32px;\n",
              "    }\n",
              "\n",
              "    .colab-df-convert:hover {\n",
              "      background-color: #E2EBFA;\n",
              "      box-shadow: 0px 1px 2px rgba(60, 64, 67, 0.3), 0px 1px 3px 1px rgba(60, 64, 67, 0.15);\n",
              "      fill: #174EA6;\n",
              "    }\n",
              "\n",
              "    [theme=dark] .colab-df-convert {\n",
              "      background-color: #3B4455;\n",
              "      fill: #D2E3FC;\n",
              "    }\n",
              "\n",
              "    [theme=dark] .colab-df-convert:hover {\n",
              "      background-color: #434B5C;\n",
              "      box-shadow: 0px 1px 3px 1px rgba(0, 0, 0, 0.15);\n",
              "      filter: drop-shadow(0px 1px 2px rgba(0, 0, 0, 0.3));\n",
              "      fill: #FFFFFF;\n",
              "    }\n",
              "  </style>\n",
              "\n",
              "      <script>\n",
              "        const buttonEl =\n",
              "          document.querySelector('#df-1620ca07-f7aa-4458-8e90-de165913a91c button.colab-df-convert');\n",
              "        buttonEl.style.display =\n",
              "          google.colab.kernel.accessAllowed ? 'block' : 'none';\n",
              "\n",
              "        async function convertToInteractive(key) {\n",
              "          const element = document.querySelector('#df-1620ca07-f7aa-4458-8e90-de165913a91c');\n",
              "          const dataTable =\n",
              "            await google.colab.kernel.invokeFunction('convertToInteractive',\n",
              "                                                     [key], {});\n",
              "          if (!dataTable) return;\n",
              "\n",
              "          const docLinkHtml = 'Like what you see? Visit the ' +\n",
              "            '<a target=\"_blank\" href=https://colab.research.google.com/notebooks/data_table.ipynb>data table notebook</a>'\n",
              "            + ' to learn more about interactive tables.';\n",
              "          element.innerHTML = '';\n",
              "          dataTable['output_type'] = 'display_data';\n",
              "          await google.colab.output.renderOutput(dataTable, element);\n",
              "          const docLink = document.createElement('div');\n",
              "          docLink.innerHTML = docLinkHtml;\n",
              "          element.appendChild(docLink);\n",
              "        }\n",
              "      </script>\n",
              "    </div>\n",
              "  </div>\n",
              "  "
            ]
          },
          "metadata": {},
          "execution_count": 7
        }
      ]
    },
    {
      "cell_type": "code",
      "source": [
        "# Data cleaning\n",
        "\n",
        "#lower\n",
        "df['Abstract']=df['Abstract'].map(lambda x: x.lower())\n",
        "#removing punctutations\n",
        "df['Abstract']=df['Abstract'].map(lambda x: re.sub('[?|!|\\'|\"|#]', '', x))\n",
        "#Lemmitizing\n",
        "df['Abstract']=df['Abstract'].apply(lambda x:\" \".join(x for x in x.split() if x not in words))\n",
        "df['Abstract']=df['Abstract'].apply(lambda x: \" \".join([Word(word).lemmatize() for word in x.split()]))\n",
        "df.head(10)"
      ],
      "metadata": {
        "colab": {
          "base_uri": "https://localhost:8080/",
          "height": 363
        },
        "id": "5MrDDalofrte",
        "outputId": "e98c0d70-c99e-4b2f-ba69-1b5254de6fb1"
      },
      "execution_count": 8,
      "outputs": [
        {
          "output_type": "execute_result",
          "data": {
            "text/plain": [
              "                                            Abstract\n",
              "0  ... introduction statistical natural language ...\n",
              "1  ... paper summarizes essential property docume...\n",
              "2  ... abstract: language way communicating word ...\n",
              "3  ... report experiment use standard natural lan...\n",
              "4  ... paper, describe simple rule-based approach...\n",
              "5  ... paper focus connectionist model natural la...\n",
              "6  ... abstract: article explores possibility con...\n",
              "7  ... paper (see [schank 86] theoretical discuss...\n",
              "8  ... objective provide overview tutorial natura...\n",
              "9  ... paper briefly describes current implementa..."
            ],
            "text/html": [
              "\n",
              "  <div id=\"df-02d47dab-18ff-483c-833f-28596bcb032a\">\n",
              "    <div class=\"colab-df-container\">\n",
              "      <div>\n",
              "<style scoped>\n",
              "    .dataframe tbody tr th:only-of-type {\n",
              "        vertical-align: middle;\n",
              "    }\n",
              "\n",
              "    .dataframe tbody tr th {\n",
              "        vertical-align: top;\n",
              "    }\n",
              "\n",
              "    .dataframe thead th {\n",
              "        text-align: right;\n",
              "    }\n",
              "</style>\n",
              "<table border=\"1\" class=\"dataframe\">\n",
              "  <thead>\n",
              "    <tr style=\"text-align: right;\">\n",
              "      <th></th>\n",
              "      <th>Abstract</th>\n",
              "    </tr>\n",
              "  </thead>\n",
              "  <tbody>\n",
              "    <tr>\n",
              "      <th>0</th>\n",
              "      <td>... introduction statistical natural language ...</td>\n",
              "    </tr>\n",
              "    <tr>\n",
              "      <th>1</th>\n",
              "      <td>... paper summarizes essential property docume...</td>\n",
              "    </tr>\n",
              "    <tr>\n",
              "      <th>2</th>\n",
              "      <td>... abstract: language way communicating word ...</td>\n",
              "    </tr>\n",
              "    <tr>\n",
              "      <th>3</th>\n",
              "      <td>... report experiment use standard natural lan...</td>\n",
              "    </tr>\n",
              "    <tr>\n",
              "      <th>4</th>\n",
              "      <td>... paper, describe simple rule-based approach...</td>\n",
              "    </tr>\n",
              "    <tr>\n",
              "      <th>5</th>\n",
              "      <td>... paper focus connectionist model natural la...</td>\n",
              "    </tr>\n",
              "    <tr>\n",
              "      <th>6</th>\n",
              "      <td>... abstract: article explores possibility con...</td>\n",
              "    </tr>\n",
              "    <tr>\n",
              "      <th>7</th>\n",
              "      <td>... paper (see [schank 86] theoretical discuss...</td>\n",
              "    </tr>\n",
              "    <tr>\n",
              "      <th>8</th>\n",
              "      <td>... objective provide overview tutorial natura...</td>\n",
              "    </tr>\n",
              "    <tr>\n",
              "      <th>9</th>\n",
              "      <td>... paper briefly describes current implementa...</td>\n",
              "    </tr>\n",
              "  </tbody>\n",
              "</table>\n",
              "</div>\n",
              "      <button class=\"colab-df-convert\" onclick=\"convertToInteractive('df-02d47dab-18ff-483c-833f-28596bcb032a')\"\n",
              "              title=\"Convert this dataframe to an interactive table.\"\n",
              "              style=\"display:none;\">\n",
              "        \n",
              "  <svg xmlns=\"http://www.w3.org/2000/svg\" height=\"24px\"viewBox=\"0 0 24 24\"\n",
              "       width=\"24px\">\n",
              "    <path d=\"M0 0h24v24H0V0z\" fill=\"none\"/>\n",
              "    <path d=\"M18.56 5.44l.94 2.06.94-2.06 2.06-.94-2.06-.94-.94-2.06-.94 2.06-2.06.94zm-11 1L8.5 8.5l.94-2.06 2.06-.94-2.06-.94L8.5 2.5l-.94 2.06-2.06.94zm10 10l.94 2.06.94-2.06 2.06-.94-2.06-.94-.94-2.06-.94 2.06-2.06.94z\"/><path d=\"M17.41 7.96l-1.37-1.37c-.4-.4-.92-.59-1.43-.59-.52 0-1.04.2-1.43.59L10.3 9.45l-7.72 7.72c-.78.78-.78 2.05 0 2.83L4 21.41c.39.39.9.59 1.41.59.51 0 1.02-.2 1.41-.59l7.78-7.78 2.81-2.81c.8-.78.8-2.07 0-2.86zM5.41 20L4 18.59l7.72-7.72 1.47 1.35L5.41 20z\"/>\n",
              "  </svg>\n",
              "      </button>\n",
              "      \n",
              "  <style>\n",
              "    .colab-df-container {\n",
              "      display:flex;\n",
              "      flex-wrap:wrap;\n",
              "      gap: 12px;\n",
              "    }\n",
              "\n",
              "    .colab-df-convert {\n",
              "      background-color: #E8F0FE;\n",
              "      border: none;\n",
              "      border-radius: 50%;\n",
              "      cursor: pointer;\n",
              "      display: none;\n",
              "      fill: #1967D2;\n",
              "      height: 32px;\n",
              "      padding: 0 0 0 0;\n",
              "      width: 32px;\n",
              "    }\n",
              "\n",
              "    .colab-df-convert:hover {\n",
              "      background-color: #E2EBFA;\n",
              "      box-shadow: 0px 1px 2px rgba(60, 64, 67, 0.3), 0px 1px 3px 1px rgba(60, 64, 67, 0.15);\n",
              "      fill: #174EA6;\n",
              "    }\n",
              "\n",
              "    [theme=dark] .colab-df-convert {\n",
              "      background-color: #3B4455;\n",
              "      fill: #D2E3FC;\n",
              "    }\n",
              "\n",
              "    [theme=dark] .colab-df-convert:hover {\n",
              "      background-color: #434B5C;\n",
              "      box-shadow: 0px 1px 3px 1px rgba(0, 0, 0, 0.15);\n",
              "      filter: drop-shadow(0px 1px 2px rgba(0, 0, 0, 0.3));\n",
              "      fill: #FFFFFF;\n",
              "    }\n",
              "  </style>\n",
              "\n",
              "      <script>\n",
              "        const buttonEl =\n",
              "          document.querySelector('#df-02d47dab-18ff-483c-833f-28596bcb032a button.colab-df-convert');\n",
              "        buttonEl.style.display =\n",
              "          google.colab.kernel.accessAllowed ? 'block' : 'none';\n",
              "\n",
              "        async function convertToInteractive(key) {\n",
              "          const element = document.querySelector('#df-02d47dab-18ff-483c-833f-28596bcb032a');\n",
              "          const dataTable =\n",
              "            await google.colab.kernel.invokeFunction('convertToInteractive',\n",
              "                                                     [key], {});\n",
              "          if (!dataTable) return;\n",
              "\n",
              "          const docLinkHtml = 'Like what you see? Visit the ' +\n",
              "            '<a target=\"_blank\" href=https://colab.research.google.com/notebooks/data_table.ipynb>data table notebook</a>'\n",
              "            + ' to learn more about interactive tables.';\n",
              "          element.innerHTML = '';\n",
              "          dataTable['output_type'] = 'display_data';\n",
              "          await google.colab.output.renderOutput(dataTable, element);\n",
              "          const docLink = document.createElement('div');\n",
              "          docLink.innerHTML = docLinkHtml;\n",
              "          element.appendChild(docLink);\n",
              "        }\n",
              "      </script>\n",
              "    </div>\n",
              "  </div>\n",
              "  "
            ]
          },
          "metadata": {},
          "execution_count": 8
        }
      ]
    },
    {
      "cell_type": "code",
      "source": [
        "#Topic Modelling using Supervised LDA algorithm\n",
        "# I am going to identify the top 20 topics (with 15 words for each topic) in the given dataset\n",
        "\n",
        "\n",
        "modelSLDA = tp.SLDAModel(k=10) \n",
        "for i in df['Abstract']:\n",
        "    modelSLDA.add_doc(i.split())\n",
        "for i in range(0, 100, 10):\n",
        "    modelSLDA.train(10)\n",
        "    print('Iteration: {}\\tLog-likelihood: {}'.format(i, modelSLDA.ll_per_word))\n",
        "for k in range(modelSLDA.k):\n",
        "    print('Top 10 words of topic #{}'.format(k))\n",
        "    print(modelSLDA.get_topic_words(k, top_n=10))\n",
        "\n",
        "modelSLDA.summary()"
      ],
      "metadata": {
        "colab": {
          "base_uri": "https://localhost:8080/"
        },
        "id": "__akojeofrw_",
        "outputId": "4a904e39-7529-4699-bfef-98ff67066b31"
      },
      "execution_count": 9,
      "outputs": [
        {
          "output_type": "stream",
          "name": "stdout",
          "text": [
            "Iteration: 0\tLog-likelihood: -8.247667300526667\n",
            "Iteration: 10\tLog-likelihood: -8.228915766353094\n",
            "Iteration: 20\tLog-likelihood: -8.165187267504066\n",
            "Iteration: 30\tLog-likelihood: -8.1151031865031\n",
            "Iteration: 40\tLog-likelihood: -8.116315724823293\n",
            "Iteration: 50\tLog-likelihood: -8.101505047400023\n",
            "Iteration: 60\tLog-likelihood: -8.064437350028347\n",
            "Iteration: 70\tLog-likelihood: -8.065238123158395\n",
            "Iteration: 80\tLog-likelihood: -8.075291884709385\n",
            "Iteration: 90\tLog-likelihood: -8.042090809314594\n",
            "Top 10 words of topic #0\n",
            "[('...', 0.16474513709545135), ('paper', 0.047720182687044144), ('several', 0.030383149161934853), ('abstract:', 0.026048891246318817), ('developed', 0.02171463333070278), ('basic', 0.017380375415086746), ('86]', 0.013046116568148136), ('brief', 0.013046116568148136), ('need', 0.013046116568148136), ('go', 0.0087118586525321)]\n",
            "Top 10 words of topic #1\n",
            "[('...', 0.13301566243171692), ('retrieval', 0.036975473165512085), ('document', 0.036975473165512085), ('used', 0.03328162059187889), ('method', 0.029587766155600548), ('information', 0.018506206572055817), ('statistical', 0.018506206572055817), ('paper,', 0.018506206572055817), ('among', 0.014812353067100048), ('processing.', 0.014812353067100048)]\n",
            "Top 10 words of topic #2\n",
            "[('two', 0.03822331503033638), ('research', 0.03822331503033638), ('many', 0.02973867394030094), ('feature', 0.02973867394030094), ('result', 0.025496352463960648), ('voice', 0.021254030987620354), ('technique', 0.021254030987620354), ('recognition', 0.021254030987620354), ('recent', 0.021254030987620354), ('parsing', 0.021254030987620354)]\n",
            "Top 10 words of topic #3\n",
            "[('...', 0.20565885305404663), ('use', 0.04027355834841728), ('new', 0.03580368310213089), ('speech', 0.026863938197493553), ('analysis', 0.026863938197493553), ('technique', 0.02239406481385231), ('user', 0.013454318046569824), ('artificial', 0.013454318046569824), ('applications.', 0.013454318046569824), ('report', 0.013454318046569824)]\n",
            "Top 10 words of topic #4\n",
            "[('knowledge', 0.03716300055384636), ('complexity', 0.030979471281170845), ('understanding', 0.030979471281170845), ('tasks.', 0.02479594573378563), ('within', 0.018612416461110115), ('generation', 0.018612416461110115), ('prolog', 0.018612416461110115), ('per', 0.01242888905107975), ('tasks,', 0.01242888905107975), ('enormous', 0.01242888905107975)]\n",
            "Top 10 words of topic #5\n",
            "[('word', 0.07870176434516907), ('sense-id', 0.03151216357946396), ('based', 0.021025588735938072), ('network', 0.021025588735938072), (':', 0.021025588735938072), ('architecture', 0.021025588735938072), ('acquisition', 0.015782298520207405), ('=', 0.015782298520207405), ('lex-sign', 0.015782298520207405), ('thesaurus', 0.015782298520207405)]\n",
            "Top 10 words of topic #6\n",
            "[('learning', 0.06600186228752136), ('machine', 0.05436132475733757), ('approach', 0.05436132475733757), ('application', 0.04272078350186348), ('different', 0.03108024224638939), ('nlp', 0.027200063690543175), ('requirement', 0.02331988327205181), ('software', 0.02331988327205181), ('extraction', 0.02331988327205181), ('applied', 0.019439702853560448)]\n",
            "Top 10 words of topic #7\n",
            "[('...', 0.17191290855407715), ('system', 0.06069695204496384), ('information', 0.05058641359210014), ('nlp', 0.04047587141394615), ('task', 0.03036532737314701), ('present', 0.02699514850974083), ('area', 0.016884606331586838), ('however,', 0.016884606331586838), ('automated', 0.016884606331586838), ('domain', 0.016884606331586838)]\n",
            "Top 10 words of topic #8\n",
            "[('...', 0.09583113342523575), ('text', 0.04297700896859169), ('computational', 0.02976347878575325), ('work', 0.02646009624004364), ('linguistic', 0.02646009624004364), ('logic', 0.01985333114862442), ('introduction', 0.01654994860291481), ('review', 0.01654994860291481), ('number', 0.01654994860291481), ('program', 0.01654994860291481)]\n",
            "Top 10 words of topic #9\n",
            "[('language', 0.17696748673915863), ('natural', 0.14958292245864868), ('processing', 0.1095593124628067), ('(nlp)', 0.02529912441968918), ('data', 0.021086113527417183), ('development', 0.01897960901260376), ('process', 0.01897960901260376), ('focus', 0.016873104497790337), ('current', 0.014766599982976913), ('field', 0.014766599982976913)]\n",
            "<Basic Info>\n",
            "| SLDAModel (current version: 0.12.2)\n",
            "| 100 docs, 2528 words\n",
            "| Total Vocabs: 1172, Used Vocabs: 1172\n",
            "| Entropy of words: 6.29378\n",
            "| Entropy of term-weighted words: 6.29378\n",
            "| Removed Vocabs: <NA>\n",
            "|\n",
            "<Training Info>\n",
            "| Iterations: 100, Burn-in steps: 0\n",
            "| Optimization Interval: 10\n",
            "| Log-likelihood per word: -8.04209\n",
            "|\n",
            "<Initial Parameters>\n",
            "| tw: TermWeight.ONE\n",
            "| min_cf: 0 (minimum collection frequency of words)\n",
            "| min_df: 0 (minimum document frequency of words)\n",
            "| rm_top: 0 (the number of top words to be removed)\n",
            "| k: 10 (the number of topics between 1 ~ 32767)\n",
            "| vars: \n",
            "| alpha: [0.1] (hyperparameter of Dirichlet distribution for document-topic, given as a single `float` in case of symmetric prior and as a list with length `k` of `float` in case of asymmetric prior.)\n",
            "| eta: 0.01 (hyperparameter of Dirichlet distribution for topic-word)\n",
            "| mu: [] (mean of regression coefficients, default value is 0)\n",
            "| nu_sq: [] (variance of regression coefficients, default value is 1)\n",
            "| glm_param: [] (the parameter for Generalized Linear Model, default value is 1)\n",
            "| trained in version 0.12.2\n",
            "|\n",
            "<Parameters>\n",
            "| alpha (Dirichlet prior on the per-document topic distributions)\n",
            "|  [0.41267192 0.4401942  0.3460203  0.4387066  0.18364705 0.24132027\n",
            "|   0.46098992 0.5085682  0.49400026 0.84330064]\n",
            "| eta (Dirichlet prior on the per-topic word distribution)\n",
            "|  0.01\n",
            "| regression coefficients of response variables\n",
            "|\n",
            "<Topics>\n",
            "| #0 (219) : ... paper several abstract: developed\n",
            "| #1 (259) : ... retrieval document used method\n",
            "| #2 (224) : two research many feature result\n",
            "| #3 (212) : ... use new speech analysis\n",
            "| #4 (150) : knowledge complexity understanding tasks. within\n",
            "| #5 (179) : word sense-id based network :\n",
            "| #6 (246) : learning machine approach application different\n",
            "| #7 (285) : ... system information nlp task\n",
            "| #8 (291) : ... text computational work linguistic\n",
            "| #9 (463) : language natural processing (nlp) data\n",
            "|\n",
            "\n"
          ]
        }
      ]
    },
    {
      "cell_type": "code",
      "source": [
        "topic_term_dists = np.stack([modelSLDA.get_topic_word_dist(k) for k in range(modelSLDA.k)])\n",
        "doc_topic_dists = np.stack([doc.get_topic_dist() for doc in modelSLDA.docs])\n",
        "doc_lengths = np.array([len(doc.words) for doc in modelSLDA.docs])\n",
        "vocab = list(modelSLDA.used_vocabs)\n",
        "term_frequency = modelSLDA.used_vocab_freq\n",
        "\n",
        "prepared_data = pyLDAvis.prepare(\n",
        "    topic_term_dists, \n",
        "    doc_topic_dists, \n",
        "    doc_lengths, \n",
        "    vocab, \n",
        "    term_frequency\n",
        ")\n",
        "pyLDAvis.save_html(prepared_data, 'ldavis.html')"
      ],
      "metadata": {
        "colab": {
          "base_uri": "https://localhost:8080/"
        },
        "id": "A9DzJrNLjOil",
        "outputId": "146b8fef-05dc-40cb-feb1-0b818165a45f"
      },
      "execution_count": 25,
      "outputs": [
        {
          "output_type": "stream",
          "name": "stderr",
          "text": [
            "/usr/local/lib/python3.7/dist-packages/pyLDAvis/_prepare.py:247: FutureWarning: In a future version of pandas all arguments of DataFrame.drop except for the argument 'labels' will be keyword-only\n",
            "  by='saliency', ascending=False).head(R).drop('saliency', 1)\n"
          ]
        }
      ]
    },
    {
      "cell_type": "code",
      "source": [
        "pyLDAvis.display(prepared_data)"
      ],
      "metadata": {
        "colab": {
          "base_uri": "https://localhost:8080/",
          "height": 881
        },
        "id": "8bm8oJ3Jfr23",
        "outputId": "4a121fcb-4e0e-4142-cf51-4d11fef1b616"
      },
      "execution_count": 26,
      "outputs": [
        {
          "output_type": "execute_result",
          "data": {
            "text/plain": [
              "<IPython.core.display.HTML object>"
            ],
            "text/html": [
              "\n",
              "<link rel=\"stylesheet\" type=\"text/css\" href=\"https://cdn.jsdelivr.net/gh/bmabey/pyLDAvis@3.3.1/pyLDAvis/js/ldavis.v1.0.0.css\">\n",
              "\n",
              "\n",
              "<div id=\"ldavis_el591396792947944487781441373\"></div>\n",
              "<script type=\"text/javascript\">\n",
              "\n",
              "var ldavis_el591396792947944487781441373_data = {\"mdsDat\": {\"x\": [-0.19853701071577684, 0.12653074276947726, 0.20079951486405334, 0.18321012361331052, -0.17040066057027356, -0.16706721110092862, 0.1847423342672153, 0.1972198861988376, -0.19416483880666144, -0.16233288051925315], \"y\": [-0.40895916775987745, 0.003754140178650454, -0.009411350023268978, 0.0009913817741489155, 0.15580776081694164, 0.09441660775716995, -0.014989178247741477, -0.004507786355185179, 0.13471565008279007, 0.0481819417763729], \"topics\": [1, 2, 3, 4, 5, 6, 7, 8, 9, 10], \"cluster\": [1, 1, 1, 1, 1, 1, 1, 1, 1, 1], \"Freq\": [18.55921475888954, 11.517240913809827, 11.256067493438984, 10.270448139762136, 9.83909354750725, 8.785049650606581, 8.583441172763385, 8.541344041217052, 6.926890344212409, 5.721209937792842]}, \"tinfo\": {\"Term\": [\"...\", \"language\", \"natural\", \"processing\", \"learning\", \"system\", \"word\", \"approach\", \"machine\", \"information\", \"nlp\", \"text\", \"paper\", \"application\", \"retrieval\", \"document\", \"use\", \"two\", \"research\", \"(nlp)\", \"new\", \"task\", \"used\", \"computational\", \"different\", \"method\", \"technique\", \"linguistic\", \"present\", \"work\", \"language\", \"natural\", \"processing\", \"(nlp)\", \"data\", \"process\", \"development\", \"focus\", \"field\", \"current\", \"model\", \"year\", \"chapter\", \"traditional\", \"examines\", \"human\", \"wide\", \"effective\", \"simple\", \"one\", \"syntactic\", \"large\", \"input\", \"become\", \"includes\", \"improvement\", \"including\", \"history\", \"visual\", \"better\", \"various\", \"systems.\", \"range\", \"support\", \"text\", \"computational\", \"work\", \"logic\", \"introduction\", \"review\", \"number\", \"program\", \"set\", \"object\", \"confidence\", \"tool\", \"study\", \"provides\", \"available\", \"english\", \"single\", \"called\", \"practical\", \"pattern\", \"learning.\", \"suggesting\", \"therefore\", \"without\", \"overview\", \"techniques.\", \"aid\", \"linguistics\", \"decade\", \"organization\", \"linguistic\", \"...\", \"structure\", \"given\", \"paper\", \"system\", \"task\", \"present\", \"automated\", \"area\", \"however,\", \"domain\", \"resource\", \"limited\", \"evaluation\", \"web\", \"high\", \"principle\", \"issue\", \"lolita\", \"shown\", \"detailed\", \"case\", \"objective\", \"emerged\", \"content\", \"degree\", \"research.\", \"rather\", \"role\", \"matching\", \"web-based\", \"paradigm\", \"covering\", \"texts.\", \"information\", \"nlp\", \"...\", \"need\", \"briefly\", \"document\", \"retrieval\", \"method\", \"statistical\", \"paper,\", \"also\", \"purpose\", \"among\", \"using\", \"address\", \"capture\", \"1\", \"related\", \"design\", \"database\", \"stage\", \"linguist\", \"considers\", \"search\", \"version\", \"relevant\", \"problem\", \"finding\", \"collection\", \"little\", \"first\", \"solve\", \"years.\", \"relationship\", \"us\", \"used\", \"processing.\", \"...\", \"information\", \"learning\", \"machine\", \"approach\", \"application\", \"different\", \"extraction\", \"software\", \"requirement\", \"applied\", \"source\", \"output\", \"component\", \"useful\", \"kind\", \"complex\", \"processing,\", \"fall\", \"probabilistic\", \"analysis.\", \"construct\", \"well.\", \"abstract\\u2014natural\", \"engineering\", \"include\", \"(ml)\", \"involves\", \"automatically\", \"technology\", \"three\", \"corpus\", \"describe\", \"last\", \"nlp\", \"understanding\", \"level\", \"compare\", \"abstract.\", \"research\", \"two\", \"many\", \"feature\", \"result\", \"recognition\", \"recent\", \"parsing\", \"voice\", \"standard\", \"significant\", \"effective.\", \"important\", \"sensitive\", \"even\", \"algorithms.\", \"discipline\", \"context\", \"music\", \"text.\", \"element\", \"article\", \"analysis,\", \"usually\", \"data.\", \"often\", \"(or\", \"similarity\", \"language,\", \"plan\", \"grammar\", \"technique\", \"framework\", \"powerful\", \"several\", \"abstract:\", \"developed\", \"basic\", \"brief\", \"86]\", \"insight\", \"world.\", \"speaker\", \"stand\", \"spoken\", \"discus\", \"aspect\", \"built\", \"point\", \"de\", \"integrating\", \"them.\", \"go\", \"benefit\", \"applying\", \"developing\", \"retrieval.\", \"help\", \"discussion\", \"test\", \"title\", \"latter\", \"communicating\", \"world,we\", \"paper\", \"...\", \"need\", \"given\", \"use\", \"new\", \"speech\", \"report\", \"part\", \"user\", \"th\", \"artificial\", \"applications.\", \"amount\", \"audio\", \"concept\", \"measure\", \"extract\", \"(nlp),\", \"well\", \"widely\", \"produce\", \"recognition,\", \"documents,\", \"modelling\", \"community\", \"indian\", \"practice\", \"opportunity\", \"semantics\", \"song,\", \"acoustic\", \"around\", \"simply\", \"analysis\", \"make\", \"...\", \"technique\", \"experience\", \"representing\", \"designed\", \"word\", \"sense-id\", \"architecture\", \"based\", \"network\", \":\", \"sense\", \"neural\", \"manual\", \"character\", \"acquisition\", \"thesaurus\", \"lex-sign\", \"=\", \"documents.\", \"w\", \"that,\", \"years,\", \"argue\", \"semantically\", \"semantic\", \"parsing,\", \"disambiguation,\", \"e\", \"show\", \"tags,\", \"map\", \"workbench\", \"educational\", \"recently\", \"last\", \"knowledge\", \"complexity\", \"tasks.\", \"generation\", \"within\", \"prolog\", \"ability\", \"u\", \"provide\", \"medical\", \"state\", \"due\", \"tasks,\", \"whose\", \"published\", \"general\", \"aim\", \"modeling\", \"general,\", \"classification\", \"model,\", \"per\", \"quantity\", \"enormous\", \"project\", \"target\", \"signal\", \"(e.g.,\", \"base\", \"essential\", \"understanding\", \"linguistic\", \"structure\"], \"Freq\": [191.0, 83.0, 70.0, 51.0, 16.0, 17.0, 13.0, 13.0, 13.0, 19.0, 18.0, 12.0, 12.0, 10.0, 9.0, 9.0, 8.0, 8.0, 8.0, 11.0, 7.0, 8.0, 9.0, 8.0, 7.0, 7.0, 9.0, 9.0, 7.0, 7.0, 83.02906657110448, 70.18086008660774, 51.402704618655555, 11.869766160657262, 9.893118538629203, 8.904795164570265, 8.904795164570265, 7.916471790511325, 6.928148416452386, 6.928148416452386, 5.939824605438357, 4.951501231379417, 4.951501231379417, 3.963177857320478, 3.963177857320478, 3.963177857320478, 3.963177857320478, 3.963177857320478, 2.974853827828904, 2.974853827828904, 2.974853827828904, 2.974853827828904, 2.974853827828904, 2.974853827828904, 2.974853827828904, 2.974853827828904, 2.974853827828904, 2.974853827828904, 2.974853827828904, 1.9865302352924201, 5.939824605438357, 4.951501231379417, 3.963177857320478, 2.974853827828904, 12.513007748206205, 8.665811083593088, 7.704011917439809, 5.7804135851332505, 4.818614418979972, 4.818614418979972, 4.818614418979972, 4.818614418979972, 3.856814981666673, 3.856814981666673, 3.856814981666673, 2.895015544353374, 2.895015544353374, 2.895015544353374, 2.895015544353374, 2.895015544353374, 2.895015544353374, 2.895015544353374, 2.895015544353374, 2.895015544353374, 1.9332163782000948, 1.9332163782000948, 1.9332163782000948, 1.9332163782000948, 1.9332163782000948, 1.9332163782000948, 1.9332163782000948, 1.9332163782000948, 1.9332163782000948, 1.9332163782000948, 7.704011917439809, 27.90179549129875, 2.895015544353374, 2.895015544353374, 1.9332163782000948, 17.271523457339942, 8.640556837625102, 7.6815610176763345, 4.8045719677640575, 4.8045719677640575, 4.8045719677640575, 4.8045719677640575, 3.845575352782303, 3.845575352782303, 3.845575352782303, 3.845575352782303, 2.8865790028115446, 2.8865790028115446, 2.8865790028115446, 2.8865790028115446, 1.9275826528407856, 1.9275826528407856, 1.9275826528407856, 1.9275826528407856, 1.9275826528407856, 1.9275826528407856, 1.9275826528407856, 1.9275826528407856, 1.9275826528407856, 1.9275826528407856, 1.9275826528407856, 1.9275826528407856, 1.9275826528407856, 1.9275826528407856, 1.9275826528407856, 14.394535467471647, 11.51754641755937, 48.91840088628702, 2.8865790028115446, 1.9275826528407856, 9.600198421672012, 9.600198421672012, 7.682076837159605, 4.804894702196733, 4.804894702196733, 3.8458339099405294, 3.8458339099405294, 3.8458339099405294, 3.8458339099405294, 3.8458339099405294, 2.88677287587859, 2.88677287587859, 2.88677287587859, 2.88677287587859, 2.88677287587859, 2.88677287587859, 1.9277120836223869, 1.9277120836223869, 1.9277120836223869, 1.9277120836223869, 1.9277120836223869, 1.9277120836223869, 1.9277120836223869, 1.9277120836223869, 1.9277120836223869, 1.9277120836223869, 1.9277120836223869, 1.9277120836223869, 1.9277120836223869, 1.9277120836223869, 8.641137871221545, 3.8458339099405294, 34.53577853672182, 4.804894702196733, 16.416794221198995, 13.521416687385047, 13.521416687385047, 10.626038226971122, 7.7306597665571966, 5.8004079229145695, 5.8004079229145695, 5.8004079229145695, 4.835281769443261, 3.8701556159719526, 3.8701556159719526, 2.9050294625006443, 2.9050294625006443, 2.9050294625006443, 2.9050294625006443, 2.9050294625006443, 2.9050294625006443, 2.9050294625006443, 2.9050294625006443, 1.9399033090293358, 1.9399033090293358, 1.9399033090293358, 1.9399033090293358, 1.9399033090293358, 1.9399033090293358, 1.9399033090293358, 1.9399033090293358, 1.9399033090293358, 1.9399033090293358, 1.9399033090293358, 3.8701556159719526, 2.9050294625006443, 6.765534076385878, 1.9399033090293358, 1.9399033090293358, 1.9399033090293358, 1.9399033090293358, 8.488865358071516, 8.488865358071516, 6.60454486499789, 6.60454486499789, 5.662384411627317, 4.720223958256746, 4.720223958256746, 4.720223958256746, 4.720223958256746, 3.7780635048861733, 3.7780635048861733, 2.8359028446818417, 2.8359028446818417, 2.8359028446818417, 2.8359028446818417, 2.8359028446818417, 2.8359028446818417, 2.8359028446818417, 2.8359028446818417, 2.8359028446818417, 2.8359028446818417, 1.8937423913112696, 1.8937423913112696, 1.8937423913112696, 1.8937423913112696, 1.8937423913112696, 1.8937423913112696, 1.8937423913112696, 1.8937423913112696, 1.8937423913112696, 2.8359028446818417, 4.720223958256746, 1.8937423913112696, 1.8937423913112696, 6.592821172982297, 5.6523331675111805, 4.711845162040065, 3.771357156568949, 2.8308689490107106, 2.8308689490107106, 1.8903809435395948, 1.8903809435395948, 1.8903809435395948, 1.8903809435395948, 1.8903809435395948, 1.8903809435395948, 1.8903809435395948, 1.8903809435395948, 1.8903809435395948, 1.8903809435395948, 1.8903809435395948, 1.8903809435395948, 1.8903809435395948, 1.8903809435395948, 1.8903809435395948, 1.8903809435395948, 1.8903809435395948, 1.8903809435395948, 1.8903809435395948, 1.8903809435395948, 1.8903809435395948, 0.9498928370249177, 0.9498928370249177, 0.9498928370249177, 10.354773599041005, 35.74794772588991, 2.8308689490107106, 1.8903809435395948, 8.696075339571001, 7.730916722000831, 5.800600693436462, 2.9051260473019243, 2.9051260473019243, 2.9051260473019243, 2.9051260473019243, 2.9051260473019243, 2.9051260473019243, 1.9399678319237452, 1.9399678319237452, 1.9399678319237452, 1.9399678319237452, 1.9399678319237452, 1.9399678319237452, 1.9399678319237452, 1.9399678319237452, 1.9399678319237452, 1.9399678319237452, 1.9399678319237452, 1.9399678319237452, 1.9399678319237452, 1.9399678319237452, 0.9748097170935632, 0.9748097170935632, 0.9748097170935632, 0.9748097170935632, 0.9748097170935632, 0.9748097170935632, 0.9748097170935632, 5.800600693436462, 2.9051260473019243, 44.406924884451755, 4.835442478058283, 0.9748097170935632, 0.9748097170935632, 0.9748097170935632, 13.781606840132296, 5.51815137497316, 3.681828481889674, 3.681828481889674, 3.681828481889674, 3.681828481889674, 2.7636665460912413, 2.7636665460912413, 2.7636665460912413, 2.7636665460912413, 2.7636665460912413, 2.7636665460912413, 2.7636665460912413, 2.7636665460912413, 1.8455049364639349, 1.8455049364639349, 1.8455049364639349, 1.8455049364639349, 1.8455049364639349, 1.8455049364639349, 1.8455049364639349, 1.8455049364639349, 1.8455049364639349, 1.8455049364639349, 1.8455049364639349, 1.8455049364639349, 1.8455049364639349, 1.8455049364639349, 1.8455049364639349, 0.9273432452938469, 0.9273432452938469, 5.374966122144348, 4.4806287473201065, 3.5862919112927565, 2.6919545364685153, 2.6919545364685153, 2.6919545364685153, 1.7976174310427198, 1.7976174310427198, 1.7976174310427198, 1.7976174310427198, 1.7976174310427198, 1.7976174310427198, 1.7976174310427198, 1.7976174310427198, 1.7976174310427198, 1.7976174310427198, 1.7976174310427198, 1.7976174310427198, 1.7976174310427198, 1.7976174310427198, 1.7976174310427198, 1.7976174310427198, 1.7976174310427198, 1.7976174310427198, 1.7976174310427198, 1.7976174310427198, 1.7976174310427198, 1.7976174310427198, 1.7976174310427198, 0.9032803929665355, 4.4806287473201065, 1.7976174310427198, 1.7976174310427198], \"Total\": [191.0, 83.0, 70.0, 51.0, 16.0, 17.0, 13.0, 13.0, 13.0, 19.0, 18.0, 12.0, 12.0, 10.0, 9.0, 9.0, 8.0, 8.0, 8.0, 11.0, 7.0, 8.0, 9.0, 8.0, 7.0, 7.0, 9.0, 9.0, 7.0, 7.0, 83.11411944607876, 70.26591296158202, 51.48775749362983, 11.954819035631536, 9.978171413603476, 8.989848039544539, 8.989848039544539, 8.001524665485599, 7.013201291426659, 7.013201291426659, 6.024877480412631, 5.036554106353691, 5.036554106353691, 4.048230732294751, 4.048230732294751, 4.048230732294751, 4.048230732294751, 4.048230732294751, 3.059906702803179, 3.059906702803179, 3.059906702803179, 3.059906702803179, 3.059906702803179, 3.059906702803179, 3.059906702803179, 3.059906702803179, 3.059906702803179, 3.059906702803179, 3.059906702803179, 2.071583110266695, 6.983873820031397, 5.9770420636712345, 5.007227071913517, 4.021705922976617, 12.59832586672041, 8.751129202107293, 7.789330035954013, 5.865731703647455, 4.9039325374941765, 4.9039325374941765, 4.9039325374941765, 4.9039325374941765, 3.9421331001808793, 3.9421331001808793, 3.9421331001808793, 2.9803336628675803, 2.9803336628675803, 2.9803336628675803, 2.9803336628675803, 2.9803336628675803, 2.9803336628675803, 2.9803336628675803, 2.9803336628675803, 2.9803336628675803, 2.018534496714301, 2.018534496714301, 2.018534496714301, 2.018534496714301, 2.018534496714301, 2.018534496714301, 2.018534496714301, 2.018534496714301, 2.018534496714301, 2.018534496714301, 9.578004096321317, 191.55792861141714, 4.769007723234884, 4.861309726699801, 12.363903216047932, 17.35686960447627, 8.725902984761424, 7.766907164812656, 4.889918114900379, 4.889918114900379, 4.889918114900379, 4.889918114900379, 3.930921499918626, 3.930921499918626, 3.930921499918626, 3.930921499918626, 2.9719251499478676, 2.9719251499478676, 2.9719251499478676, 2.9719251499478676, 2.0129287999771086, 2.0129287999771086, 2.0129287999771086, 2.0129287999771086, 2.0129287999771086, 2.0129287999771086, 2.0129287999771086, 2.0129287999771086, 2.0129287999771086, 2.0129287999771086, 2.0129287999771086, 2.0129287999771086, 2.0129287999771086, 2.0129287999771086, 2.0129287999771086, 19.275185709071053, 18.358775381103257, 191.55792861141714, 5.793389219251203, 2.953416757294652, 9.685543924325941, 9.685543924325941, 7.767422339813535, 4.890240204850663, 4.890240204850663, 3.931179412594461, 3.931179412594461, 3.931179412594461, 3.931179412594461, 3.931179412594461, 2.972118378532522, 2.972118378532522, 2.972118378532522, 2.972118378532522, 2.972118378532522, 2.972118378532522, 2.0130575862763185, 2.0130575862763185, 2.0130575862763185, 2.0130575862763185, 2.0130575862763185, 2.0130575862763185, 2.0130575862763185, 2.0130575862763185, 2.0130575862763185, 2.0130575862763185, 2.0130575862763185, 2.0130575862763185, 2.0130575862763185, 2.0130575862763185, 9.691609385280184, 5.855301763617936, 191.55792861141714, 19.275185709071053, 16.502079071608264, 13.606701537794313, 13.606701537794313, 10.711323077380388, 7.815944616966464, 5.885692773323836, 5.885692773323836, 5.885692773323836, 4.9205666198525275, 3.955440466381221, 3.955440466381221, 2.990314312909913, 2.990314312909913, 2.990314312909913, 2.990314312909913, 2.990314312909913, 2.990314312909913, 2.990314312909913, 2.990314312909913, 2.0251881594386036, 2.0251881594386036, 2.0251881594386036, 2.0251881594386036, 2.0251881594386036, 2.0251881594386036, 2.0251881594386036, 2.0251881594386036, 2.0251881594386036, 2.0251881594386036, 2.0251881594386036, 4.917239686554659, 3.9084759416488084, 18.358775381103257, 6.496873536083294, 2.9433497881774993, 2.9656761167561476, 2.9433497881774993, 8.574379864313206, 8.574379864313206, 6.690059371239579, 6.690059371239579, 5.747898917869007, 4.805738464498434, 4.805738464498434, 4.805738464498434, 4.805738464498434, 3.8635780111278635, 3.8635780111278635, 2.921417350923532, 2.921417350923532, 2.921417350923532, 2.921417350923532, 2.921417350923532, 2.921417350923532, 2.921417350923532, 2.921417350923532, 2.921417350923532, 2.921417350923532, 1.9792568975529596, 1.9792568975529596, 1.9792568975529596, 1.9792568975529596, 1.9792568975529596, 1.9792568975529596, 1.9792568975529596, 1.9792568975529596, 1.9792568975529596, 3.8395789796624276, 9.63152936150268, 2.8974185262918555, 2.9410561177263994, 6.678352403662505, 5.737864398191389, 4.797376392720274, 3.8568883872491577, 2.9164001796909194, 2.9164001796909194, 1.9759121742198031, 1.9759121742198031, 1.9759121742198031, 1.9759121742198031, 1.9759121742198031, 1.9759121742198031, 1.9759121742198031, 1.9759121742198031, 1.9759121742198031, 1.9759121742198031, 1.9759121742198031, 1.9759121742198031, 1.9759121742198031, 1.9759121742198031, 1.9759121742198031, 1.9759121742198031, 1.9759121742198031, 1.9759121742198031, 1.9759121742198031, 1.9759121742198031, 1.9759121742198031, 1.035424067705126, 1.035424067705126, 1.035424067705126, 12.363903216047932, 191.55792861141714, 5.793389219251203, 4.861309726699801, 8.781359868904545, 7.816201251334375, 5.885885222770006, 2.990410576635469, 2.990410576635469, 2.990410576635469, 2.990410576635469, 2.990410576635469, 2.990410576635469, 2.02525236125729, 2.02525236125729, 2.02525236125729, 2.02525236125729, 2.02525236125729, 2.02525236125729, 2.02525236125729, 2.02525236125729, 2.02525236125729, 2.02525236125729, 2.02525236125729, 2.02525236125729, 2.02525236125729, 2.02525236125729, 1.0600942464271075, 1.0600942464271075, 1.0600942464271075, 1.0600942464271075, 1.0600942464271075, 1.0600942464271075, 1.0600942464271075, 6.844881562388773, 3.9522097968089085, 191.55792861141714, 9.63152936150268, 2.0191549905110744, 2.025220257831818, 2.0484177630085085, 13.867361333964928, 5.60390586880579, 3.767582975722305, 3.767582975722305, 3.767582975722305, 3.767582975722305, 2.8494210399238726, 2.8494210399238726, 2.8494210399238726, 2.8494210399238726, 2.8494210399238726, 2.8494210399238726, 2.8494210399238726, 2.8494210399238726, 1.931259430296566, 1.931259430296566, 1.931259430296566, 1.931259430296566, 1.931259430296566, 1.931259430296566, 1.931259430296566, 1.931259430296566, 1.931259430296566, 1.931259430296566, 1.931259430296566, 1.931259430296566, 1.931259430296566, 1.931259430296566, 1.931259430296566, 1.013097739126478, 3.9084759416488084, 5.460958861856514, 4.566621487032273, 3.6722846510049223, 2.777947276180681, 2.777947276180681, 2.777947276180681, 1.8836101707548858, 1.8836101707548858, 1.8836101707548858, 1.8836101707548858, 1.8836101707548858, 1.8836101707548858, 1.8836101707548858, 1.8836101707548858, 1.8836101707548858, 1.8836101707548858, 1.8836101707548858, 1.8836101707548858, 1.8836101707548858, 1.8836101707548858, 1.8836101707548858, 1.8836101707548858, 1.8836101707548858, 1.8836101707548858, 1.8836101707548858, 1.8836101707548858, 1.8836101707548858, 1.8836101707548858, 1.8836101707548858, 0.9892731326787015, 6.496873536083294, 9.578004096321317, 4.769007723234884], \"Category\": [\"Default\", \"Default\", \"Default\", \"Default\", \"Default\", \"Default\", \"Default\", \"Default\", \"Default\", \"Default\", \"Default\", \"Default\", \"Default\", \"Default\", \"Default\", \"Default\", \"Default\", \"Default\", \"Default\", \"Default\", \"Default\", \"Default\", \"Default\", \"Default\", \"Default\", \"Default\", \"Default\", \"Default\", \"Default\", \"Default\", \"Topic1\", \"Topic1\", \"Topic1\", \"Topic1\", \"Topic1\", \"Topic1\", \"Topic1\", \"Topic1\", \"Topic1\", \"Topic1\", \"Topic1\", \"Topic1\", \"Topic1\", \"Topic1\", \"Topic1\", \"Topic1\", \"Topic1\", \"Topic1\", \"Topic1\", \"Topic1\", \"Topic1\", \"Topic1\", \"Topic1\", \"Topic1\", \"Topic1\", \"Topic1\", \"Topic1\", \"Topic1\", \"Topic1\", \"Topic1\", \"Topic1\", \"Topic1\", \"Topic1\", \"Topic1\", \"Topic2\", \"Topic2\", \"Topic2\", \"Topic2\", \"Topic2\", \"Topic2\", \"Topic2\", \"Topic2\", \"Topic2\", \"Topic2\", \"Topic2\", \"Topic2\", \"Topic2\", \"Topic2\", \"Topic2\", \"Topic2\", \"Topic2\", \"Topic2\", \"Topic2\", \"Topic2\", \"Topic2\", \"Topic2\", \"Topic2\", \"Topic2\", \"Topic2\", \"Topic2\", \"Topic2\", \"Topic2\", \"Topic2\", \"Topic2\", \"Topic2\", \"Topic2\", \"Topic2\", \"Topic2\", \"Topic2\", \"Topic3\", \"Topic3\", \"Topic3\", \"Topic3\", \"Topic3\", \"Topic3\", \"Topic3\", \"Topic3\", \"Topic3\", \"Topic3\", \"Topic3\", \"Topic3\", \"Topic3\", \"Topic3\", \"Topic3\", \"Topic3\", \"Topic3\", \"Topic3\", \"Topic3\", \"Topic3\", \"Topic3\", \"Topic3\", \"Topic3\", \"Topic3\", \"Topic3\", \"Topic3\", \"Topic3\", \"Topic3\", \"Topic3\", \"Topic3\", \"Topic3\", \"Topic3\", \"Topic3\", \"Topic3\", \"Topic3\", \"Topic4\", \"Topic4\", \"Topic4\", \"Topic4\", \"Topic4\", \"Topic4\", \"Topic4\", \"Topic4\", \"Topic4\", \"Topic4\", \"Topic4\", \"Topic4\", \"Topic4\", \"Topic4\", \"Topic4\", \"Topic4\", \"Topic4\", \"Topic4\", \"Topic4\", \"Topic4\", \"Topic4\", \"Topic4\", \"Topic4\", \"Topic4\", \"Topic4\", \"Topic4\", \"Topic4\", \"Topic4\", \"Topic4\", \"Topic4\", \"Topic4\", \"Topic4\", \"Topic4\", \"Topic4\", \"Topic5\", \"Topic5\", \"Topic5\", \"Topic5\", \"Topic5\", \"Topic5\", \"Topic5\", \"Topic5\", \"Topic5\", \"Topic5\", \"Topic5\", \"Topic5\", \"Topic5\", \"Topic5\", \"Topic5\", \"Topic5\", \"Topic5\", \"Topic5\", \"Topic5\", \"Topic5\", \"Topic5\", \"Topic5\", \"Topic5\", \"Topic5\", \"Topic5\", \"Topic5\", \"Topic5\", \"Topic5\", \"Topic5\", \"Topic5\", \"Topic5\", \"Topic5\", \"Topic5\", \"Topic5\", \"Topic5\", \"Topic5\", \"Topic5\", \"Topic6\", \"Topic6\", \"Topic6\", \"Topic6\", \"Topic6\", \"Topic6\", \"Topic6\", \"Topic6\", \"Topic6\", \"Topic6\", \"Topic6\", \"Topic6\", \"Topic6\", \"Topic6\", \"Topic6\", \"Topic6\", \"Topic6\", \"Topic6\", \"Topic6\", \"Topic6\", \"Topic6\", \"Topic6\", \"Topic6\", \"Topic6\", \"Topic6\", \"Topic6\", \"Topic6\", \"Topic6\", \"Topic6\", \"Topic6\", \"Topic6\", \"Topic6\", \"Topic6\", \"Topic6\", \"Topic7\", \"Topic7\", \"Topic7\", \"Topic7\", \"Topic7\", \"Topic7\", \"Topic7\", \"Topic7\", \"Topic7\", \"Topic7\", \"Topic7\", \"Topic7\", \"Topic7\", \"Topic7\", \"Topic7\", \"Topic7\", \"Topic7\", \"Topic7\", \"Topic7\", \"Topic7\", \"Topic7\", \"Topic7\", \"Topic7\", \"Topic7\", \"Topic7\", \"Topic7\", \"Topic7\", \"Topic7\", \"Topic7\", \"Topic7\", \"Topic7\", \"Topic7\", \"Topic7\", \"Topic7\", \"Topic8\", \"Topic8\", \"Topic8\", \"Topic8\", \"Topic8\", \"Topic8\", \"Topic8\", \"Topic8\", \"Topic8\", \"Topic8\", \"Topic8\", \"Topic8\", \"Topic8\", \"Topic8\", \"Topic8\", \"Topic8\", \"Topic8\", \"Topic8\", \"Topic8\", \"Topic8\", \"Topic8\", \"Topic8\", \"Topic8\", \"Topic8\", \"Topic8\", \"Topic8\", \"Topic8\", \"Topic8\", \"Topic8\", \"Topic8\", \"Topic8\", \"Topic8\", \"Topic8\", \"Topic8\", \"Topic8\", \"Topic8\", \"Topic8\", \"Topic9\", \"Topic9\", \"Topic9\", \"Topic9\", \"Topic9\", \"Topic9\", \"Topic9\", \"Topic9\", \"Topic9\", \"Topic9\", \"Topic9\", \"Topic9\", \"Topic9\", \"Topic9\", \"Topic9\", \"Topic9\", \"Topic9\", \"Topic9\", \"Topic9\", \"Topic9\", \"Topic9\", \"Topic9\", \"Topic9\", \"Topic9\", \"Topic9\", \"Topic9\", \"Topic9\", \"Topic9\", \"Topic9\", \"Topic9\", \"Topic9\", \"Topic10\", \"Topic10\", \"Topic10\", \"Topic10\", \"Topic10\", \"Topic10\", \"Topic10\", \"Topic10\", \"Topic10\", \"Topic10\", \"Topic10\", \"Topic10\", \"Topic10\", \"Topic10\", \"Topic10\", \"Topic10\", \"Topic10\", \"Topic10\", \"Topic10\", \"Topic10\", \"Topic10\", \"Topic10\", \"Topic10\", \"Topic10\", \"Topic10\", \"Topic10\", \"Topic10\", \"Topic10\", \"Topic10\", \"Topic10\", \"Topic10\", \"Topic10\", \"Topic10\"], \"logprob\": [30.0, 29.0, 28.0, 27.0, 26.0, 25.0, 24.0, 23.0, 22.0, 21.0, 20.0, 19.0, 18.0, 17.0, 16.0, 15.0, 14.0, 13.0, 12.0, 11.0, 10.0, 9.0, 8.0, 7.0, 6.0, 5.0, 4.0, 3.0, 2.0, 1.0, -1.7318, -1.8999, -2.2113, -3.677, -3.8591, -3.9644, -3.9644, -4.082, -4.2154, -4.2154, -4.3693, -4.5513, -4.5513, -4.7739, -4.7739, -4.7739, -4.7739, -4.7739, -5.0608, -5.0608, -5.0608, -5.0608, -5.0608, -5.0608, -5.0608, -5.0608, -5.0608, -5.0608, -5.0608, -5.4646, -4.3693, -4.5513, -4.7739, -5.0608, -3.1471, -3.5145, -3.6321, -3.9194, -4.1014, -4.1014, -4.1014, -4.1014, -4.324, -4.324, -4.324, -4.6109, -4.6109, -4.6109, -4.6109, -4.6109, -4.6109, -4.6109, -4.6109, -4.6109, -5.0147, -5.0147, -5.0147, -5.0147, -5.0147, -5.0147, -5.0147, -5.0147, -5.0147, -5.0147, -3.6321, -2.3452, -4.6109, -4.6109, -5.0147, -2.8019, -3.4945, -3.6121, -4.0814, -4.0814, -4.0814, -4.0814, -4.304, -4.304, -4.304, -4.304, -4.5908, -4.5908, -4.5908, -4.5908, -4.9947, -4.9947, -4.9947, -4.9947, -4.9947, -4.9947, -4.9947, -4.9947, -4.9947, -4.9947, -4.9947, -4.9947, -4.9947, -4.9947, -4.9947, -2.9841, -3.207, -1.7608, -4.5908, -4.9947, -3.2975, -3.2975, -3.5204, -3.9896, -3.9896, -4.2123, -4.2123, -4.2123, -4.2123, -4.2123, -4.4991, -4.4991, -4.4991, -4.4991, -4.4991, -4.4991, -4.903, -4.903, -4.903, -4.903, -4.903, -4.903, -4.903, -4.903, -4.903, -4.903, -4.903, -4.903, -4.903, -4.903, -3.4027, -4.2123, -2.0173, -3.9896, -2.7181, -2.9121, -2.9121, -3.1531, -3.4712, -3.7584, -3.7584, -3.7584, -3.9404, -4.1631, -4.1631, -4.4499, -4.4499, -4.4499, -4.4499, -4.4499, -4.4499, -4.4499, -4.4499, -4.8537, -4.8537, -4.8537, -4.8537, -4.8537, -4.8537, -4.8537, -4.8537, -4.8537, -4.8537, -4.8537, -4.1631, -4.4499, -3.6045, -4.8537, -4.8537, -4.8537, -4.8537, -3.2643, -3.2643, -3.5153, -3.5153, -3.6692, -3.8512, -3.8512, -3.8512, -3.8512, -4.0739, -4.0739, -4.3607, -4.3607, -4.3607, -4.3607, -4.3607, -4.3607, -4.3607, -4.3607, -4.3607, -4.3607, -4.7645, -4.7645, -4.7645, -4.7645, -4.7645, -4.7645, -4.7645, -4.7645, -4.7645, -4.3607, -3.8512, -4.7645, -4.7645, -3.4939, -3.6478, -3.8298, -4.0524, -4.3393, -4.3393, -4.7431, -4.7431, -4.7431, -4.7431, -4.7431, -4.7431, -4.7431, -4.7431, -4.7431, -4.7431, -4.7431, -4.7431, -4.7431, -4.7431, -4.7431, -4.7431, -4.7431, -4.7431, -4.7431, -4.7431, -4.7431, -5.4313, -5.4313, -5.4313, -3.0424, -1.8034, -4.3393, -4.7431, -3.2121, -3.3297, -3.617, -4.3085, -4.3085, -4.3085, -4.3085, -4.3085, -4.3085, -4.7123, -4.7123, -4.7123, -4.7123, -4.7123, -4.7123, -4.7123, -4.7123, -4.7123, -4.7123, -4.7123, -4.7123, -4.7123, -4.7123, -5.4004, -5.4004, -5.4004, -5.4004, -5.4004, -5.4004, -5.4004, -3.617, -4.3085, -1.5815, -3.799, -5.4004, -5.4004, -5.4004, -2.5421, -3.4574, -3.862, -3.862, -3.862, -3.862, -4.1489, -4.1489, -4.1489, -4.1489, -4.1489, -4.1489, -4.1489, -4.1489, -4.5527, -4.5527, -4.5527, -4.5527, -4.5527, -4.5527, -4.5527, -4.5527, -4.5527, -4.5527, -4.5527, -4.5527, -4.5527, -4.5527, -4.5527, -5.2409, -5.2409, -3.2924, -3.4744, -3.6971, -3.9839, -3.9839, -3.9839, -4.3877, -4.3877, -4.3877, -4.3877, -4.3877, -4.3877, -4.3877, -4.3877, -4.3877, -4.3877, -4.3877, -4.3877, -4.3877, -4.3877, -4.3877, -4.3877, -4.3877, -4.3877, -4.3877, -4.3877, -4.3877, -4.3877, -4.3877, -5.0759, -3.4744, -4.3877, -4.3877], \"loglift\": [30.0, 29.0, 28.0, 27.0, 26.0, 25.0, 24.0, 23.0, 22.0, 21.0, 20.0, 19.0, 18.0, 17.0, 16.0, 15.0, 14.0, 13.0, 12.0, 11.0, 10.0, 9.0, 8.0, 7.0, 6.0, 5.0, 4.0, 3.0, 2.0, 1.0, 1.6832, 1.683, 1.6826, 1.6771, 1.6756, 1.6747, 1.6747, 1.6735, 1.672, 1.672, 1.67, 1.6672, 1.6672, 1.663, 1.663, 1.663, 1.663, 1.663, 1.656, 1.656, 1.656, 1.656, 1.656, 1.656, 1.656, 1.656, 1.656, 1.656, 1.656, 1.6423, 1.5223, 1.496, 1.4504, 1.3827, 2.1545, 2.1515, 2.1503, 2.1467, 2.1438, 2.1438, 2.1438, 2.1438, 2.1394, 2.1394, 2.1394, 2.1323, 2.1323, 2.1323, 2.1323, 2.1323, 2.1323, 2.1323, 2.1323, 2.1323, 2.1181, 2.1181, 2.1181, 2.1181, 2.1181, 2.1181, 2.1181, 2.1181, 2.1181, 2.1181, 1.9436, 0.2348, 1.6622, 1.643, 0.3057, 2.1793, 2.1744, 2.1732, 2.1667, 2.1667, 2.1667, 2.1667, 2.1623, 2.1623, 2.1623, 2.1623, 2.1551, 2.1551, 2.1551, 2.1551, 2.1409, 2.1409, 2.1409, 2.1409, 2.1409, 2.1409, 2.1409, 2.1409, 2.1409, 2.1409, 2.1409, 2.1409, 2.1409, 2.1409, 2.1409, 1.8923, 1.718, 0.8192, 1.4876, 1.7576, 2.267, 2.267, 2.2649, 2.2583, 2.2583, 2.254, 2.254, 2.254, 2.254, 2.254, 2.2468, 2.2468, 2.2468, 2.2468, 2.2468, 2.2468, 2.2326, 2.2326, 2.2326, 2.2326, 2.2326, 2.2326, 2.2326, 2.2326, 2.2326, 2.2326, 2.2326, 2.2326, 2.2326, 2.2326, 2.1612, 1.8555, 0.5627, 0.8867, 2.3136, 2.3125, 2.3125, 2.3108, 2.3078, 2.3042, 2.3042, 2.3042, 2.3013, 2.297, 2.297, 2.2899, 2.2899, 2.2899, 2.2899, 2.2899, 2.2899, 2.2899, 2.2899, 2.2758, 2.2758, 2.2758, 2.2758, 2.2758, 2.2758, 2.2758, 2.2758, 2.2758, 2.2758, 2.2758, 2.0794, 2.0221, 1.3205, 1.1101, 1.9019, 1.8943, 1.9019, 2.4221, 2.4221, 2.4193, 2.4193, 2.4171, 2.4142, 2.4142, 2.4142, 2.4142, 2.4097, 2.4097, 2.4024, 2.4024, 2.4024, 2.4024, 2.4024, 2.4024, 2.4024, 2.4024, 2.4024, 2.4024, 2.388, 2.388, 2.388, 2.388, 2.388, 2.388, 2.388, 2.388, 2.388, 2.1291, 1.7189, 2.0069, 1.9919, 2.4424, 2.4403, 2.4373, 2.4329, 2.4256, 2.4256, 2.4111, 2.4111, 2.4111, 2.4111, 2.4111, 2.4111, 2.4111, 2.4111, 2.4111, 2.4111, 2.4111, 2.4111, 2.4111, 2.4111, 2.4111, 2.4111, 2.4111, 2.4111, 2.4111, 2.4111, 2.4111, 2.3691, 2.3691, 2.3691, 2.278, 0.7766, 1.7392, 1.5108, 2.4505, 2.4493, 2.4457, 2.4313, 2.4313, 2.4313, 2.4313, 2.4313, 2.4313, 2.4172, 2.4172, 2.4172, 2.4172, 2.4172, 2.4172, 2.4172, 2.4172, 2.4172, 2.4172, 2.4172, 2.4172, 2.4172, 2.4172, 2.3764, 2.3764, 2.3764, 2.3764, 2.3764, 2.3764, 2.3764, 2.2947, 2.1525, 0.9985, 1.7712, 1.7321, 1.7291, 1.7177, 2.6636, 2.6543, 2.6467, 2.6467, 2.6467, 2.6467, 2.6392, 2.6392, 2.6392, 2.6392, 2.6392, 2.6392, 2.6392, 2.6392, 2.6243, 2.6243, 2.6243, 2.6243, 2.6243, 2.6243, 2.6243, 2.6243, 2.6243, 2.6243, 2.6243, 2.6243, 2.6243, 2.6243, 2.6243, 2.5813, 1.2312, 2.8451, 2.842, 2.8373, 2.8295, 2.8295, 2.8295, 2.8143, 2.8143, 2.8143, 2.8143, 2.8143, 2.8143, 2.8143, 2.8143, 2.8143, 2.8143, 2.8143, 2.8143, 2.8143, 2.8143, 2.8143, 2.8143, 2.8143, 2.8143, 2.8143, 2.8143, 2.8143, 2.8143, 2.8143, 2.7701, 2.4894, 1.188, 1.8853]}, \"token.table\": {\"Topic\": [10, 5, 1, 8, 6, 2, 3, 4, 7, 8, 4, 7, 9, 9, 10, 5, 9, 7, 5, 8, 9, 4, 2, 10, 6, 4, 4, 8, 3, 8, 6, 5, 5, 8, 5, 7, 5, 9, 3, 9, 8, 6, 8, 7, 8, 3, 5, 2, 10, 9, 7, 1, 7, 1, 7, 3, 7, 7, 2, 4, 3, 1, 9, 10, 4, 7, 8, 5, 7, 5, 10, 5, 2, 8, 2, 4, 5, 3, 6, 5, 3, 1, 1, 6, 4, 7, 2, 3, 2, 5, 4, 1, 8, 3, 7, 7, 1, 5, 9, 6, 7, 7, 4, 8, 9, 3, 10, 9, 9, 1, 6, 6, 3, 5, 2, 10, 10, 3, 6, 1, 4, 8, 8, 5, 5, 6, 1, 4, 4, 1, 6, 9, 10, 10, 10, 2, 7, 7, 6, 9, 7, 3, 1, 3, 1, 6, 1, 5, 1, 1, 8, 3, 4, 1, 7, 7, 2, 5, 3, 5, 10, 1, 6, 1, 5, 9, 7, 5, 2, 5, 9, 9, 3, 4, 2, 10, 2, 4, 2, 3, 5, 2, 8, 9, 6, 9, 3, 8, 10, 4, 1, 10, 10, 8, 6, 1, 3, 7, 9, 9, 8, 3, 5, 2, 2, 3, 6, 1, 8, 2, 5, 2, 2, 7, 4, 3, 6, 9, 8, 2, 10, 6, 7, 2, 6, 2, 8, 3, 3, 5, 4, 1, 1, 5, 3, 4, 5, 8, 2, 10, 10, 10, 2, 10, 4, 10, 1, 3, 3, 6, 9, 6, 8, 4, 4, 4, 8, 5, 8, 5, 6, 3, 3, 6, 4, 7, 2, 3, 4, 9, 9, 8, 9, 9, 6, 2, 7, 9, 3, 10, 6, 6, 1, 8, 2, 5, 4, 8, 5, 7, 8, 7, 4, 7, 6, 10, 4, 2, 10, 2, 2, 1, 2, 1, 3, 1, 7, 9, 10, 3, 10, 10, 6, 8, 2, 5, 7, 2, 6, 3, 8, 9, 7, 2, 9, 5, 7, 2, 1, 6, 10, 5, 10, 4, 8, 4, 5, 5, 8, 4, 6, 1, 3, 4, 1, 6, 9, 3, 3, 8, 5, 10, 1, 8, 10, 2, 9, 2, 9, 7, 7, 1, 9, 4], \"Freq\": [1.061790826494884, 0.987562558411567, 1.0037793097690397, 0.9875312520353695, 1.0104802476488453, 0.14616988293290178, 0.2557972951325781, 0.18271235366612723, 0.1879327066280166, 0.22969553032313136, 1.0093810602124282, 1.028665414606421, 1.0616886279015891, 1.0528454580654567, 1.061790826494884, 0.6794978999891091, 0.33974894999455457, 1.0456852207750391, 0.987562558411567, 0.9433123548876466, 1.0528454580654567, 1.0175063461069866, 0.9908178449541135, 1.061790826494884, 1.0268988095972067, 1.0175063461069866, 1.0175063461069866, 0.9875312520353695, 0.14609456582781444, 0.8765673949668867, 1.0104802476488453, 1.0032390197405912, 1.0269506316385157, 1.0032067246683296, 1.016143136814161, 1.01219073706538, 1.028904761459877, 1.0616886279015891, 1.0225120099177496, 1.0355936486963215, 0.9433123548876466, 1.0104802476488453, 1.0032067246683296, 1.01219073706538, 0.9875312520353695, 1.0225120099177496, 0.987562558411567, 1.0065987031510752, 1.061790826494884, 1.0616886279015891, 1.0371054586966966, 0.9804220492251289, 1.01219073706538, 0.9654452143812472, 1.028665414606421, 0.6771817743162033, 0.33859088715810165, 1.01219073706538, 1.0065987031510752, 1.0093810602124282, 0.9935771200763506, 0.9927422389233191, 1.0528454580654567, 1.061790826494884, 0.9935135555160785, 0.9657878652718218, 0.9875312520353695, 0.6743824751124871, 0.33719123755624353, 1.0032390197405912, 0.8759210745534102, 1.0032390197405912, 1.0284387068394303, 0.9875312520353695, 1.0146790832142287, 0.9935135555160785, 0.987562558411567, 0.9935771200763506, 1.0268988095972067, 0.987562558411567, 0.9935771200763506, 0.9981176511441647, 1.0021876339352884, 1.0104802476488453, 1.0093810602124282, 1.01219073706538, 0.9908178449541135, 0.9935771200763506, 0.20336612891462805, 0.8134645156585122, 1.0093810602124282, 0.488181667850459, 0.488181667850459, 0.9935771200763506, 1.0422363372586723, 1.01219073706538, 1.001129269417103, 1.0235487061453836, 1.0355936486963215, 1.0268988095972067, 1.01219073706538, 1.01219073706538, 1.032466537566804, 0.9875312520353695, 1.0355936486963215, 1.0225120099177496, 1.061790826494884, 1.0355936486963215, 1.0355936486963215, 0.9880859724941095, 1.0268988095972067, 1.0268988095972067, 0.9935771200763506, 0.987562558411567, 1.0065987031510752, 1.061790826494884, 1.0108431806818132, 1.0175731059709037, 1.0268988095972067, 0.9880859724941095, 0.49525668148282515, 0.49525668148282515, 0.9875312520353695, 1.0194212017307882, 1.0032390197405912, 1.0463285318651803, 0.9981176511441647, 0.9935135555160785, 0.9935135555160785, 0.9998094531293298, 0.690269625134074, 0.345134812567037, 1.061790826494884, 1.061790826494884, 1.0799341030419456, 0.6171176429107328, 0.41141176194048856, 1.01219073706538, 0.7813356661994637, 0.2604452220664879, 1.01219073706538, 1.009446688135004, 0.9804220492251289, 1.0225120099177496, 0.9880859724941095, 1.0268988095972067, 0.9804220492251289, 0.987562558411567, 0.9804220492251289, 0.9804220492251289, 0.9875312520353695, 0.7263224443752825, 0.2594008729911723, 0.9804220492251289, 1.01219073706538, 1.01219073706538, 1.0195898825628853, 0.987562558411567, 1.009446688135004, 1.0032390197405912, 0.9155901237278675, 0.9986269547600417, 1.0104802476488453, 0.9804220492251289, 0.7675626113063488, 0.25585420376878293, 0.9657878652718218, 0.9695747990644349, 0.9908178449541135, 0.6794978999891091, 0.33974894999455457, 1.0528454580654567, 1.0175731059709037, 0.9935135555160785, 0.8352470848360369, 0.20881177120900923, 0.9908178449541135, 0.9935135555160785, 1.0228902894193155, 1.009446688135004, 1.028904761459877, 0.2530230052077244, 0.7590690156231733, 1.0528454580654567, 1.0463285318651803, 1.0355936486963215, 0.9935771200763506, 0.9875312520353695, 1.061790826494884, 1.0299427081484085, 0.9958708736412467, 1.061790826494884, 1.061790826494884, 0.9875312520353695, 1.0268988095972067, 0.9962156193469314, 0.517831598476263, 0.517831598476263, 1.0616886279015891, 1.0528454580654567, 1.0235150993117337, 0.6536383691665859, 0.38128904868050845, 1.0195898825628853, 1.0146790832142287, 0.9935771200763506, 1.0104802476488453, 0.9804220492251289, 0.9433123548876466, 0.9908178449541135, 1.0112653784066545, 0.9908178449541135, 0.16176121448476458, 0.8088060724238229, 1.0224446633603939, 0.9935771200763506, 1.040422827196411, 1.0355936486963215, 1.0032067246683296, 1.0065987031510752, 1.061790826494884, 1.0104802476488453, 1.01219073706538, 0.34001391336016257, 0.6800278267203251, 1.0065987031510752, 0.9433123548876466, 1.0300110237242635, 1.009446688135004, 1.0032390197405912, 0.9935135555160785, 1.001129269417103, 0.9905267287337155, 1.0032390197405912, 0.17078539080829702, 0.6831415632331881, 0.17078539080829702, 0.9875312520353695, 1.0195898825628853, 1.061790826494884, 1.0799341030419456, 1.061790826494884, 1.0065987031510752, 1.061790826494884, 1.0175063461069866, 1.061790826494884, 0.7988453374596802, 0.19971133436492006, 0.9935771200763506, 1.040422827196411, 0.9870715937657001, 1.040422827196411, 0.9875312520353695, 1.0093810602124282, 0.9935135555160785, 0.9935135555160785, 1.0032067246683296, 0.493773453101141, 0.493773453101141, 1.0194212017307882, 0.9330120809431607, 0.9935771200763506, 1.0175731059709037, 1.0438596930344868, 1.032466537566804, 1.01219073706538, 1.0195898825628853, 0.9935771200763506, 0.9935135555160785, 1.0355936486963215, 1.0355936486963215, 0.9433123548876466, 1.0528454580654567, 1.0706817959593278, 1.0268988095972067, 1.0146790832142287, 1.0481627169241772, 1.0355936486963215, 0.9935771200763506, 1.061790826494884, 1.0353097539325502, 1.0104802476488453, 0.9804220492251289, 0.9433123548876466, 1.0065987031510752, 1.0194212017307882, 0.9935135555160785, 0.9433123548876466, 1.0112653784066545, 1.01219073706538, 1.0193878699483523, 1.01219073706538, 1.0093810602124282, 1.01219073706538, 1.0353097539325502, 1.061790826494884, 1.0224446633603939, 0.6290616778378917, 0.41937445189192785, 1.0065987031510752, 0.9908178449541135, 0.7459521052647197, 0.24865070175490658, 0.9804220492251289, 0.9794392875784332, 0.8365341830853515, 0.16730683661707033, 1.0355936486963215, 1.061790826494884, 1.0314118797466862, 1.061790826494884, 1.0892401815598358, 0.5191283556674862, 0.5191283556674862, 0.9908178449541135, 0.987562558411567, 1.01219073706538, 1.031883135706201, 1.0268988095972067, 0.9935771200763506, 1.0032067246683296, 1.0355936486963215, 1.01219073706538, 0.9908178449541135, 1.0528454580654567, 0.987562558411567, 1.01219073706538, 1.0065987031510752, 0.9880859724941095, 0.9330120809431607, 1.061790826494884, 0.3078403772048363, 0.6156807544096726, 0.9935135555160785, 1.0248982087466516, 0.9286383346887035, 0.10318203718763372, 1.0032390197405912, 1.0032067246683296, 1.0175063461069866, 1.0104802476488453, 0.8591220509727117, 0.14318700849545193, 0.9935135555160785, 0.9804220492251289, 1.040422827196411, 1.0355936486963215, 1.0175731059709037, 0.9935771200763506, 0.9875312520353695, 0.987562558411567, 1.061790826494884, 0.9880859724941095, 0.9875312520353695, 1.0799341030419456, 0.9908178449541135, 1.0095648092553993, 1.027045967120866, 1.0355936486963215, 0.9657878652718218, 1.01219073706538, 0.9927422389233191, 1.0355936486963215, 0.9935135555160785], \"Term\": [\"(e.g.,\", \"(ml)\", \"(nlp)\", \"(nlp),\", \"(or\", \"...\", \"...\", \"...\", \"...\", \"...\", \"1\", \"86]\", \":\", \"=\", \"ability\", \"abstract.\", \"abstract.\", \"abstract:\", \"abstract\\u2014natural\", \"acoustic\", \"acquisition\", \"address\", \"aid\", \"aim\", \"algorithms.\", \"also\", \"among\", \"amount\", \"analysis\", \"analysis\", \"analysis,\", \"analysis.\", \"application\", \"applications.\", \"applied\", \"applying\", \"approach\", \"architecture\", \"area\", \"argue\", \"around\", \"article\", \"artificial\", \"aspect\", \"audio\", \"automated\", \"automatically\", \"available\", \"base\", \"based\", \"basic\", \"become\", \"benefit\", \"better\", \"brief\", \"briefly\", \"briefly\", \"built\", \"called\", \"capture\", \"case\", \"chapter\", \"character\", \"classification\", \"collection\", \"communicating\", \"community\", \"compare\", \"compare\", \"complex\", \"complexity\", \"component\", \"computational\", \"concept\", \"confidence\", \"considers\", \"construct\", \"content\", \"context\", \"corpus\", \"covering\", \"current\", \"data\", \"data.\", \"database\", \"de\", \"decade\", \"degree\", \"describe\", \"describe\", \"design\", \"designed\", \"designed\", \"detailed\", \"developed\", \"developing\", \"development\", \"different\", \"disambiguation,\", \"discipline\", \"discus\", \"discussion\", \"document\", \"documents,\", \"documents.\", \"domain\", \"due\", \"e\", \"educational\", \"effective\", \"effective.\", \"element\", \"emerged\", \"engineering\", \"english\", \"enormous\", \"essential\", \"evaluation\", \"even\", \"examines\", \"experience\", \"experience\", \"extract\", \"extraction\", \"fall\", \"feature\", \"field\", \"finding\", \"first\", \"focus\", \"framework\", \"framework\", \"general\", \"general,\", \"generation\", \"given\", \"given\", \"go\", \"grammar\", \"grammar\", \"help\", \"high\", \"history\", \"however,\", \"human\", \"important\", \"improvement\", \"include\", \"includes\", \"including\", \"indian\", \"information\", \"information\", \"input\", \"insight\", \"integrating\", \"introduction\", \"involves\", \"issue\", \"kind\", \"knowledge\", \"language\", \"language,\", \"large\", \"last\", \"last\", \"latter\", \"learning\", \"learning.\", \"level\", \"level\", \"lex-sign\", \"limited\", \"linguist\", \"linguistic\", \"linguistic\", \"linguistics\", \"little\", \"logic\", \"lolita\", \"machine\", \"make\", \"make\", \"manual\", \"many\", \"map\", \"matching\", \"measure\", \"medical\", \"method\", \"model\", \"model,\", \"modeling\", \"modelling\", \"music\", \"natural\", \"need\", \"need\", \"network\", \"neural\", \"new\", \"nlp\", \"nlp\", \"number\", \"object\", \"objective\", \"often\", \"one\", \"opportunity\", \"organization\", \"output\", \"overview\", \"paper\", \"paper\", \"paper,\", \"paradigm\", \"parsing\", \"parsing,\", \"part\", \"pattern\", \"per\", \"plan\", \"point\", \"powerful\", \"powerful\", \"practical\", \"practice\", \"present\", \"principle\", \"probabilistic\", \"problem\", \"process\", \"processing\", \"processing,\", \"processing.\", \"processing.\", \"processing.\", \"produce\", \"program\", \"project\", \"prolog\", \"provide\", \"provides\", \"published\", \"purpose\", \"quantity\", \"range\", \"range\", \"rather\", \"recent\", \"recently\", \"recognition\", \"recognition,\", \"related\", \"relationship\", \"relevant\", \"report\", \"representing\", \"representing\", \"requirement\", \"research\", \"research.\", \"resource\", \"result\", \"retrieval\", \"retrieval.\", \"review\", \"role\", \"search\", \"semantic\", \"semantically\", \"semantics\", \"sense\", \"sense-id\", \"sensitive\", \"set\", \"several\", \"show\", \"shown\", \"signal\", \"significant\", \"similarity\", \"simple\", \"simply\", \"single\", \"software\", \"solve\", \"song,\", \"source\", \"speaker\", \"speech\", \"spoken\", \"stage\", \"stand\", \"standard\", \"state\", \"statistical\", \"structure\", \"structure\", \"study\", \"suggesting\", \"support\", \"support\", \"syntactic\", \"system\", \"systems.\", \"systems.\", \"tags,\", \"target\", \"task\", \"tasks,\", \"tasks.\", \"technique\", \"technique\", \"techniques.\", \"technology\", \"test\", \"text\", \"text.\", \"texts.\", \"th\", \"that,\", \"them.\", \"therefore\", \"thesaurus\", \"three\", \"title\", \"tool\", \"traditional\", \"two\", \"u\", \"understanding\", \"understanding\", \"us\", \"use\", \"used\", \"used\", \"useful\", \"user\", \"using\", \"usually\", \"various\", \"various\", \"version\", \"visual\", \"voice\", \"w\", \"web\", \"web-based\", \"well\", \"well.\", \"whose\", \"wide\", \"widely\", \"within\", \"without\", \"word\", \"work\", \"workbench\", \"world,we\", \"world.\", \"year\", \"years,\", \"years.\"]}, \"R\": 30, \"lambda.step\": 0.01, \"plot.opts\": {\"xlab\": \"PC1\", \"ylab\": \"PC2\"}, \"topic.order\": [10, 9, 8, 2, 7, 3, 1, 4, 6, 5]};\n",
              "\n",
              "function LDAvis_load_lib(url, callback){\n",
              "  var s = document.createElement('script');\n",
              "  s.src = url;\n",
              "  s.async = true;\n",
              "  s.onreadystatechange = s.onload = callback;\n",
              "  s.onerror = function(){console.warn(\"failed to load library \" + url);};\n",
              "  document.getElementsByTagName(\"head\")[0].appendChild(s);\n",
              "}\n",
              "\n",
              "if(typeof(LDAvis) !== \"undefined\"){\n",
              "   // already loaded: just create the visualization\n",
              "   !function(LDAvis){\n",
              "       new LDAvis(\"#\" + \"ldavis_el591396792947944487781441373\", ldavis_el591396792947944487781441373_data);\n",
              "   }(LDAvis);\n",
              "}else if(typeof define === \"function\" && define.amd){\n",
              "   // require.js is available: use it to load d3/LDAvis\n",
              "   require.config({paths: {d3: \"https://d3js.org/d3.v5\"}});\n",
              "   require([\"d3\"], function(d3){\n",
              "      window.d3 = d3;\n",
              "      LDAvis_load_lib(\"https://cdn.jsdelivr.net/gh/bmabey/pyLDAvis@3.3.1/pyLDAvis/js/ldavis.v3.0.0.js\", function(){\n",
              "        new LDAvis(\"#\" + \"ldavis_el591396792947944487781441373\", ldavis_el591396792947944487781441373_data);\n",
              "      });\n",
              "    });\n",
              "}else{\n",
              "    // require.js not available: dynamically load d3 & LDAvis\n",
              "    LDAvis_load_lib(\"https://d3js.org/d3.v5.js\", function(){\n",
              "         LDAvis_load_lib(\"https://cdn.jsdelivr.net/gh/bmabey/pyLDAvis@3.3.1/pyLDAvis/js/ldavis.v3.0.0.js\", function(){\n",
              "                 new LDAvis(\"#\" + \"ldavis_el591396792947944487781441373\", ldavis_el591396792947944487781441373_data);\n",
              "            })\n",
              "         });\n",
              "}\n",
              "</script>"
            ]
          },
          "metadata": {},
          "execution_count": 26
        }
      ]
    },
    {
      "cell_type": "markdown",
      "source": [
        "LDA\n"
      ],
      "metadata": {
        "id": "SM1qUXKnh_Nw"
      }
    },
    {
      "cell_type": "markdown",
      "metadata": {
        "id": "AfpMRCrRwN6Z"
      },
      "source": [
        "# **Question 2: Sentiment Analysis**"
      ]
    },
    {
      "cell_type": "markdown",
      "metadata": {
        "id": "1dCQEbDawWCw"
      },
      "source": [
        "(30 points). Sentiment analysis also known as opinion mining is a sub field within Natural Language Processing (NLP) that builds machine learning algorithms to classify a text according to the sentimental polarities of opinions it contains, e.g., positive, negative, neutral. The purpose of this question is to develop a machine learning classifier for sentiment analysis. Based on the dataset from assignment three, write a python program to implement a sentiment classifier and evaluate its performance. Notice: **80% data for training and 20% data for testing**.  \n",
        "\n",
        "(1) Features used for sentiment classification and explain why you select these features.\n",
        "\n",
        "(2) Select two of the supervised learning algorithm from scikit-learn library: https://scikit-learn.org/stable/supervised_learning.html#supervised-learning, to build a sentiment classifier respectively. Note: Cross-validation (5-fold or 10-fold) should be conducted. Here is the reference of cross-validation: https://scikit-learn.org/stable/modules/cross_validation.html.\n",
        "\n",
        "(3) Compare the performance over accuracy, precision, recall, and F1 score for the two algorithms you selected. Here is the reference of how to calculate these metrics: https://towardsdatascience.com/accuracy-precision-recall-or-f1-331fb37c5cb9. "
      ]
    },
    {
      "cell_type": "markdown",
      "source": [
        "Sentimental Analysis, which is likewise called assessment mining, audit mining (examination extraction), or demeanor investigation, is the undertaking of identifying, separating, and arranging suppositions, opinions, and mentalities concerning various subjects. In an AI approach, feeling investigation can be considered as an administered arrangement task.  We have different component choice procedures, for example, Mutual Information ,Information Gain, Chi-square,Tf-idf,  lexicon, word vectors and some more.\n",
        "\n",
        "Shared Information: MIterm chooses highlights that are not consistently conveyed among the feeling classes since they are enlightening of their classes.\n",
        "\n",
        "Chi-square :Chi-square estimates how much expected counts and noticed counts veer off from one another.\n",
        "\n",
        "Data Gain: Information gainis the most regularly involved highlight choice technique in the field of AI. It works out the importance of a component for expectation of feeling of survey by investigating the presence or nonattendance of an element in a record.\n",
        "\n",
        "TF-Idf: It is a weighting plan, which estimates how pertinent a word to an example in the dataset.The significance increments when the times a word shows up in the example\n",
        "\n",
        "Other element extraction strategy is word embeddings (otherwise called word vectors).\n",
        "\n",
        "Here for this investigation, I have utilized TF-Idf, which is a factual measure that assesses how significant a word is to an archive in an assortment of records. This is finished by duplicating two measurements: how often a word shows up in a report, and the converse record recurrence of the word across a bunch of documents. Machine learning with normal language is confronted with one significant obstacle - its calculations as a rule manage numbers, and regular language is, indeed, text. So we want to change that text into numbers(text vectorization). It's a principal step during the time spent AI for dissecting information, and different vectorization calculations will definitely influence outcome, so we really want to pick one that will convey the outcomes we are expecting.\n",
        "\n",
        "Whenever we have changed words into numbers, such that's AI calculations can comprehend, the TF-IDF score can be taken care of to calculations, for example, Naive Bayes and Support Vector Machines and so forth, significantly working on the aftereffects of additional essential strategies like word counts.\n",
        "\n",
        "So this sort of portrayals makes it workable for words with comparative importance to have a comparable portrayal, which can work on the presentation of classifiers."
      ],
      "metadata": {
        "id": "gHZ11XhZsWv5"
      }
    },
    {
      "cell_type": "code",
      "source": [
        "import json\n",
        "import zipfile\n",
        "import glob\n",
        "import pandas as pd\n",
        "import json\n",
        "import zipfile\n",
        "import glob\n",
        "import pandas as pd\n",
        "from nltk.corpus import stopwords\n",
        "import nltk\n",
        "nltk.download('stopwords')\n",
        "stop = stopwords.words('english')\n",
        "from textblob import TextBlob\n",
        "import sklearn\n",
        "from sklearn.model_selection import train_test_split\n",
        "from sklearn.feature_extraction.text import CountVectorizer, TfidfTransformer\n",
        "from sklearn.linear_model import SGDClassifier\n",
        "from sklearn.pipeline import Pipeline\n",
        "from sklearn.naive_bayes import MultinomialNB\n",
        "from sklearn.svm import LinearSVC\n",
        "from sklearn.metrics import f1_score, accuracy_score, precision_score, recall_score"
      ],
      "metadata": {
        "colab": {
          "base_uri": "https://localhost:8080/"
        },
        "id": "O1kJZOwLqV1O",
        "outputId": "d99676cb-ebab-4faa-e9d9-59ff7383fe8d"
      },
      "execution_count": 10,
      "outputs": [
        {
          "output_type": "stream",
          "name": "stdout",
          "text": [
            "[nltk_data] Downloading package stopwords to /root/nltk_data...\n",
            "[nltk_data]   Package stopwords is already up-to-date!\n"
          ]
        }
      ]
    },
    {
      "cell_type": "code",
      "source": [
        "import requests\n",
        "import csv\n",
        "from bs4 import BeautifulSoup\n",
        "l1=[i*10 for i in range(1,11)]\n",
        "l2=[]\n",
        "for i in l1:\n",
        "  URL = 'https://citeseerx.ist.psu.edu/search?q=natural+language+processing&t=doc&sort=rlv&start={}'.format(i)\n",
        "  page = requests.get(URL)\n",
        "  soup = BeautifulSoup(page.content, 'html.parser')\n",
        "  for i in soup.find_all(\"div\",{\"class\":\"snippet\"}):\n",
        "    l2.append(i.text)\n",
        "import pandas as pd\n",
        "df=pd.DataFrame({\"Abstract\":l2})\n",
        "df.to_csv(\"my1csv.csv\")\n",
        "df"
      ],
      "metadata": {
        "colab": {
          "base_uri": "https://localhost:8080/",
          "height": 424
        },
        "id": "j2hSaduPqV39",
        "outputId": "6ebcfa94-765f-4493-f2ac-828fbf22dc22"
      },
      "execution_count": 11,
      "outputs": [
        {
          "output_type": "execute_result",
          "data": {
            "text/plain": [
              "                                             Abstract\n",
              "0   \"... Introduction  Statistical natural languag...\n",
              "1   \"... The paper summarizes the essential proper...\n",
              "2   \"... ABSTRACT: Language is way of communicatin...\n",
              "3   \"... We report experiments on the use of stand...\n",
              "4   \"... this paper, we will describe a simple rul...\n",
              "..                                                ...\n",
              "95                      \"...   9. Bibliography   ...\"\n",
              "96  \"... Applying Natural Language Processing tech...\n",
              "97  \"... Examples of natural languages are Chinese...\n",
              "98  \"... A number of powerful modelling techniques...\n",
              "99  \"... A semi-automated approach for the design ...\n",
              "\n",
              "[100 rows x 1 columns]"
            ],
            "text/html": [
              "\n",
              "  <div id=\"df-f3f04c19-23e7-469b-8375-a96369a456ea\">\n",
              "    <div class=\"colab-df-container\">\n",
              "      <div>\n",
              "<style scoped>\n",
              "    .dataframe tbody tr th:only-of-type {\n",
              "        vertical-align: middle;\n",
              "    }\n",
              "\n",
              "    .dataframe tbody tr th {\n",
              "        vertical-align: top;\n",
              "    }\n",
              "\n",
              "    .dataframe thead th {\n",
              "        text-align: right;\n",
              "    }\n",
              "</style>\n",
              "<table border=\"1\" class=\"dataframe\">\n",
              "  <thead>\n",
              "    <tr style=\"text-align: right;\">\n",
              "      <th></th>\n",
              "      <th>Abstract</th>\n",
              "    </tr>\n",
              "  </thead>\n",
              "  <tbody>\n",
              "    <tr>\n",
              "      <th>0</th>\n",
              "      <td>\"... Introduction  Statistical natural languag...</td>\n",
              "    </tr>\n",
              "    <tr>\n",
              "      <th>1</th>\n",
              "      <td>\"... The paper summarizes the essential proper...</td>\n",
              "    </tr>\n",
              "    <tr>\n",
              "      <th>2</th>\n",
              "      <td>\"... ABSTRACT: Language is way of communicatin...</td>\n",
              "    </tr>\n",
              "    <tr>\n",
              "      <th>3</th>\n",
              "      <td>\"... We report experiments on the use of stand...</td>\n",
              "    </tr>\n",
              "    <tr>\n",
              "      <th>4</th>\n",
              "      <td>\"... this paper, we will describe a simple rul...</td>\n",
              "    </tr>\n",
              "    <tr>\n",
              "      <th>...</th>\n",
              "      <td>...</td>\n",
              "    </tr>\n",
              "    <tr>\n",
              "      <th>95</th>\n",
              "      <td>\"...   9. Bibliography   ...\"</td>\n",
              "    </tr>\n",
              "    <tr>\n",
              "      <th>96</th>\n",
              "      <td>\"... Applying Natural Language Processing tech...</td>\n",
              "    </tr>\n",
              "    <tr>\n",
              "      <th>97</th>\n",
              "      <td>\"... Examples of natural languages are Chinese...</td>\n",
              "    </tr>\n",
              "    <tr>\n",
              "      <th>98</th>\n",
              "      <td>\"... A number of powerful modelling techniques...</td>\n",
              "    </tr>\n",
              "    <tr>\n",
              "      <th>99</th>\n",
              "      <td>\"... A semi-automated approach for the design ...</td>\n",
              "    </tr>\n",
              "  </tbody>\n",
              "</table>\n",
              "<p>100 rows × 1 columns</p>\n",
              "</div>\n",
              "      <button class=\"colab-df-convert\" onclick=\"convertToInteractive('df-f3f04c19-23e7-469b-8375-a96369a456ea')\"\n",
              "              title=\"Convert this dataframe to an interactive table.\"\n",
              "              style=\"display:none;\">\n",
              "        \n",
              "  <svg xmlns=\"http://www.w3.org/2000/svg\" height=\"24px\"viewBox=\"0 0 24 24\"\n",
              "       width=\"24px\">\n",
              "    <path d=\"M0 0h24v24H0V0z\" fill=\"none\"/>\n",
              "    <path d=\"M18.56 5.44l.94 2.06.94-2.06 2.06-.94-2.06-.94-.94-2.06-.94 2.06-2.06.94zm-11 1L8.5 8.5l.94-2.06 2.06-.94-2.06-.94L8.5 2.5l-.94 2.06-2.06.94zm10 10l.94 2.06.94-2.06 2.06-.94-2.06-.94-.94-2.06-.94 2.06-2.06.94z\"/><path d=\"M17.41 7.96l-1.37-1.37c-.4-.4-.92-.59-1.43-.59-.52 0-1.04.2-1.43.59L10.3 9.45l-7.72 7.72c-.78.78-.78 2.05 0 2.83L4 21.41c.39.39.9.59 1.41.59.51 0 1.02-.2 1.41-.59l7.78-7.78 2.81-2.81c.8-.78.8-2.07 0-2.86zM5.41 20L4 18.59l7.72-7.72 1.47 1.35L5.41 20z\"/>\n",
              "  </svg>\n",
              "      </button>\n",
              "      \n",
              "  <style>\n",
              "    .colab-df-container {\n",
              "      display:flex;\n",
              "      flex-wrap:wrap;\n",
              "      gap: 12px;\n",
              "    }\n",
              "\n",
              "    .colab-df-convert {\n",
              "      background-color: #E8F0FE;\n",
              "      border: none;\n",
              "      border-radius: 50%;\n",
              "      cursor: pointer;\n",
              "      display: none;\n",
              "      fill: #1967D2;\n",
              "      height: 32px;\n",
              "      padding: 0 0 0 0;\n",
              "      width: 32px;\n",
              "    }\n",
              "\n",
              "    .colab-df-convert:hover {\n",
              "      background-color: #E2EBFA;\n",
              "      box-shadow: 0px 1px 2px rgba(60, 64, 67, 0.3), 0px 1px 3px 1px rgba(60, 64, 67, 0.15);\n",
              "      fill: #174EA6;\n",
              "    }\n",
              "\n",
              "    [theme=dark] .colab-df-convert {\n",
              "      background-color: #3B4455;\n",
              "      fill: #D2E3FC;\n",
              "    }\n",
              "\n",
              "    [theme=dark] .colab-df-convert:hover {\n",
              "      background-color: #434B5C;\n",
              "      box-shadow: 0px 1px 3px 1px rgba(0, 0, 0, 0.15);\n",
              "      filter: drop-shadow(0px 1px 2px rgba(0, 0, 0, 0.3));\n",
              "      fill: #FFFFFF;\n",
              "    }\n",
              "  </style>\n",
              "\n",
              "      <script>\n",
              "        const buttonEl =\n",
              "          document.querySelector('#df-f3f04c19-23e7-469b-8375-a96369a456ea button.colab-df-convert');\n",
              "        buttonEl.style.display =\n",
              "          google.colab.kernel.accessAllowed ? 'block' : 'none';\n",
              "\n",
              "        async function convertToInteractive(key) {\n",
              "          const element = document.querySelector('#df-f3f04c19-23e7-469b-8375-a96369a456ea');\n",
              "          const dataTable =\n",
              "            await google.colab.kernel.invokeFunction('convertToInteractive',\n",
              "                                                     [key], {});\n",
              "          if (!dataTable) return;\n",
              "\n",
              "          const docLinkHtml = 'Like what you see? Visit the ' +\n",
              "            '<a target=\"_blank\" href=https://colab.research.google.com/notebooks/data_table.ipynb>data table notebook</a>'\n",
              "            + ' to learn more about interactive tables.';\n",
              "          element.innerHTML = '';\n",
              "          dataTable['output_type'] = 'display_data';\n",
              "          await google.colab.output.renderOutput(dataTable, element);\n",
              "          const docLink = document.createElement('div');\n",
              "          docLink.innerHTML = docLinkHtml;\n",
              "          element.appendChild(docLink);\n",
              "        }\n",
              "      </script>\n",
              "    </div>\n",
              "  </div>\n",
              "  "
            ]
          },
          "metadata": {},
          "execution_count": 11
        }
      ]
    },
    {
      "cell_type": "code",
      "source": [
        "rate = [ ]\n",
        "text = [ ]\n",
        "for files in glob.iglob('https://citeseerx.ist.psu.edu/search?q=natural+language+processing&t=doc&sort=rlv&start={}'):\n",
        "  f=open(files)\n",
        "  data=json.load(f)\n",
        "  for i in data:\n",
        "      rate.append(i['stars'])\n",
        "      text.append(i['text'])"
      ],
      "metadata": {
        "id": "xorHbh9TesTC"
      },
      "execution_count": 14,
      "outputs": []
    },
    {
      "cell_type": "code",
      "source": [
        "mydata = pd.DataFrame({'title':text,'text':rate})"
      ],
      "metadata": {
        "id": "HTGEcJXRfN9E"
      },
      "execution_count": 17,
      "outputs": []
    },
    {
      "cell_type": "code",
      "source": [
        "mydata['text']=mydata['text'].astype(int)\n",
        "mydata.head()"
      ],
      "metadata": {
        "colab": {
          "base_uri": "https://localhost:8080/",
          "height": 49
        },
        "id": "uQ-KLV93fmsy",
        "outputId": "fad8ce4a-24b5-4c5d-b94e-330f5f943e51"
      },
      "execution_count": 20,
      "outputs": [
        {
          "output_type": "execute_result",
          "data": {
            "text/plain": [
              "Empty DataFrame\n",
              "Columns: [title, text]\n",
              "Index: []"
            ],
            "text/html": [
              "\n",
              "  <div id=\"df-22ec9773-5ce4-4b44-a0fa-4146f99baf2f\">\n",
              "    <div class=\"colab-df-container\">\n",
              "      <div>\n",
              "<style scoped>\n",
              "    .dataframe tbody tr th:only-of-type {\n",
              "        vertical-align: middle;\n",
              "    }\n",
              "\n",
              "    .dataframe tbody tr th {\n",
              "        vertical-align: top;\n",
              "    }\n",
              "\n",
              "    .dataframe thead th {\n",
              "        text-align: right;\n",
              "    }\n",
              "</style>\n",
              "<table border=\"1\" class=\"dataframe\">\n",
              "  <thead>\n",
              "    <tr style=\"text-align: right;\">\n",
              "      <th></th>\n",
              "      <th>title</th>\n",
              "      <th>text</th>\n",
              "    </tr>\n",
              "  </thead>\n",
              "  <tbody>\n",
              "  </tbody>\n",
              "</table>\n",
              "</div>\n",
              "      <button class=\"colab-df-convert\" onclick=\"convertToInteractive('df-22ec9773-5ce4-4b44-a0fa-4146f99baf2f')\"\n",
              "              title=\"Convert this dataframe to an interactive table.\"\n",
              "              style=\"display:none;\">\n",
              "        \n",
              "  <svg xmlns=\"http://www.w3.org/2000/svg\" height=\"24px\"viewBox=\"0 0 24 24\"\n",
              "       width=\"24px\">\n",
              "    <path d=\"M0 0h24v24H0V0z\" fill=\"none\"/>\n",
              "    <path d=\"M18.56 5.44l.94 2.06.94-2.06 2.06-.94-2.06-.94-.94-2.06-.94 2.06-2.06.94zm-11 1L8.5 8.5l.94-2.06 2.06-.94-2.06-.94L8.5 2.5l-.94 2.06-2.06.94zm10 10l.94 2.06.94-2.06 2.06-.94-2.06-.94-.94-2.06-.94 2.06-2.06.94z\"/><path d=\"M17.41 7.96l-1.37-1.37c-.4-.4-.92-.59-1.43-.59-.52 0-1.04.2-1.43.59L10.3 9.45l-7.72 7.72c-.78.78-.78 2.05 0 2.83L4 21.41c.39.39.9.59 1.41.59.51 0 1.02-.2 1.41-.59l7.78-7.78 2.81-2.81c.8-.78.8-2.07 0-2.86zM5.41 20L4 18.59l7.72-7.72 1.47 1.35L5.41 20z\"/>\n",
              "  </svg>\n",
              "      </button>\n",
              "      \n",
              "  <style>\n",
              "    .colab-df-container {\n",
              "      display:flex;\n",
              "      flex-wrap:wrap;\n",
              "      gap: 12px;\n",
              "    }\n",
              "\n",
              "    .colab-df-convert {\n",
              "      background-color: #E8F0FE;\n",
              "      border: none;\n",
              "      border-radius: 50%;\n",
              "      cursor: pointer;\n",
              "      display: none;\n",
              "      fill: #1967D2;\n",
              "      height: 32px;\n",
              "      padding: 0 0 0 0;\n",
              "      width: 32px;\n",
              "    }\n",
              "\n",
              "    .colab-df-convert:hover {\n",
              "      background-color: #E2EBFA;\n",
              "      box-shadow: 0px 1px 2px rgba(60, 64, 67, 0.3), 0px 1px 3px 1px rgba(60, 64, 67, 0.15);\n",
              "      fill: #174EA6;\n",
              "    }\n",
              "\n",
              "    [theme=dark] .colab-df-convert {\n",
              "      background-color: #3B4455;\n",
              "      fill: #D2E3FC;\n",
              "    }\n",
              "\n",
              "    [theme=dark] .colab-df-convert:hover {\n",
              "      background-color: #434B5C;\n",
              "      box-shadow: 0px 1px 3px 1px rgba(0, 0, 0, 0.15);\n",
              "      filter: drop-shadow(0px 1px 2px rgba(0, 0, 0, 0.3));\n",
              "      fill: #FFFFFF;\n",
              "    }\n",
              "  </style>\n",
              "\n",
              "      <script>\n",
              "        const buttonEl =\n",
              "          document.querySelector('#df-22ec9773-5ce4-4b44-a0fa-4146f99baf2f button.colab-df-convert');\n",
              "        buttonEl.style.display =\n",
              "          google.colab.kernel.accessAllowed ? 'block' : 'none';\n",
              "\n",
              "        async function convertToInteractive(key) {\n",
              "          const element = document.querySelector('#df-22ec9773-5ce4-4b44-a0fa-4146f99baf2f');\n",
              "          const dataTable =\n",
              "            await google.colab.kernel.invokeFunction('convertToInteractive',\n",
              "                                                     [key], {});\n",
              "          if (!dataTable) return;\n",
              "\n",
              "          const docLinkHtml = 'Like what you see? Visit the ' +\n",
              "            '<a target=\"_blank\" href=https://colab.research.google.com/notebooks/data_table.ipynb>data table notebook</a>'\n",
              "            + ' to learn more about interactive tables.';\n",
              "          element.innerHTML = '';\n",
              "          dataTable['output_type'] = 'display_data';\n",
              "          await google.colab.output.renderOutput(dataTable, element);\n",
              "          const docLink = document.createElement('div');\n",
              "          docLink.innerHTML = docLinkHtml;\n",
              "          element.appendChild(docLink);\n",
              "        }\n",
              "      </script>\n",
              "    </div>\n",
              "  </div>\n",
              "  "
            ]
          },
          "metadata": {},
          "execution_count": 20
        }
      ]
    },
    {
      "cell_type": "code",
      "source": [
        "# Data cleaning\n",
        "\n",
        "#lower\n",
        "df['Abstract']=df['Abstract'].map(lambda x: x.lower())\n",
        "#removing punctutations\n",
        "df['Abstract']=df['Abstract'].map(lambda x: re.sub('[?|!|\\'|\"|#]', '', x))\n",
        "#Lemmitizing\n",
        "df['Abstract']=df['Abstract'].apply(lambda x:\" \".join(x for x in x.split() if x not in words))\n",
        "df['Abstract']=df['Abstract'].apply(lambda x: \" \".join([Word(word).lemmatize() for word in x.split()]))\n",
        "df.head(10)"
      ],
      "metadata": {
        "colab": {
          "base_uri": "https://localhost:8080/",
          "height": 363
        },
        "id": "QJMYb6NUqV-R",
        "outputId": "d01ac063-c1fa-4ff7-ebe7-041cfdd9b7bc"
      },
      "execution_count": 21,
      "outputs": [
        {
          "output_type": "execute_result",
          "data": {
            "text/plain": [
              "                                            Abstract\n",
              "0  ... introduction statistical natural language ...\n",
              "1  ... paper summarizes essential property docume...\n",
              "2  ... abstract: language way communicating word ...\n",
              "3  ... report experiment use standard natural lan...\n",
              "4  ... paper, describe simple rule-based approach...\n",
              "5  ... paper focus connectionist model natural la...\n",
              "6  ... abstract: article explores possibility con...\n",
              "7  ... paper (see [schank 86] theoretical discuss...\n",
              "8  ... objective provide overview tutorial natura...\n",
              "9  ... paper briefly describes current implementa..."
            ],
            "text/html": [
              "\n",
              "  <div id=\"df-abb51a19-9fe6-4308-9e77-e0c09c9d848d\">\n",
              "    <div class=\"colab-df-container\">\n",
              "      <div>\n",
              "<style scoped>\n",
              "    .dataframe tbody tr th:only-of-type {\n",
              "        vertical-align: middle;\n",
              "    }\n",
              "\n",
              "    .dataframe tbody tr th {\n",
              "        vertical-align: top;\n",
              "    }\n",
              "\n",
              "    .dataframe thead th {\n",
              "        text-align: right;\n",
              "    }\n",
              "</style>\n",
              "<table border=\"1\" class=\"dataframe\">\n",
              "  <thead>\n",
              "    <tr style=\"text-align: right;\">\n",
              "      <th></th>\n",
              "      <th>Abstract</th>\n",
              "    </tr>\n",
              "  </thead>\n",
              "  <tbody>\n",
              "    <tr>\n",
              "      <th>0</th>\n",
              "      <td>... introduction statistical natural language ...</td>\n",
              "    </tr>\n",
              "    <tr>\n",
              "      <th>1</th>\n",
              "      <td>... paper summarizes essential property docume...</td>\n",
              "    </tr>\n",
              "    <tr>\n",
              "      <th>2</th>\n",
              "      <td>... abstract: language way communicating word ...</td>\n",
              "    </tr>\n",
              "    <tr>\n",
              "      <th>3</th>\n",
              "      <td>... report experiment use standard natural lan...</td>\n",
              "    </tr>\n",
              "    <tr>\n",
              "      <th>4</th>\n",
              "      <td>... paper, describe simple rule-based approach...</td>\n",
              "    </tr>\n",
              "    <tr>\n",
              "      <th>5</th>\n",
              "      <td>... paper focus connectionist model natural la...</td>\n",
              "    </tr>\n",
              "    <tr>\n",
              "      <th>6</th>\n",
              "      <td>... abstract: article explores possibility con...</td>\n",
              "    </tr>\n",
              "    <tr>\n",
              "      <th>7</th>\n",
              "      <td>... paper (see [schank 86] theoretical discuss...</td>\n",
              "    </tr>\n",
              "    <tr>\n",
              "      <th>8</th>\n",
              "      <td>... objective provide overview tutorial natura...</td>\n",
              "    </tr>\n",
              "    <tr>\n",
              "      <th>9</th>\n",
              "      <td>... paper briefly describes current implementa...</td>\n",
              "    </tr>\n",
              "  </tbody>\n",
              "</table>\n",
              "</div>\n",
              "      <button class=\"colab-df-convert\" onclick=\"convertToInteractive('df-abb51a19-9fe6-4308-9e77-e0c09c9d848d')\"\n",
              "              title=\"Convert this dataframe to an interactive table.\"\n",
              "              style=\"display:none;\">\n",
              "        \n",
              "  <svg xmlns=\"http://www.w3.org/2000/svg\" height=\"24px\"viewBox=\"0 0 24 24\"\n",
              "       width=\"24px\">\n",
              "    <path d=\"M0 0h24v24H0V0z\" fill=\"none\"/>\n",
              "    <path d=\"M18.56 5.44l.94 2.06.94-2.06 2.06-.94-2.06-.94-.94-2.06-.94 2.06-2.06.94zm-11 1L8.5 8.5l.94-2.06 2.06-.94-2.06-.94L8.5 2.5l-.94 2.06-2.06.94zm10 10l.94 2.06.94-2.06 2.06-.94-2.06-.94-.94-2.06-.94 2.06-2.06.94z\"/><path d=\"M17.41 7.96l-1.37-1.37c-.4-.4-.92-.59-1.43-.59-.52 0-1.04.2-1.43.59L10.3 9.45l-7.72 7.72c-.78.78-.78 2.05 0 2.83L4 21.41c.39.39.9.59 1.41.59.51 0 1.02-.2 1.41-.59l7.78-7.78 2.81-2.81c.8-.78.8-2.07 0-2.86zM5.41 20L4 18.59l7.72-7.72 1.47 1.35L5.41 20z\"/>\n",
              "  </svg>\n",
              "      </button>\n",
              "      \n",
              "  <style>\n",
              "    .colab-df-container {\n",
              "      display:flex;\n",
              "      flex-wrap:wrap;\n",
              "      gap: 12px;\n",
              "    }\n",
              "\n",
              "    .colab-df-convert {\n",
              "      background-color: #E8F0FE;\n",
              "      border: none;\n",
              "      border-radius: 50%;\n",
              "      cursor: pointer;\n",
              "      display: none;\n",
              "      fill: #1967D2;\n",
              "      height: 32px;\n",
              "      padding: 0 0 0 0;\n",
              "      width: 32px;\n",
              "    }\n",
              "\n",
              "    .colab-df-convert:hover {\n",
              "      background-color: #E2EBFA;\n",
              "      box-shadow: 0px 1px 2px rgba(60, 64, 67, 0.3), 0px 1px 3px 1px rgba(60, 64, 67, 0.15);\n",
              "      fill: #174EA6;\n",
              "    }\n",
              "\n",
              "    [theme=dark] .colab-df-convert {\n",
              "      background-color: #3B4455;\n",
              "      fill: #D2E3FC;\n",
              "    }\n",
              "\n",
              "    [theme=dark] .colab-df-convert:hover {\n",
              "      background-color: #434B5C;\n",
              "      box-shadow: 0px 1px 3px 1px rgba(0, 0, 0, 0.15);\n",
              "      filter: drop-shadow(0px 1px 2px rgba(0, 0, 0, 0.3));\n",
              "      fill: #FFFFFF;\n",
              "    }\n",
              "  </style>\n",
              "\n",
              "      <script>\n",
              "        const buttonEl =\n",
              "          document.querySelector('#df-abb51a19-9fe6-4308-9e77-e0c09c9d848d button.colab-df-convert');\n",
              "        buttonEl.style.display =\n",
              "          google.colab.kernel.accessAllowed ? 'block' : 'none';\n",
              "\n",
              "        async function convertToInteractive(key) {\n",
              "          const element = document.querySelector('#df-abb51a19-9fe6-4308-9e77-e0c09c9d848d');\n",
              "          const dataTable =\n",
              "            await google.colab.kernel.invokeFunction('convertToInteractive',\n",
              "                                                     [key], {});\n",
              "          if (!dataTable) return;\n",
              "\n",
              "          const docLinkHtml = 'Like what you see? Visit the ' +\n",
              "            '<a target=\"_blank\" href=https://colab.research.google.com/notebooks/data_table.ipynb>data table notebook</a>'\n",
              "            + ' to learn more about interactive tables.';\n",
              "          element.innerHTML = '';\n",
              "          dataTable['output_type'] = 'display_data';\n",
              "          await google.colab.output.renderOutput(dataTable, element);\n",
              "          const docLink = document.createElement('div');\n",
              "          docLink.innerHTML = docLinkHtml;\n",
              "          element.appendChild(docLink);\n",
              "        }\n",
              "      </script>\n",
              "    </div>\n",
              "  </div>\n",
              "  "
            ]
          },
          "metadata": {},
          "execution_count": 21
        }
      ]
    },
    {
      "cell_type": "code",
      "source": [
        "#Data Preprocessing\n",
        "\n",
        "mydata['clean text'] = mydata['title'].apply(lambda x: \" \".join(x.lower() for x in x.split()))\n",
        "mydata['clean text'] = mydata['clean text'].str.replace('[^\\w\\s]','')\n",
        "mydata['clean text'] = mydata['clean text'].apply(lambda x: \" \".join(x for x in x.split() if x not in stop))\n",
        "high_freq = pd.Series(' '.join(mydata['clean text']).split()).value_counts()[:10]\n",
        "high_freq = list(high_freq.index)\n",
        "mydata['clean text'] = mydata['clean text'].apply(lambda x: \" \".join(x for x in x.split() if x not in high_freq))\n",
        "low_freq = pd.Series(' '.join(mydata['clean text']).split()).value_counts()[-10:]\n",
        "low_freq = list(low_freq.index)\n",
        "mydata['clean text'] = mydata['clean text'].apply(lambda x: \" \".join(x for x in x.split() if x not in low_freq))\n",
        "\n",
        "mydata['clean text'] = mydata['Reviews'].str.replace('[^\\w\\s]','')\n",
        "mydata['clean text'] = mydata['clean text'].apply(lambda x: \" \".join(x.lower() for x in x.split()))\n",
        "mydata['clean text'] = mydata['clean text'].apply(lambda x: \" \".join(x for x in x.split() if x not in stop))"
      ],
      "metadata": {
        "colab": {
          "base_uri": "https://localhost:8080/",
          "height": 1000
        },
        "id": "sLwcPv6tqWCs",
        "outputId": "006dbefc-e3aa-40fe-fe48-7d5046e6d9f4"
      },
      "execution_count": 23,
      "outputs": [
        {
          "output_type": "stream",
          "name": "stderr",
          "text": [
            "<input>:4: DeprecationWarning: invalid escape sequence \\w\n",
            "<input>:4: DeprecationWarning: invalid escape sequence \\w\n",
            "<input>:4: DeprecationWarning: invalid escape sequence \\w\n",
            "<input>:4: DeprecationWarning: invalid escape sequence \\w\n",
            "<input>:4: DeprecationWarning: invalid escape sequence \\w\n",
            "<input>:4: DeprecationWarning: invalid escape sequence \\w\n",
            "<input>:4: DeprecationWarning: invalid escape sequence \\w\n",
            "<input>:4: DeprecationWarning: invalid escape sequence \\w\n",
            "<input>:4: DeprecationWarning: invalid escape sequence \\w\n",
            "<input>:4: DeprecationWarning: invalid escape sequence \\w\n",
            "<input>:13: DeprecationWarning: invalid escape sequence \\w\n",
            "<input>:4: DeprecationWarning: invalid escape sequence \\w\n",
            "<input>:13: DeprecationWarning: invalid escape sequence \\w\n",
            "<input>:4: DeprecationWarning: invalid escape sequence \\w\n",
            "<input>:13: DeprecationWarning: invalid escape sequence \\w\n",
            "<ipython-input-23-858d51723902>:4: DeprecationWarning: invalid escape sequence \\w\n",
            "  mydata['clean text'] = mydata['clean text'].str.replace('[^\\w\\s]','')\n",
            "<ipython-input-23-858d51723902>:13: DeprecationWarning: invalid escape sequence \\w\n",
            "  mydata['clean text'] = mydata['Reviews'].str.replace('[^\\w\\s]','')\n"
          ]
        },
        {
          "output_type": "error",
          "ename": "AttributeError",
          "evalue": "ignored",
          "traceback": [
            "\u001b[0;31m---------------------------------------------------------------------------\u001b[0m",
            "\u001b[0;31mAttributeError\u001b[0m                            Traceback (most recent call last)",
            "\u001b[0;32m<ipython-input-23-858d51723902>\u001b[0m in \u001b[0;36m<module>\u001b[0;34m()\u001b[0m\n\u001b[1;32m      2\u001b[0m \u001b[0;34m\u001b[0m\u001b[0m\n\u001b[1;32m      3\u001b[0m \u001b[0mmydata\u001b[0m\u001b[0;34m[\u001b[0m\u001b[0;34m'clean text'\u001b[0m\u001b[0;34m]\u001b[0m \u001b[0;34m=\u001b[0m \u001b[0mmydata\u001b[0m\u001b[0;34m[\u001b[0m\u001b[0;34m'title'\u001b[0m\u001b[0;34m]\u001b[0m\u001b[0;34m.\u001b[0m\u001b[0mapply\u001b[0m\u001b[0;34m(\u001b[0m\u001b[0;32mlambda\u001b[0m \u001b[0mx\u001b[0m\u001b[0;34m:\u001b[0m \u001b[0;34m\" \"\u001b[0m\u001b[0;34m.\u001b[0m\u001b[0mjoin\u001b[0m\u001b[0;34m(\u001b[0m\u001b[0mx\u001b[0m\u001b[0;34m.\u001b[0m\u001b[0mlower\u001b[0m\u001b[0;34m(\u001b[0m\u001b[0;34m)\u001b[0m \u001b[0;32mfor\u001b[0m \u001b[0mx\u001b[0m \u001b[0;32min\u001b[0m \u001b[0mx\u001b[0m\u001b[0;34m.\u001b[0m\u001b[0msplit\u001b[0m\u001b[0;34m(\u001b[0m\u001b[0;34m)\u001b[0m\u001b[0;34m)\u001b[0m\u001b[0;34m)\u001b[0m\u001b[0;34m\u001b[0m\u001b[0;34m\u001b[0m\u001b[0m\n\u001b[0;32m----> 4\u001b[0;31m \u001b[0mmydata\u001b[0m\u001b[0;34m[\u001b[0m\u001b[0;34m'clean text'\u001b[0m\u001b[0;34m]\u001b[0m \u001b[0;34m=\u001b[0m \u001b[0mmydata\u001b[0m\u001b[0;34m[\u001b[0m\u001b[0;34m'clean text'\u001b[0m\u001b[0;34m]\u001b[0m\u001b[0;34m.\u001b[0m\u001b[0mstr\u001b[0m\u001b[0;34m.\u001b[0m\u001b[0mreplace\u001b[0m\u001b[0;34m(\u001b[0m\u001b[0;34m'[^\\w\\s]'\u001b[0m\u001b[0;34m,\u001b[0m\u001b[0;34m''\u001b[0m\u001b[0;34m)\u001b[0m\u001b[0;34m\u001b[0m\u001b[0;34m\u001b[0m\u001b[0m\n\u001b[0m\u001b[1;32m      5\u001b[0m \u001b[0mmydata\u001b[0m\u001b[0;34m[\u001b[0m\u001b[0;34m'clean text'\u001b[0m\u001b[0;34m]\u001b[0m \u001b[0;34m=\u001b[0m \u001b[0mmydata\u001b[0m\u001b[0;34m[\u001b[0m\u001b[0;34m'clean text'\u001b[0m\u001b[0;34m]\u001b[0m\u001b[0;34m.\u001b[0m\u001b[0mapply\u001b[0m\u001b[0;34m(\u001b[0m\u001b[0;32mlambda\u001b[0m \u001b[0mx\u001b[0m\u001b[0;34m:\u001b[0m \u001b[0;34m\" \"\u001b[0m\u001b[0;34m.\u001b[0m\u001b[0mjoin\u001b[0m\u001b[0;34m(\u001b[0m\u001b[0mx\u001b[0m \u001b[0;32mfor\u001b[0m \u001b[0mx\u001b[0m \u001b[0;32min\u001b[0m \u001b[0mx\u001b[0m\u001b[0;34m.\u001b[0m\u001b[0msplit\u001b[0m\u001b[0;34m(\u001b[0m\u001b[0;34m)\u001b[0m \u001b[0;32mif\u001b[0m \u001b[0mx\u001b[0m \u001b[0;32mnot\u001b[0m \u001b[0;32min\u001b[0m \u001b[0mstop\u001b[0m\u001b[0;34m)\u001b[0m\u001b[0;34m)\u001b[0m\u001b[0;34m\u001b[0m\u001b[0;34m\u001b[0m\u001b[0m\n\u001b[1;32m      6\u001b[0m \u001b[0mhigh_freq\u001b[0m \u001b[0;34m=\u001b[0m \u001b[0mpd\u001b[0m\u001b[0;34m.\u001b[0m\u001b[0mSeries\u001b[0m\u001b[0;34m(\u001b[0m\u001b[0;34m' '\u001b[0m\u001b[0;34m.\u001b[0m\u001b[0mjoin\u001b[0m\u001b[0;34m(\u001b[0m\u001b[0mmydata\u001b[0m\u001b[0;34m[\u001b[0m\u001b[0;34m'clean text'\u001b[0m\u001b[0;34m]\u001b[0m\u001b[0;34m)\u001b[0m\u001b[0;34m.\u001b[0m\u001b[0msplit\u001b[0m\u001b[0;34m(\u001b[0m\u001b[0;34m)\u001b[0m\u001b[0;34m)\u001b[0m\u001b[0;34m.\u001b[0m\u001b[0mvalue_counts\u001b[0m\u001b[0;34m(\u001b[0m\u001b[0;34m)\u001b[0m\u001b[0;34m[\u001b[0m\u001b[0;34m:\u001b[0m\u001b[0;36m10\u001b[0m\u001b[0;34m]\u001b[0m\u001b[0;34m\u001b[0m\u001b[0;34m\u001b[0m\u001b[0m\n",
            "\u001b[0;32m/usr/local/lib/python3.7/dist-packages/pandas/core/generic.py\u001b[0m in \u001b[0;36m__getattr__\u001b[0;34m(self, name)\u001b[0m\n\u001b[1;32m   5485\u001b[0m         ):\n\u001b[1;32m   5486\u001b[0m             \u001b[0;32mreturn\u001b[0m \u001b[0mself\u001b[0m\u001b[0;34m[\u001b[0m\u001b[0mname\u001b[0m\u001b[0;34m]\u001b[0m\u001b[0;34m\u001b[0m\u001b[0;34m\u001b[0m\u001b[0m\n\u001b[0;32m-> 5487\u001b[0;31m         \u001b[0;32mreturn\u001b[0m \u001b[0mobject\u001b[0m\u001b[0;34m.\u001b[0m\u001b[0m__getattribute__\u001b[0m\u001b[0;34m(\u001b[0m\u001b[0mself\u001b[0m\u001b[0;34m,\u001b[0m \u001b[0mname\u001b[0m\u001b[0;34m)\u001b[0m\u001b[0;34m\u001b[0m\u001b[0;34m\u001b[0m\u001b[0m\n\u001b[0m\u001b[1;32m   5488\u001b[0m \u001b[0;34m\u001b[0m\u001b[0m\n\u001b[1;32m   5489\u001b[0m     \u001b[0;32mdef\u001b[0m \u001b[0m__setattr__\u001b[0m\u001b[0;34m(\u001b[0m\u001b[0mself\u001b[0m\u001b[0;34m,\u001b[0m \u001b[0mname\u001b[0m\u001b[0;34m:\u001b[0m \u001b[0mstr\u001b[0m\u001b[0;34m,\u001b[0m \u001b[0mvalue\u001b[0m\u001b[0;34m)\u001b[0m \u001b[0;34m->\u001b[0m \u001b[0;32mNone\u001b[0m\u001b[0;34m:\u001b[0m\u001b[0;34m\u001b[0m\u001b[0;34m\u001b[0m\u001b[0m\n",
            "\u001b[0;32m/usr/local/lib/python3.7/dist-packages/pandas/core/accessor.py\u001b[0m in \u001b[0;36m__get__\u001b[0;34m(self, obj, cls)\u001b[0m\n\u001b[1;32m    179\u001b[0m             \u001b[0;31m# we're accessing the attribute of the class, i.e., Dataset.geo\u001b[0m\u001b[0;34m\u001b[0m\u001b[0;34m\u001b[0m\u001b[0;34m\u001b[0m\u001b[0m\n\u001b[1;32m    180\u001b[0m             \u001b[0;32mreturn\u001b[0m \u001b[0mself\u001b[0m\u001b[0;34m.\u001b[0m\u001b[0m_accessor\u001b[0m\u001b[0;34m\u001b[0m\u001b[0;34m\u001b[0m\u001b[0m\n\u001b[0;32m--> 181\u001b[0;31m         \u001b[0maccessor_obj\u001b[0m \u001b[0;34m=\u001b[0m \u001b[0mself\u001b[0m\u001b[0;34m.\u001b[0m\u001b[0m_accessor\u001b[0m\u001b[0;34m(\u001b[0m\u001b[0mobj\u001b[0m\u001b[0;34m)\u001b[0m\u001b[0;34m\u001b[0m\u001b[0;34m\u001b[0m\u001b[0m\n\u001b[0m\u001b[1;32m    182\u001b[0m         \u001b[0;31m# Replace the property with the accessor object. Inspired by:\u001b[0m\u001b[0;34m\u001b[0m\u001b[0;34m\u001b[0m\u001b[0;34m\u001b[0m\u001b[0m\n\u001b[1;32m    183\u001b[0m         \u001b[0;31m# https://www.pydanny.com/cached-property.html\u001b[0m\u001b[0;34m\u001b[0m\u001b[0;34m\u001b[0m\u001b[0;34m\u001b[0m\u001b[0m\n",
            "\u001b[0;32m/usr/local/lib/python3.7/dist-packages/pandas/core/strings/accessor.py\u001b[0m in \u001b[0;36m__init__\u001b[0;34m(self, data)\u001b[0m\n\u001b[1;32m    166\u001b[0m         \u001b[0;32mfrom\u001b[0m \u001b[0mpandas\u001b[0m\u001b[0;34m.\u001b[0m\u001b[0mcore\u001b[0m\u001b[0;34m.\u001b[0m\u001b[0marrays\u001b[0m\u001b[0;34m.\u001b[0m\u001b[0mstring_\u001b[0m \u001b[0;32mimport\u001b[0m \u001b[0mStringDtype\u001b[0m\u001b[0;34m\u001b[0m\u001b[0;34m\u001b[0m\u001b[0m\n\u001b[1;32m    167\u001b[0m \u001b[0;34m\u001b[0m\u001b[0m\n\u001b[0;32m--> 168\u001b[0;31m         \u001b[0mself\u001b[0m\u001b[0;34m.\u001b[0m\u001b[0m_inferred_dtype\u001b[0m \u001b[0;34m=\u001b[0m \u001b[0mself\u001b[0m\u001b[0;34m.\u001b[0m\u001b[0m_validate\u001b[0m\u001b[0;34m(\u001b[0m\u001b[0mdata\u001b[0m\u001b[0;34m)\u001b[0m\u001b[0;34m\u001b[0m\u001b[0;34m\u001b[0m\u001b[0m\n\u001b[0m\u001b[1;32m    169\u001b[0m         \u001b[0mself\u001b[0m\u001b[0;34m.\u001b[0m\u001b[0m_is_categorical\u001b[0m \u001b[0;34m=\u001b[0m \u001b[0mis_categorical_dtype\u001b[0m\u001b[0;34m(\u001b[0m\u001b[0mdata\u001b[0m\u001b[0;34m.\u001b[0m\u001b[0mdtype\u001b[0m\u001b[0;34m)\u001b[0m\u001b[0;34m\u001b[0m\u001b[0;34m\u001b[0m\u001b[0m\n\u001b[1;32m    170\u001b[0m         \u001b[0mself\u001b[0m\u001b[0;34m.\u001b[0m\u001b[0m_is_string\u001b[0m \u001b[0;34m=\u001b[0m \u001b[0misinstance\u001b[0m\u001b[0;34m(\u001b[0m\u001b[0mdata\u001b[0m\u001b[0;34m.\u001b[0m\u001b[0mdtype\u001b[0m\u001b[0;34m,\u001b[0m \u001b[0mStringDtype\u001b[0m\u001b[0;34m)\u001b[0m\u001b[0;34m\u001b[0m\u001b[0;34m\u001b[0m\u001b[0m\n",
            "\u001b[0;32m/usr/local/lib/python3.7/dist-packages/pandas/core/strings/accessor.py\u001b[0m in \u001b[0;36m_validate\u001b[0;34m(data)\u001b[0m\n\u001b[1;32m    223\u001b[0m \u001b[0;34m\u001b[0m\u001b[0m\n\u001b[1;32m    224\u001b[0m         \u001b[0;32mif\u001b[0m \u001b[0minferred_dtype\u001b[0m \u001b[0;32mnot\u001b[0m \u001b[0;32min\u001b[0m \u001b[0mallowed_types\u001b[0m\u001b[0;34m:\u001b[0m\u001b[0;34m\u001b[0m\u001b[0;34m\u001b[0m\u001b[0m\n\u001b[0;32m--> 225\u001b[0;31m             \u001b[0;32mraise\u001b[0m \u001b[0mAttributeError\u001b[0m\u001b[0;34m(\u001b[0m\u001b[0;34m\"Can only use .str accessor with string values!\"\u001b[0m\u001b[0;34m)\u001b[0m\u001b[0;34m\u001b[0m\u001b[0;34m\u001b[0m\u001b[0m\n\u001b[0m\u001b[1;32m    226\u001b[0m         \u001b[0;32mreturn\u001b[0m \u001b[0minferred_dtype\u001b[0m\u001b[0;34m\u001b[0m\u001b[0;34m\u001b[0m\u001b[0m\n\u001b[1;32m    227\u001b[0m \u001b[0;34m\u001b[0m\u001b[0m\n",
            "\u001b[0;31mAttributeError\u001b[0m: Can only use .str accessor with string values!"
          ]
        }
      ]
    },
    {
      "cell_type": "code",
      "source": [
        "def sentiment(x):\n",
        "    if x == 5:\n",
        "        return 'Very positive'\n",
        "    if x == 4:\n",
        "        return 'Positive'\n",
        "    if x == 3:\n",
        "        return 'Neutral'\n",
        "    if x == 2:\n",
        "        return 'Negative'\n",
        "    if x == 1:\n",
        "        return 'Very negative'\n",
        "    \n",
        "mydata['sentiment'] = mydata['title'].apply(lambda x: sentiment(x))\n",
        "train, test = sklearn.model_selection.train_test_split(mydata, train_size=0.8, test_size=0.2)"
      ],
      "metadata": {
        "colab": {
          "base_uri": "https://localhost:8080/",
          "height": 396
        },
        "id": "JjM7-WgfgArB",
        "outputId": "7a1bdadf-6076-4ba8-8fa2-b9d0e9dd943f"
      },
      "execution_count": 24,
      "outputs": [
        {
          "output_type": "error",
          "ename": "ValueError",
          "evalue": "ignored",
          "traceback": [
            "\u001b[0;31m---------------------------------------------------------------------------\u001b[0m",
            "\u001b[0;31mValueError\u001b[0m                                Traceback (most recent call last)",
            "\u001b[0;32m<ipython-input-24-a24746c6909f>\u001b[0m in \u001b[0;36m<module>\u001b[0;34m()\u001b[0m\n\u001b[1;32m     12\u001b[0m \u001b[0;34m\u001b[0m\u001b[0m\n\u001b[1;32m     13\u001b[0m \u001b[0mmydata\u001b[0m\u001b[0;34m[\u001b[0m\u001b[0;34m'sentiment'\u001b[0m\u001b[0;34m]\u001b[0m \u001b[0;34m=\u001b[0m \u001b[0mmydata\u001b[0m\u001b[0;34m[\u001b[0m\u001b[0;34m'title'\u001b[0m\u001b[0;34m]\u001b[0m\u001b[0;34m.\u001b[0m\u001b[0mapply\u001b[0m\u001b[0;34m(\u001b[0m\u001b[0;32mlambda\u001b[0m \u001b[0mx\u001b[0m\u001b[0;34m:\u001b[0m \u001b[0msentiment\u001b[0m\u001b[0;34m(\u001b[0m\u001b[0mx\u001b[0m\u001b[0;34m)\u001b[0m\u001b[0;34m)\u001b[0m\u001b[0;34m\u001b[0m\u001b[0;34m\u001b[0m\u001b[0m\n\u001b[0;32m---> 14\u001b[0;31m \u001b[0mtrain\u001b[0m\u001b[0;34m,\u001b[0m \u001b[0mtest\u001b[0m \u001b[0;34m=\u001b[0m \u001b[0msklearn\u001b[0m\u001b[0;34m.\u001b[0m\u001b[0mmodel_selection\u001b[0m\u001b[0;34m.\u001b[0m\u001b[0mtrain_test_split\u001b[0m\u001b[0;34m(\u001b[0m\u001b[0mmydata\u001b[0m\u001b[0;34m,\u001b[0m \u001b[0mtrain_size\u001b[0m\u001b[0;34m=\u001b[0m\u001b[0;36m0.8\u001b[0m\u001b[0;34m,\u001b[0m \u001b[0mtest_size\u001b[0m\u001b[0;34m=\u001b[0m\u001b[0;36m0.2\u001b[0m\u001b[0;34m)\u001b[0m\u001b[0;34m\u001b[0m\u001b[0;34m\u001b[0m\u001b[0m\n\u001b[0m",
            "\u001b[0;32m/usr/local/lib/python3.7/dist-packages/sklearn/model_selection/_split.py\u001b[0m in \u001b[0;36mtrain_test_split\u001b[0;34m(test_size, train_size, random_state, shuffle, stratify, *arrays)\u001b[0m\n\u001b[1;32m   2419\u001b[0m     \u001b[0mn_samples\u001b[0m \u001b[0;34m=\u001b[0m \u001b[0m_num_samples\u001b[0m\u001b[0;34m(\u001b[0m\u001b[0marrays\u001b[0m\u001b[0;34m[\u001b[0m\u001b[0;36m0\u001b[0m\u001b[0;34m]\u001b[0m\u001b[0;34m)\u001b[0m\u001b[0;34m\u001b[0m\u001b[0;34m\u001b[0m\u001b[0m\n\u001b[1;32m   2420\u001b[0m     n_train, n_test = _validate_shuffle_split(\n\u001b[0;32m-> 2421\u001b[0;31m         \u001b[0mn_samples\u001b[0m\u001b[0;34m,\u001b[0m \u001b[0mtest_size\u001b[0m\u001b[0;34m,\u001b[0m \u001b[0mtrain_size\u001b[0m\u001b[0;34m,\u001b[0m \u001b[0mdefault_test_size\u001b[0m\u001b[0;34m=\u001b[0m\u001b[0;36m0.25\u001b[0m\u001b[0;34m\u001b[0m\u001b[0;34m\u001b[0m\u001b[0m\n\u001b[0m\u001b[1;32m   2422\u001b[0m     )\n\u001b[1;32m   2423\u001b[0m \u001b[0;34m\u001b[0m\u001b[0m\n",
            "\u001b[0;32m/usr/local/lib/python3.7/dist-packages/sklearn/model_selection/_split.py\u001b[0m in \u001b[0;36m_validate_shuffle_split\u001b[0;34m(n_samples, test_size, train_size, default_test_size)\u001b[0m\n\u001b[1;32m   2099\u001b[0m             \u001b[0;34m\"With n_samples={}, test_size={} and train_size={}, the \"\u001b[0m\u001b[0;34m\u001b[0m\u001b[0;34m\u001b[0m\u001b[0m\n\u001b[1;32m   2100\u001b[0m             \u001b[0;34m\"resulting train set will be empty. Adjust any of the \"\u001b[0m\u001b[0;34m\u001b[0m\u001b[0;34m\u001b[0m\u001b[0m\n\u001b[0;32m-> 2101\u001b[0;31m             \u001b[0;34m\"aforementioned parameters.\"\u001b[0m\u001b[0;34m.\u001b[0m\u001b[0mformat\u001b[0m\u001b[0;34m(\u001b[0m\u001b[0mn_samples\u001b[0m\u001b[0;34m,\u001b[0m \u001b[0mtest_size\u001b[0m\u001b[0;34m,\u001b[0m \u001b[0mtrain_size\u001b[0m\u001b[0;34m)\u001b[0m\u001b[0;34m\u001b[0m\u001b[0;34m\u001b[0m\u001b[0m\n\u001b[0m\u001b[1;32m   2102\u001b[0m         )\n\u001b[1;32m   2103\u001b[0m \u001b[0;34m\u001b[0m\u001b[0m\n",
            "\u001b[0;31mValueError\u001b[0m: With n_samples=0, test_size=0.2 and train_size=0.8, the resulting train set will be empty. Adjust any of the aforementioned parameters."
          ]
        }
      ]
    },
    {
      "cell_type": "code",
      "source": [
        "svc_pipeline = Pipeline([('vect', CountVectorizer()),\n",
        "                     ('tfidf', TfidfTransformer()),\n",
        "                     ('clf', LinearSVC())])\n",
        "svc = svc_pipeline.fit(train['clean text'], train['sentiment'])\n",
        "test['predicted sentiment'] = svc.predict(test['clean text'])"
      ],
      "metadata": {
        "id": "tq5NeKmBctMw"
      },
      "execution_count": null,
      "outputs": []
    },
    {
      "cell_type": "code",
      "source": [
        "print('TFIDF-BASED LINEARSVC SENTIMENT ANALYSIS:', '\\n')\n",
        "print(test[['Reviews', 'sentiment', 'predicted sentiment']].head(10))\n",
        "svc_recall = recall_score(test['sentiment'], test['predicted sentiment'], average='macro')\n",
        "svc_precision = precision_score(test['sentiment'], test['predicted sentiment'], average='macro')\n",
        "svc_accuracy = accuracy_score(test['sentiment'], test['predicted sentiment'])*100\n",
        "svc_f1 = f1_score(test['sentiment'], test['predicted sentiment'], average='macro')\n",
        "print('Accuracy of LinearSVC :', svc_accuracy)\n",
        "print('f1-score of LinearSVC :', svc_f1)\n",
        "print('Precision score of LinearSVC :', svc_precision)\n",
        "print('Recall score of LinearSVC :', svc_recall)"
      ],
      "metadata": {
        "id": "H9JcyCFzqWF_"
      },
      "execution_count": null,
      "outputs": []
    },
    {
      "cell_type": "code",
      "execution_count": null,
      "metadata": {
        "id": "vATjQNTY8buA"
      },
      "outputs": [],
      "source": [
        "nb_pipeline = Pipeline([('vect', CountVectorizer()),\n",
        "                        ('tfidf', TfidfTransformer()),\n",
        "                        ('clf', MultinomialNB())])\n",
        "nb = nb_pipeline.fit(train['clean text'], train['sentiment'])\n",
        "test['nb predicted sentiment'] = nb.predict(test['clean text'])\n",
        "\n",
        "\n",
        "\n"
      ]
    },
    {
      "cell_type": "code",
      "source": [
        "print('\\n', 'MultinomialNB SENTIMENT ANALYSIS:', '\\n')\n",
        "print(test[['Abstract', 'sentiment', 'nb predicted sentiment']].head(10))\n",
        "from sklearn.metrics import accuracy_score, recall_score, precision_score, f1_score\n",
        "nb_recall = recall_score(test['sentiment'], test['nb predicted sentiment'], average='macro')\n",
        "nb_precision = precision_score(test['sentiment'], test['nb predicted sentiment'], average='macro')\n",
        "nb_accuracy = accuracy_score(test['sentiment'], test['nb predicted sentiment'])*100\n",
        "nb_f1 = f1_score(test['sentiment'], test['nb predicted sentiment'], average='macro')\n",
        "\n",
        "print('Accuracy of MultinomialNB:', nb_accuracy)\n",
        "print('f1-score of MultinomialNB:', nb_f1)\n",
        "print('Precision score of MultinomialNB:', nb_precision)\n",
        "print('Recall score of  MultinomialNB:', nb_recall)"
      ],
      "metadata": {
        "id": "2HiGpxaFgt-1"
      },
      "execution_count": null,
      "outputs": []
    },
    {
      "cell_type": "code",
      "source": [
        "from sklearn.ensemble import GradientBoostingClassifier\n",
        "gbpln = Pipeline([('vect', CountVectorizer()),\n",
        "                     ('tfidf', TfidfTransformer()),\n",
        "                     ('clf', GradientBoostingClassifier(n_estimators=15,verbose=2))])\n",
        "gb = gbpln.fit(train['clean text'], train['sentiment'])\n",
        "test['GB predicted sentiment'] = gb.predict(test['clean text'])"
      ],
      "metadata": {
        "id": "AIVbG-lvguBb"
      },
      "execution_count": null,
      "outputs": []
    },
    {
      "cell_type": "code",
      "source": [
        "print('GRADIENTBOOSTING SENTIMENT ANALYSIS:', '\\n')\n",
        "print(test[['Abstract', 'sentiment', 'GB predicted sentiment']].head(10))\n",
        "\n",
        "gb_recall = recall_score(test['sentiment'], test['GB predicted sentiment'], average='macro')\n",
        "gb_precision = precision_score(test['sentiment'], test['GB predicted sentiment'], average='macro')\n",
        "gb_accuracy = accuracy_score(test['sentiment'], test['GB predicted sentiment'])*100\n",
        "gb_f1 = f1_score(test['sentiment'], test['GB predicted sentiment'], average='macro')\n",
        "\n",
        "print('Accuracy of GradientBoosting:', gb_accuracy)\n",
        "print('f1-score of GradientBoosting:', gb_f1)\n",
        "print('Precision score of GradientBoosting:', gb_precision)\n",
        "print('Recall score of GradientBoosting:', gb_recall)\n"
      ],
      "metadata": {
        "id": "TwxSwiBgguEt"
      },
      "execution_count": null,
      "outputs": []
    },
    {
      "cell_type": "markdown",
      "metadata": {
        "id": "E5mmYIfN8eYV"
      },
      "source": [
        "# **Question 3: House price prediction**"
      ]
    },
    {
      "cell_type": "markdown",
      "metadata": {
        "id": "hsi2y4z88ngX"
      },
      "source": [
        "(40 points). You are required to build a **regression** model to predict the house price with 79 explanatory variables describing (almost) every aspect of residential homes. The purpose of this question is to practice regression analysis, an supervised learning model. The training data, testing data, and data description files can be download here: https://github.com/unt-iialab/info5731-spring2022/blob/main/assignments/assignment4-question3-data.zip. Here is an axample for implementation: https://towardsdatascience.com/linear-regression-in-python-predict-the-bay-areas-home-price-5c91c8378878. \n"
      ]
    },
    {
      "cell_type": "code",
      "execution_count": 27,
      "metadata": {
        "colab": {
          "base_uri": "https://localhost:8080/",
          "height": 128
        },
        "id": "XfvMKJjIXS5G",
        "outputId": "ad281373-32f4-4ae1-8cbd-5fb8623d2531"
      },
      "outputs": [
        {
          "output_type": "stream",
          "name": "stderr",
          "text": [
            "/usr/local/lib/python3.7/dist-packages/yaml/constructor.py:126: DeprecationWarning: Using or importing the ABCs from 'collections' instead of from 'collections.abc' is deprecated since Python 3.3,and in 3.9 it will stop working\n",
            "  if not isinstance(key, collections.Hashable):\n",
            "/usr/local/lib/python3.7/dist-packages/dask/array/numpy_compat.py:21: DeprecationWarning: `np.float` is a deprecated alias for the builtin `float`. To silence this warning, use `float` by itself. Doing this will not modify any behavior and is safe. If you specifically wanted the numpy scalar type, use `np.float64` here.\n",
            "Deprecated in NumPy 1.20; for more details and guidance: https://numpy.org/devdocs/release/1.20.0-notes.html#deprecations\n",
            "  np.divide(0.4, 1, casting=\"unsafe\", dtype=np.float),\n"
          ]
        },
        {
          "output_type": "display_data",
          "data": {
            "text/html": [
              "        <script type=\"text/javascript\">\n",
              "        window.PlotlyConfig = {MathJaxConfig: 'local'};\n",
              "        if (window.MathJax) {MathJax.Hub.Config({SVG: {font: \"STIX-Web\"}});}\n",
              "        if (typeof require !== 'undefined') {\n",
              "        require.undef(\"plotly\");\n",
              "        requirejs.config({\n",
              "            paths: {\n",
              "                'plotly': ['https://cdn.plot.ly/plotly-2.8.3.min']\n",
              "            }\n",
              "        });\n",
              "        require(['plotly'], function(Plotly) {\n",
              "            window._Plotly = Plotly;\n",
              "        });\n",
              "        }\n",
              "        </script>\n",
              "        "
            ]
          },
          "metadata": {}
        }
      ],
      "source": [
        "# Write your code here\n",
        "from PIL import Image\n",
        "import requests\n",
        "from io import BytesIO\n",
        "import matplotlib.pyplot as plt\n",
        "import numpy as np\n",
        "import pandas as pd\n",
        "import warnings\n",
        "from bs4 import BeautifulSoup\n",
        "from nltk.corpus import stopwords\n",
        "from nltk.tokenize import word_tokenize\n",
        "import nltk\n",
        "import math\n",
        "import time\n",
        "import re\n",
        "from matplotlib import gridspec\n",
        "from scipy.sparse import hstack\n",
        "import plotly\n",
        "import plotly.figure_factory as ff\n",
        "from plotly.graph_objs import Scatter, Layout\n",
        "import matplotlib.pyplot as plt\n",
        "\n",
        "plotly.offline.init_notebook_mode(connected=True)\n",
        "warnings.filterwarnings(\"ignore\")\n",
        "\n",
        "\n"
      ]
    },
    {
      "cell_type": "code",
      "source": [
        "#Loading the Train and Test data\n",
        "\n",
        "train_data=pd.read_csv(\"/content/sample_data/train.csv\")\n",
        "test_data=pd.read_csv(\"\")\n",
        "\n",
        "#I am checking for number of features and datapoints i have in both the files.i.e., train and test data\n",
        "\n",
        "print(\"The Number of data points in train data are:{0}\\nThe Number of features in train data are:{1}\".format(train_data.shape[0],train_data.shape[1]))\n",
        "print(\"The Number of data points in test data are:{0}\\nThe Number of features in test data are:{1}\".format(test_data.shape[0],test_data.shape[1])"
      ],
      "metadata": {
        "id": "k5Aa-CmrljHO"
      },
      "execution_count": null,
      "outputs": []
    },
    {
      "cell_type": "code",
      "source": [
        "#Loading the Train and Test data\n",
        "\n",
        "train_data=pd.read_csv(\"/content/sample_data/train.csv\")\n",
        "test_data=pd.read_csv(\"\")\n",
        "\n",
        "#I am checking for number of features and datapoints i have in both the files.i.e., train and test data\n",
        "\n",
        "print(\"The Number of data points in train data are:{0}\\nThe Number of features in train data are:{1}\".format(train_data.shape[0],train_data.shape[1]))\n",
        "print(\"The Number of data points in test data are:{0}\\nThe Number of features in test data are:{1}\".format(test_data.shape[0],test_data.shape[1])"
      ],
      "metadata": {
        "id": "KVDgID0dmpbO"
      },
      "execution_count": null,
      "outputs": []
    },
    {
      "cell_type": "code",
      "source": [
        "#Loading the Train and Test data\n",
        "\n",
        "train_data=pd.read_csv(\"/content/sample_data/train.csv\")\n",
        "test_data=pd.read_csv(\"/content/sample_data/test.csv\")\n",
        "\n",
        "#I am checking for number of features and datapoints i have in both the files.i.e., train and test data\n",
        "\n",
        "print(\"The Number of data points in train data are:{0}\\nThe Number of features in train data are:{1}\".format(train_data.shape[0],train_data.shape[1]))\n",
        "print(\"The Number of data points in test data are:{0}\\nThe Number of features in test data are:{1}\".format(test_data.shape[0],test_data.shape[1]))"
      ],
      "metadata": {
        "colab": {
          "base_uri": "https://localhost:8080/"
        },
        "id": "J7N2vsIjmqhG",
        "outputId": "f2bdbce9-52e2-41da-b168-460f35dba71f"
      },
      "execution_count": 29,
      "outputs": [
        {
          "output_type": "stream",
          "name": "stdout",
          "text": [
            "The Number of data points in train data are:20800\n",
            "The Number of features in train data are:5\n",
            "The Number of data points in test data are:5200\n",
            "The Number of features in test data are:4\n"
          ]
        }
      ]
    },
    {
      "cell_type": "code",
      "source": [
        "train_data.head(5)"
      ],
      "metadata": {
        "colab": {
          "base_uri": "https://localhost:8080/",
          "height": 336
        },
        "id": "mCJFHtvVnVzl",
        "outputId": "bcb6f7d3-69a8-4bdc-8c8d-9c776cc69086"
      },
      "execution_count": 30,
      "outputs": [
        {
          "output_type": "execute_result",
          "data": {
            "text/plain": [
              "   id                                              title              author  \\\n",
              "0   0  House Dem Aide: We Didn’t Even See Comey’s Let...       Darrell Lucus   \n",
              "1   1  FLYNN: Hillary Clinton, Big Woman on Campus - ...     Daniel J. Flynn   \n",
              "2   2                  Why the Truth Might Get You Fired  Consortiumnews.com   \n",
              "3   3  15 Civilians Killed In Single US Airstrike Hav...     Jessica Purkiss   \n",
              "4   4  Iranian woman jailed for fictional unpublished...      Howard Portnoy   \n",
              "\n",
              "                                                text  label  \n",
              "0  House Dem Aide: We Didn’t Even See Comey’s Let...      1  \n",
              "1  Ever get the feeling your life circles the rou...      0  \n",
              "2  Why the Truth Might Get You Fired October 29, ...      1  \n",
              "3  Videos 15 Civilians Killed In Single US Airstr...      1  \n",
              "4  Print \\nAn Iranian woman has been sentenced to...      1  "
            ],
            "text/html": [
              "\n",
              "  <div id=\"df-785489b4-6ccf-4a4e-90d4-fcedfc4c834c\">\n",
              "    <div class=\"colab-df-container\">\n",
              "      <div>\n",
              "<style scoped>\n",
              "    .dataframe tbody tr th:only-of-type {\n",
              "        vertical-align: middle;\n",
              "    }\n",
              "\n",
              "    .dataframe tbody tr th {\n",
              "        vertical-align: top;\n",
              "    }\n",
              "\n",
              "    .dataframe thead th {\n",
              "        text-align: right;\n",
              "    }\n",
              "</style>\n",
              "<table border=\"1\" class=\"dataframe\">\n",
              "  <thead>\n",
              "    <tr style=\"text-align: right;\">\n",
              "      <th></th>\n",
              "      <th>id</th>\n",
              "      <th>title</th>\n",
              "      <th>author</th>\n",
              "      <th>text</th>\n",
              "      <th>label</th>\n",
              "    </tr>\n",
              "  </thead>\n",
              "  <tbody>\n",
              "    <tr>\n",
              "      <th>0</th>\n",
              "      <td>0</td>\n",
              "      <td>House Dem Aide: We Didn’t Even See Comey’s Let...</td>\n",
              "      <td>Darrell Lucus</td>\n",
              "      <td>House Dem Aide: We Didn’t Even See Comey’s Let...</td>\n",
              "      <td>1</td>\n",
              "    </tr>\n",
              "    <tr>\n",
              "      <th>1</th>\n",
              "      <td>1</td>\n",
              "      <td>FLYNN: Hillary Clinton, Big Woman on Campus - ...</td>\n",
              "      <td>Daniel J. Flynn</td>\n",
              "      <td>Ever get the feeling your life circles the rou...</td>\n",
              "      <td>0</td>\n",
              "    </tr>\n",
              "    <tr>\n",
              "      <th>2</th>\n",
              "      <td>2</td>\n",
              "      <td>Why the Truth Might Get You Fired</td>\n",
              "      <td>Consortiumnews.com</td>\n",
              "      <td>Why the Truth Might Get You Fired October 29, ...</td>\n",
              "      <td>1</td>\n",
              "    </tr>\n",
              "    <tr>\n",
              "      <th>3</th>\n",
              "      <td>3</td>\n",
              "      <td>15 Civilians Killed In Single US Airstrike Hav...</td>\n",
              "      <td>Jessica Purkiss</td>\n",
              "      <td>Videos 15 Civilians Killed In Single US Airstr...</td>\n",
              "      <td>1</td>\n",
              "    </tr>\n",
              "    <tr>\n",
              "      <th>4</th>\n",
              "      <td>4</td>\n",
              "      <td>Iranian woman jailed for fictional unpublished...</td>\n",
              "      <td>Howard Portnoy</td>\n",
              "      <td>Print \\nAn Iranian woman has been sentenced to...</td>\n",
              "      <td>1</td>\n",
              "    </tr>\n",
              "  </tbody>\n",
              "</table>\n",
              "</div>\n",
              "      <button class=\"colab-df-convert\" onclick=\"convertToInteractive('df-785489b4-6ccf-4a4e-90d4-fcedfc4c834c')\"\n",
              "              title=\"Convert this dataframe to an interactive table.\"\n",
              "              style=\"display:none;\">\n",
              "        \n",
              "  <svg xmlns=\"http://www.w3.org/2000/svg\" height=\"24px\"viewBox=\"0 0 24 24\"\n",
              "       width=\"24px\">\n",
              "    <path d=\"M0 0h24v24H0V0z\" fill=\"none\"/>\n",
              "    <path d=\"M18.56 5.44l.94 2.06.94-2.06 2.06-.94-2.06-.94-.94-2.06-.94 2.06-2.06.94zm-11 1L8.5 8.5l.94-2.06 2.06-.94-2.06-.94L8.5 2.5l-.94 2.06-2.06.94zm10 10l.94 2.06.94-2.06 2.06-.94-2.06-.94-.94-2.06-.94 2.06-2.06.94z\"/><path d=\"M17.41 7.96l-1.37-1.37c-.4-.4-.92-.59-1.43-.59-.52 0-1.04.2-1.43.59L10.3 9.45l-7.72 7.72c-.78.78-.78 2.05 0 2.83L4 21.41c.39.39.9.59 1.41.59.51 0 1.02-.2 1.41-.59l7.78-7.78 2.81-2.81c.8-.78.8-2.07 0-2.86zM5.41 20L4 18.59l7.72-7.72 1.47 1.35L5.41 20z\"/>\n",
              "  </svg>\n",
              "      </button>\n",
              "      \n",
              "  <style>\n",
              "    .colab-df-container {\n",
              "      display:flex;\n",
              "      flex-wrap:wrap;\n",
              "      gap: 12px;\n",
              "    }\n",
              "\n",
              "    .colab-df-convert {\n",
              "      background-color: #E8F0FE;\n",
              "      border: none;\n",
              "      border-radius: 50%;\n",
              "      cursor: pointer;\n",
              "      display: none;\n",
              "      fill: #1967D2;\n",
              "      height: 32px;\n",
              "      padding: 0 0 0 0;\n",
              "      width: 32px;\n",
              "    }\n",
              "\n",
              "    .colab-df-convert:hover {\n",
              "      background-color: #E2EBFA;\n",
              "      box-shadow: 0px 1px 2px rgba(60, 64, 67, 0.3), 0px 1px 3px 1px rgba(60, 64, 67, 0.15);\n",
              "      fill: #174EA6;\n",
              "    }\n",
              "\n",
              "    [theme=dark] .colab-df-convert {\n",
              "      background-color: #3B4455;\n",
              "      fill: #D2E3FC;\n",
              "    }\n",
              "\n",
              "    [theme=dark] .colab-df-convert:hover {\n",
              "      background-color: #434B5C;\n",
              "      box-shadow: 0px 1px 3px 1px rgba(0, 0, 0, 0.15);\n",
              "      filter: drop-shadow(0px 1px 2px rgba(0, 0, 0, 0.3));\n",
              "      fill: #FFFFFF;\n",
              "    }\n",
              "  </style>\n",
              "\n",
              "      <script>\n",
              "        const buttonEl =\n",
              "          document.querySelector('#df-785489b4-6ccf-4a4e-90d4-fcedfc4c834c button.colab-df-convert');\n",
              "        buttonEl.style.display =\n",
              "          google.colab.kernel.accessAllowed ? 'block' : 'none';\n",
              "\n",
              "        async function convertToInteractive(key) {\n",
              "          const element = document.querySelector('#df-785489b4-6ccf-4a4e-90d4-fcedfc4c834c');\n",
              "          const dataTable =\n",
              "            await google.colab.kernel.invokeFunction('convertToInteractive',\n",
              "                                                     [key], {});\n",
              "          if (!dataTable) return;\n",
              "\n",
              "          const docLinkHtml = 'Like what you see? Visit the ' +\n",
              "            '<a target=\"_blank\" href=https://colab.research.google.com/notebooks/data_table.ipynb>data table notebook</a>'\n",
              "            + ' to learn more about interactive tables.';\n",
              "          element.innerHTML = '';\n",
              "          dataTable['output_type'] = 'display_data';\n",
              "          await google.colab.output.renderOutput(dataTable, element);\n",
              "          const docLink = document.createElement('div');\n",
              "          docLink.innerHTML = docLinkHtml;\n",
              "          element.appendChild(docLink);\n",
              "        }\n",
              "      </script>\n",
              "    </div>\n",
              "  </div>\n",
              "  "
            ]
          },
          "metadata": {},
          "execution_count": 30
        }
      ]
    },
    {
      "cell_type": "code",
      "source": [
        "test_data.head(5)"
      ],
      "metadata": {
        "colab": {
          "base_uri": "https://localhost:8080/",
          "height": 336
        },
        "id": "Bvq8s0QCnWom",
        "outputId": "52775211-4c0a-4986-cd13-d04f8f551848"
      },
      "execution_count": 31,
      "outputs": [
        {
          "output_type": "execute_result",
          "data": {
            "text/plain": [
              "      id                                              title  \\\n",
              "0  20800  Specter of Trump Loosens Tongues, if Not Purse...   \n",
              "1  20801  Russian warships ready to strike terrorists ne...   \n",
              "2  20802  #NoDAPL: Native American Leaders Vow to Stay A...   \n",
              "3  20803  Tim Tebow Will Attempt Another Comeback, This ...   \n",
              "4  20804                    Keiser Report: Meme Wars (E995)   \n",
              "\n",
              "                    author                                               text  \n",
              "0         David Streitfeld  PALO ALTO, Calif.  —   After years of scorning...  \n",
              "1                      NaN  Russian warships ready to strike terrorists ne...  \n",
              "2            Common Dreams  Videos #NoDAPL: Native American Leaders Vow to...  \n",
              "3            Daniel Victor  If at first you don’t succeed, try a different...  \n",
              "4  Truth Broadcast Network  42 mins ago 1 Views 0 Comments 0 Likes 'For th...  "
            ],
            "text/html": [
              "\n",
              "  <div id=\"df-9e865b02-85e7-4ec2-ba9f-d57c672330ff\">\n",
              "    <div class=\"colab-df-container\">\n",
              "      <div>\n",
              "<style scoped>\n",
              "    .dataframe tbody tr th:only-of-type {\n",
              "        vertical-align: middle;\n",
              "    }\n",
              "\n",
              "    .dataframe tbody tr th {\n",
              "        vertical-align: top;\n",
              "    }\n",
              "\n",
              "    .dataframe thead th {\n",
              "        text-align: right;\n",
              "    }\n",
              "</style>\n",
              "<table border=\"1\" class=\"dataframe\">\n",
              "  <thead>\n",
              "    <tr style=\"text-align: right;\">\n",
              "      <th></th>\n",
              "      <th>id</th>\n",
              "      <th>title</th>\n",
              "      <th>author</th>\n",
              "      <th>text</th>\n",
              "    </tr>\n",
              "  </thead>\n",
              "  <tbody>\n",
              "    <tr>\n",
              "      <th>0</th>\n",
              "      <td>20800</td>\n",
              "      <td>Specter of Trump Loosens Tongues, if Not Purse...</td>\n",
              "      <td>David Streitfeld</td>\n",
              "      <td>PALO ALTO, Calif.  —   After years of scorning...</td>\n",
              "    </tr>\n",
              "    <tr>\n",
              "      <th>1</th>\n",
              "      <td>20801</td>\n",
              "      <td>Russian warships ready to strike terrorists ne...</td>\n",
              "      <td>NaN</td>\n",
              "      <td>Russian warships ready to strike terrorists ne...</td>\n",
              "    </tr>\n",
              "    <tr>\n",
              "      <th>2</th>\n",
              "      <td>20802</td>\n",
              "      <td>#NoDAPL: Native American Leaders Vow to Stay A...</td>\n",
              "      <td>Common Dreams</td>\n",
              "      <td>Videos #NoDAPL: Native American Leaders Vow to...</td>\n",
              "    </tr>\n",
              "    <tr>\n",
              "      <th>3</th>\n",
              "      <td>20803</td>\n",
              "      <td>Tim Tebow Will Attempt Another Comeback, This ...</td>\n",
              "      <td>Daniel Victor</td>\n",
              "      <td>If at first you don’t succeed, try a different...</td>\n",
              "    </tr>\n",
              "    <tr>\n",
              "      <th>4</th>\n",
              "      <td>20804</td>\n",
              "      <td>Keiser Report: Meme Wars (E995)</td>\n",
              "      <td>Truth Broadcast Network</td>\n",
              "      <td>42 mins ago 1 Views 0 Comments 0 Likes 'For th...</td>\n",
              "    </tr>\n",
              "  </tbody>\n",
              "</table>\n",
              "</div>\n",
              "      <button class=\"colab-df-convert\" onclick=\"convertToInteractive('df-9e865b02-85e7-4ec2-ba9f-d57c672330ff')\"\n",
              "              title=\"Convert this dataframe to an interactive table.\"\n",
              "              style=\"display:none;\">\n",
              "        \n",
              "  <svg xmlns=\"http://www.w3.org/2000/svg\" height=\"24px\"viewBox=\"0 0 24 24\"\n",
              "       width=\"24px\">\n",
              "    <path d=\"M0 0h24v24H0V0z\" fill=\"none\"/>\n",
              "    <path d=\"M18.56 5.44l.94 2.06.94-2.06 2.06-.94-2.06-.94-.94-2.06-.94 2.06-2.06.94zm-11 1L8.5 8.5l.94-2.06 2.06-.94-2.06-.94L8.5 2.5l-.94 2.06-2.06.94zm10 10l.94 2.06.94-2.06 2.06-.94-2.06-.94-.94-2.06-.94 2.06-2.06.94z\"/><path d=\"M17.41 7.96l-1.37-1.37c-.4-.4-.92-.59-1.43-.59-.52 0-1.04.2-1.43.59L10.3 9.45l-7.72 7.72c-.78.78-.78 2.05 0 2.83L4 21.41c.39.39.9.59 1.41.59.51 0 1.02-.2 1.41-.59l7.78-7.78 2.81-2.81c.8-.78.8-2.07 0-2.86zM5.41 20L4 18.59l7.72-7.72 1.47 1.35L5.41 20z\"/>\n",
              "  </svg>\n",
              "      </button>\n",
              "      \n",
              "  <style>\n",
              "    .colab-df-container {\n",
              "      display:flex;\n",
              "      flex-wrap:wrap;\n",
              "      gap: 12px;\n",
              "    }\n",
              "\n",
              "    .colab-df-convert {\n",
              "      background-color: #E8F0FE;\n",
              "      border: none;\n",
              "      border-radius: 50%;\n",
              "      cursor: pointer;\n",
              "      display: none;\n",
              "      fill: #1967D2;\n",
              "      height: 32px;\n",
              "      padding: 0 0 0 0;\n",
              "      width: 32px;\n",
              "    }\n",
              "\n",
              "    .colab-df-convert:hover {\n",
              "      background-color: #E2EBFA;\n",
              "      box-shadow: 0px 1px 2px rgba(60, 64, 67, 0.3), 0px 1px 3px 1px rgba(60, 64, 67, 0.15);\n",
              "      fill: #174EA6;\n",
              "    }\n",
              "\n",
              "    [theme=dark] .colab-df-convert {\n",
              "      background-color: #3B4455;\n",
              "      fill: #D2E3FC;\n",
              "    }\n",
              "\n",
              "    [theme=dark] .colab-df-convert:hover {\n",
              "      background-color: #434B5C;\n",
              "      box-shadow: 0px 1px 3px 1px rgba(0, 0, 0, 0.15);\n",
              "      filter: drop-shadow(0px 1px 2px rgba(0, 0, 0, 0.3));\n",
              "      fill: #FFFFFF;\n",
              "    }\n",
              "  </style>\n",
              "\n",
              "      <script>\n",
              "        const buttonEl =\n",
              "          document.querySelector('#df-9e865b02-85e7-4ec2-ba9f-d57c672330ff button.colab-df-convert');\n",
              "        buttonEl.style.display =\n",
              "          google.colab.kernel.accessAllowed ? 'block' : 'none';\n",
              "\n",
              "        async function convertToInteractive(key) {\n",
              "          const element = document.querySelector('#df-9e865b02-85e7-4ec2-ba9f-d57c672330ff');\n",
              "          const dataTable =\n",
              "            await google.colab.kernel.invokeFunction('convertToInteractive',\n",
              "                                                     [key], {});\n",
              "          if (!dataTable) return;\n",
              "\n",
              "          const docLinkHtml = 'Like what you see? Visit the ' +\n",
              "            '<a target=\"_blank\" href=https://colab.research.google.com/notebooks/data_table.ipynb>data table notebook</a>'\n",
              "            + ' to learn more about interactive tables.';\n",
              "          element.innerHTML = '';\n",
              "          dataTable['output_type'] = 'display_data';\n",
              "          await google.colab.output.renderOutput(dataTable, element);\n",
              "          const docLink = document.createElement('div');\n",
              "          docLink.innerHTML = docLinkHtml;\n",
              "          element.appendChild(docLink);\n",
              "        }\n",
              "      </script>\n",
              "    </div>\n",
              "  </div>\n",
              "  "
            ]
          },
          "metadata": {},
          "execution_count": 31
        }
      ]
    },
    {
      "cell_type": "code",
      "source": [
        "print(train_data.isnull().sum())\n",
        "train_data = train_data.replace(np.NaN,0)\n",
        "print(train_data.isnull().sum())"
      ],
      "metadata": {
        "colab": {
          "base_uri": "https://localhost:8080/"
        },
        "id": "tixpwhg4nWrH",
        "outputId": "bbe76f5b-0abc-4136-87b9-835bff9ac8dc"
      },
      "execution_count": 32,
      "outputs": [
        {
          "output_type": "stream",
          "name": "stdout",
          "text": [
            "id           0\n",
            "title      558\n",
            "author    1957\n",
            "text        39\n",
            "label        0\n",
            "dtype: int64\n",
            "id        0\n",
            "title     0\n",
            "author    0\n",
            "text      0\n",
            "label     0\n",
            "dtype: int64\n"
          ]
        }
      ]
    },
    {
      "cell_type": "code",
      "source": [
        "print(test_data.isnull().sum())\n",
        "test_data = test_data.replace(np.NaN,0)\n",
        "print(test_data.isnull().sum())"
      ],
      "metadata": {
        "colab": {
          "base_uri": "https://localhost:8080/"
        },
        "id": "DBFNbaATnWug",
        "outputId": "592e90c7-2d3f-40ee-e6dc-93455b62bf38"
      },
      "execution_count": 33,
      "outputs": [
        {
          "output_type": "stream",
          "name": "stdout",
          "text": [
            "id          0\n",
            "title     122\n",
            "author    503\n",
            "text        7\n",
            "dtype: int64\n",
            "id        0\n",
            "title     0\n",
            "author    0\n",
            "text      0\n",
            "dtype: int64\n"
          ]
        }
      ]
    },
    {
      "cell_type": "code",
      "source": [
        "column = list(train_data.select_dtypes(['object']).columns)"
      ],
      "metadata": {
        "id": "pv5w13qcnrB-"
      },
      "execution_count": 34,
      "outputs": []
    },
    {
      "cell_type": "code",
      "source": [
        "for i in train_data.columns:\n",
        "    print(\"Statistics for feature : {0}\".format(i))\n",
        "    print(train_data[i].describe())\n",
        "    print(\"...........................\")"
      ],
      "metadata": {
        "colab": {
          "base_uri": "https://localhost:8080/"
        },
        "id": "IJ0vYyKAnwt2",
        "outputId": "cbe352d5-6aec-4e09-823f-4ec6fd0492b5"
      },
      "execution_count": 35,
      "outputs": [
        {
          "output_type": "stream",
          "name": "stdout",
          "text": [
            "Statistics for feature : id\n",
            "count    20800.000000\n",
            "mean     10399.500000\n",
            "std       6004.587135\n",
            "min          0.000000\n",
            "25%       5199.750000\n",
            "50%      10399.500000\n",
            "75%      15599.250000\n",
            "max      20799.000000\n",
            "Name: id, dtype: float64\n",
            "...........................\n",
            "Statistics for feature : title\n",
            "count     20800\n",
            "unique    19804\n",
            "top           0\n",
            "freq        558\n",
            "Name: title, dtype: int64\n",
            "...........................\n",
            "Statistics for feature : author\n",
            "count     20800\n",
            "unique     4202\n",
            "top           0\n",
            "freq       1957\n",
            "Name: author, dtype: int64\n",
            "...........................\n",
            "Statistics for feature : text\n",
            "count     20800\n",
            "unique    20387\n",
            "top            \n",
            "freq         75\n",
            "Name: text, dtype: object\n",
            "...........................\n",
            "Statistics for feature : label\n",
            "count    20800.000000\n",
            "mean         0.500625\n",
            "std          0.500012\n",
            "min          0.000000\n",
            "25%          0.000000\n",
            "50%          1.000000\n",
            "75%          1.000000\n",
            "max          1.000000\n",
            "Name: label, dtype: float64\n",
            "...........................\n"
          ]
        }
      ]
    },
    {
      "cell_type": "code",
      "source": [
        "for i in test_data.columns:\n",
        "    print(\"Basic statistics for feature : {0}\".format(i))\n",
        "    print(test_data[i].describe())\n",
        "    print(\"...........................\")"
      ],
      "metadata": {
        "colab": {
          "base_uri": "https://localhost:8080/"
        },
        "id": "3SGg16GBnyQC",
        "outputId": "cd9a3209-be21-48ca-bdc3-18f4f5eb8d6c"
      },
      "execution_count": 36,
      "outputs": [
        {
          "output_type": "stream",
          "name": "stdout",
          "text": [
            "Basic statistics for feature : id\n",
            "count     5200.000000\n",
            "mean     23399.500000\n",
            "std       1501.255031\n",
            "min      20800.000000\n",
            "25%      22099.750000\n",
            "50%      23399.500000\n",
            "75%      24699.250000\n",
            "max      25999.000000\n",
            "Name: id, dtype: float64\n",
            "...........................\n",
            "Basic statistics for feature : title\n",
            "count     5200\n",
            "unique    5057\n",
            "top          0\n",
            "freq       122\n",
            "Name: title, dtype: int64\n",
            "...........................\n",
            "Basic statistics for feature : author\n",
            "count     5200\n",
            "unique    1733\n",
            "top          0\n",
            "freq       503\n",
            "Name: author, dtype: int64\n",
            "...........................\n",
            "Basic statistics for feature : text\n",
            "count     5200\n",
            "unique    5127\n",
            "top           \n",
            "freq        31\n",
            "Name: text, dtype: object\n",
            "...........................\n"
          ]
        }
      ]
    },
    {
      "cell_type": "code",
      "source": [
        "#Statistics of output variable\n",
        "train_data['title'].describe()"
      ],
      "metadata": {
        "colab": {
          "base_uri": "https://localhost:8080/"
        },
        "id": "-EcRg7y3n5n2",
        "outputId": "254a5d85-3052-466f-89ff-52d72ca44baf"
      },
      "execution_count": 38,
      "outputs": [
        {
          "output_type": "execute_result",
          "data": {
            "text/plain": [
              "count     20800\n",
              "unique    19804\n",
              "top           0\n",
              "freq        558\n",
              "Name: title, dtype: int64"
            ]
          },
          "metadata": {},
          "execution_count": 38
        }
      ]
    },
    {
      "cell_type": "code",
      "source": [
        "train_data[column] = train_data[column].apply(lambda x: x.astype('category'))\n",
        "train_data[column] = train_data[column].apply(lambda x: x.cat.codes)"
      ],
      "metadata": {
        "id": "vMUYYSG0oYTT"
      },
      "execution_count": 39,
      "outputs": []
    },
    {
      "cell_type": "code",
      "source": [
        "test_data[column] = test_data[column].apply(lambda x: x.astype('category'))\n",
        "test_data[column] = test_data[column].apply(lambda x: x.cat.codes)"
      ],
      "metadata": {
        "id": "8VdAHoLVobSl"
      },
      "execution_count": 40,
      "outputs": []
    },
    {
      "cell_type": "code",
      "source": [
        "import matplotlib.pyplot as plt\n",
        "plt.hist(train_data['title'])\n",
        "plt.show()"
      ],
      "metadata": {
        "colab": {
          "base_uri": "https://localhost:8080/",
          "height": 265
        },
        "id": "QD3rinwxobW0",
        "outputId": "31a79c2a-ba2d-4133-9cfe-a1593506f2a9"
      },
      "execution_count": 42,
      "outputs": [
        {
          "output_type": "display_data",
          "data": {
            "text/plain": [
              "<Figure size 432x288 with 1 Axes>"
            ],
            "image/png": "[encoded data removed]"
          },
          "metadata": {
            "needs_background": "light"
          }
        }
      ]
    },
    {
      "cell_type": "code",
      "source": [
        "print (\"Skewness of title:\", train_data['title'].skew())"
      ],
      "metadata": {
        "colab": {
          "base_uri": "https://localhost:8080/"
        },
        "id": "kBlw6TpZoo7q",
        "outputId": "d1079728-5515-40d1-adc1-e84c9be4b7ea"
      },
      "execution_count": 43,
      "outputs": [
        {
          "output_type": "stream",
          "name": "stdout",
          "text": [
            "Skewness of title: 0.0018142589276987054\n"
          ]
        }
      ]
    },
    {
      "cell_type": "code",
      "source": [
        "train_data['LT_title'] = np.log(train_data['title']+1)\n",
        "plt.hist(train_data['LT_title'], color='blue')\n",
        "plt.show()"
      ],
      "metadata": {
        "colab": {
          "base_uri": "https://localhost:8080/",
          "height": 265
        },
        "id": "DqoiF_22obaN",
        "outputId": "ca463b9e-9cc3-4f12-a63e-3dac40011e77"
      },
      "execution_count": 44,
      "outputs": [
        {
          "output_type": "display_data",
          "data": {
            "text/plain": [
              "<Figure size 432x288 with 1 Axes>"
            ],
            "image/png": "[encoded data removed]"
          },
          "metadata": {
            "needs_background": "light"
          }
        }
      ]
    },
    {
      "cell_type": "code",
      "source": [
        "print (\"Skewness of Log Transformed title:\", train_data['LT_title'].skew())"
      ],
      "metadata": {
        "colab": {
          "base_uri": "https://localhost:8080/"
        },
        "id": "wniYRS8GouY4",
        "outputId": "d198d47f-25c0-4f8f-dd34-4c4618512454"
      },
      "execution_count": 45,
      "outputs": [
        {
          "output_type": "stream",
          "name": "stdout",
          "text": [
            "Skewness of Log Transformed title: -3.5147657\n"
          ]
        }
      ]
    },
    {
      "cell_type": "code",
      "source": [
        "#  Finding Correlation \n",
        "correlate = train_data.corr(method='pearson')\n",
        "print(correlate['title'])"
      ],
      "metadata": {
        "colab": {
          "base_uri": "https://localhost:8080/"
        },
        "id": "qsfYmUmvoubJ",
        "outputId": "b95813ff-b4d5-4c96-94c2-bd3ea5422333"
      },
      "execution_count": 46,
      "outputs": [
        {
          "output_type": "stream",
          "name": "stdout",
          "text": [
            "id         -0.001376\n",
            "title       1.000000\n",
            "author     -0.009773\n",
            "text        0.142954\n",
            "label      -0.018515\n",
            "LT_title    0.697182\n",
            "Name: title, dtype: float64\n"
          ]
        }
      ]
    },
    {
      "cell_type": "code",
      "source": [
        "train_data.select_dtypes(include=[np.number]).columns.values"
      ],
      "metadata": {
        "colab": {
          "base_uri": "https://localhost:8080/"
        },
        "id": "ARSxy5q7oudS",
        "outputId": "39994f31-57f7-4b4e-a063-5fa4de828349"
      },
      "execution_count": 47,
      "outputs": [
        {
          "output_type": "execute_result",
          "data": {
            "text/plain": [
              "array(['id', 'title', 'author', 'text', 'label', 'LT_title'], dtype=object)"
            ]
          },
          "metadata": {},
          "execution_count": 47
        }
      ]
    },
    {
      "cell_type": "code",
      "source": [
        "import seaborn as sns\n",
        "def correlation_heatmap(train_data):\n",
        "    correlations = train_data.corr()\n",
        "\n",
        "    fig, ax = plt.subplots(figsize=(10,10))\n",
        "    sns.heatmap(correlations, vmax=1.0, center=0, fmt='.2f',\n",
        "                square=True, linewidths=.5,  cbar_kws={\"shrink\": .70})\n",
        "    plt.show();\n",
        "    \n",
        "correlation_heatmap(train_data)"
      ],
      "metadata": {
        "colab": {
          "base_uri": "https://localhost:8080/",
          "height": 495
        },
        "id": "VzfeYmaYouf9",
        "outputId": "222cd9bd-05be-4e2f-a9fd-8727075433c5"
      },
      "execution_count": 48,
      "outputs": [
        {
          "output_type": "display_data",
          "data": {
            "text/plain": [
              "<Figure size 720x720 with 2 Axes>"
            ],
            "image/png": "[encoded data removed]"
          },
          "metadata": {
            "needs_background": "light"
          }
        }
      ]
    },
    {
      "cell_type": "code",
      "source": [
        "def correlation_heatmap(test_data):\n",
        "    correlations = test_data.corr()\n",
        "\n",
        "    fig, ax = plt.subplots(figsize=(10,10))\n",
        "    sns.heatmap(correlations, vmax=1.0, center=0, fmt='.2f',\n",
        "                square=True, linewidths=.5,  cbar_kws={\"shrink\": .70})\n",
        "    plt.show();\n",
        "    \n",
        "correlation_heatmap(test_data)"
      ],
      "metadata": {
        "colab": {
          "base_uri": "https://localhost:8080/",
          "height": 494
        },
        "id": "1g7uEcCTo39Z",
        "outputId": "9884adc1-e966-46d5-d129-1adf6be8075e"
      },
      "execution_count": 49,
      "outputs": [
        {
          "output_type": "display_data",
          "data": {
            "text/plain": [
              "<Figure size 720x720 with 2 Axes>"
            ],
            "image/png": "[encoded data removed]"
          },
          "metadata": {
            "needs_background": "light"
          }
        }
      ]
    },
    {
      "cell_type": "code",
      "source": [
        "feat_col=['id', 'title','author','text']"
      ],
      "metadata": {
        "id": "hvXeW7lBo3_6"
      },
      "execution_count": 52,
      "outputs": []
    },
    {
      "cell_type": "code",
      "source": [
        "# Linear Model for the  train and test\n",
        "X = train_data[feat_col]\n",
        "Y = train_data['title']"
      ],
      "metadata": {
        "id": "6scaypT8o4Dg"
      },
      "execution_count": 54,
      "outputs": []
    },
    {
      "cell_type": "code",
      "source": [
        "from sklearn.model_selection import train_test_split\n",
        "X_train, X_test, y_train, y_test = train_test_split(X, Y, test_size=0.2, random_state=1)"
      ],
      "metadata": {
        "id": "8ccA4PC5oujI"
      },
      "execution_count": 55,
      "outputs": []
    },
    {
      "cell_type": "code",
      "source": [
        "mytest =test_data[feat_col]"
      ],
      "metadata": {
        "id": "ihhwfFIUp86g"
      },
      "execution_count": 56,
      "outputs": []
    },
    {
      "cell_type": "code",
      "source": [
        "from sklearn.linear_model import LinearRegression\n",
        "regressor = LinearRegression()\n",
        "regressor.fit(X_train, y_train)"
      ],
      "metadata": {
        "colab": {
          "base_uri": "https://localhost:8080/"
        },
        "id": "TRwabLtfp89V",
        "outputId": "0c72022f-699e-4d19-81f3-7d0dffd44fd1"
      },
      "execution_count": 57,
      "outputs": [
        {
          "output_type": "execute_result",
          "data": {
            "text/plain": [
              "LinearRegression()"
            ]
          },
          "metadata": {},
          "execution_count": 57
        }
      ]
    },
    {
      "cell_type": "code",
      "source": [
        "y_pred = regressor.predict(X_test)\n",
        "print('Linear Regression R squared\": %.4f' % regressor.score(X_test,y_test))"
      ],
      "metadata": {
        "colab": {
          "base_uri": "https://localhost:8080/"
        },
        "id": "8XurrENQp9Ax",
        "outputId": "e21fa0eb-8f29-4738-a778-cf3e76cec947"
      },
      "execution_count": 58,
      "outputs": [
        {
          "output_type": "stream",
          "name": "stdout",
          "text": [
            "Linear Regression R squared\": 1.0000\n"
          ]
        }
      ]
    },
    {
      "cell_type": "code",
      "source": [
        "predicted = regressor.predict(mytest)"
      ],
      "metadata": {
        "id": "tjauwkz4qGPY"
      },
      "execution_count": 59,
      "outputs": []
    },
    {
      "cell_type": "code",
      "source": [
        "print(pd.DataFrame({'Predicted Price':predicted}))"
      ],
      "metadata": {
        "colab": {
          "base_uri": "https://localhost:8080/"
        },
        "id": "PKaf9q3XqGRo",
        "outputId": "a443ea2a-968b-4370-f0b5-2f483f8c2df7"
      },
      "execution_count": 60,
      "outputs": [
        {
          "output_type": "stream",
          "name": "stdout",
          "text": [
            "      Predicted Price\n",
            "0              3671.0\n",
            "1              3477.0\n",
            "2                12.0\n",
            "3              4090.0\n",
            "4              2287.0\n",
            "...               ...\n",
            "5195           3843.0\n",
            "5196           2242.0\n",
            "5197            696.0\n",
            "5198             75.0\n",
            "5199            428.0\n",
            "\n",
            "[5200 rows x 1 columns]\n"
          ]
        }
      ]
    },
    {
      "cell_type": "code",
      "source": [
        ""
      ],
      "metadata": {
        "id": "RfziXBPHqGU0"
      },
      "execution_count": null,
      "outputs": []
    }
  ],
  "metadata": {
    "colab": {
      "collapsed_sections": [],
      "name": "INFO5731_Assignment_Four-1.ipynb",
      "provenance": []
    },
    "kernelspec": {
      "display_name": "Python 3",
      "language": "python",
      "name": "python3"
    },
    "language_info": {
      "codemirror_mode": {
        "name": "ipython",
        "version": 3
      },
      "file_extension": ".py",
      "mimetype": "text/x-python",
      "name": "python",
      "nbconvert_exporter": "python",
      "pygments_lexer": "ipython3",
      "version": "3.8.5"
    }
  },
  "nbformat": 4,
  "nbformat_minor": 0
}