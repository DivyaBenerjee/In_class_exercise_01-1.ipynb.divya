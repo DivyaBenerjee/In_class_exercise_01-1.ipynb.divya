{
  "cells": [
    {
      "cell_type": "markdown",
      "metadata": {
        "id": "view-in-github"
      },
      "source": [
        "<a href=\"https://colab.research.google.com/github/unt-iialab/INFO5731_Spring2020/blob/master/In_class_exercise/In_class_exercise_01.ipynb\" target=\"_parent\"><img src=\"https://colab.research.google.com/assets/colab-badge.svg\" alt=\"Open In Colab\"/></a>"
      ]
    },
    {
      "cell_type": "markdown",
      "metadata": {
        "id": "DymRJbxDBCnf"
      },
      "source": [
        "# **The first In-class-exercise (01/25/2022, 40 points in total)**"
      ]
    },
    {
      "cell_type": "markdown",
      "metadata": {
        "id": "03jb4GZsBkBS"
      },
      "source": [
        "(1) Write a Python program to calculate the length of a string. (4 points)"
      ]
    },
    {
      "cell_type": "code",
      "execution_count": 36,
      "metadata": {
        "colab": {
          "base_uri": "https://localhost:8080/"
        },
        "id": "YaGLbSHHB8Ej",
        "outputId": "6ce24338-17d7-421c-e598-be1228a2e0df"
      },
      "outputs": [
        {
          "output_type": "stream",
          "name": "stdout",
          "text": [
            "The length of the string: 5\n",
            "The length of the string: 5\n"
          ]
        }
      ],
      "source": [
        "# write your answer here\n",
        "my_string =\"Divya\"\n",
        "y=len(my_string)\n",
        "print(\"The length of the string:\",y)\n",
        "\n",
        "# Calculating the length of string using for loop\n",
        "def length_of_string(mystring):\n",
        "  counter=0\n",
        "  for i in mystring:\n",
        "    counter+=1\n",
        "  return counter\n",
        "mystring=\"Divya\"\n",
        "a= length_of_string(mystring)\n",
        "print(\"The length of the string:\",a)\n",
        "\n"
      ]
    },
    {
      "cell_type": "markdown",
      "metadata": {
        "id": "jJDe71iLB616"
      },
      "source": [
        "(2) Write a Python program to count the number of characters in a string. (4 points)\n",
        "\n",
        "Sample String : 'google.com‘, \n",
        "\n",
        "Expected Result : {'o': 3, 'g': 2, '.': 1, 'e': 1, 'l': 1, 'm': 1, 'c': 1}"
      ]
    },
    {
      "cell_type": "code",
      "execution_count": 38,
      "metadata": {
        "colab": {
          "base_uri": "https://localhost:8080/"
        },
        "id": "MtKskTzbCLaU",
        "outputId": "aa8c256d-4f1e-4007-cb89-03e4f761ec53"
      },
      "outputs": [
        {
          "output_type": "stream",
          "name": "stdout",
          "text": [
            "Count of the number of characters in a string:{'g': 2, 'o': 3, 'l': 1, 'e': 1, '.': 1, 'c': 1, 'm': 1}\n"
          ]
        }
      ],
      "source": [
        "# write your answer here\n",
        "# using for loop to count the number of characters in a string\n",
        "# initializing the string\n",
        "\n",
        "sample_string=\"google.com\"\n",
        "char_count={}\n",
        "for i in sample_string:\n",
        "  if i in char_count:\n",
        "    char_count[i]+=1\n",
        "  else:\n",
        "    char_count[i]=1\n",
        "print(\"Count of the number of characters in a string:\" +str(char_count))"
      ]
    },
    {
      "cell_type": "markdown",
      "metadata": {
        "id": "55W9AMdXCSpV"
      },
      "source": [
        "(3) Write a Python program to sum all the items in a list. (4 points)"
      ]
    },
    {
      "cell_type": "code",
      "execution_count": 39,
      "metadata": {
        "colab": {
          "base_uri": "https://localhost:8080/"
        },
        "id": "I57NXsauCec2",
        "outputId": "a2f73aa7-53d7-47ca-c84d-44efafc08127"
      },
      "outputs": [
        {
          "output_type": "stream",
          "name": "stdout",
          "text": [
            "The sum of items in a list: 21\n",
            "The sum of items in a list: 21\n"
          ]
        }
      ],
      "source": [
        "# write your answer here\n",
        "\n",
        "#  using 'sum' function to add all items in the list\n",
        "my_list=[1,2,3,4,5,6]\n",
        "y=sum(my_list)\n",
        "print(\"The sum of items in a list:\",y)\n",
        "\n",
        "# I am also using for to sum a list\n",
        "def list(items):\n",
        "  num=0\n",
        "  for y in items:\n",
        "    num+=y\n",
        "  return num\n",
        "z=list([1,2,3,4,5,6])\n",
        "print(\"The sum of items in a list:\",z)"
      ]
    },
    {
      "cell_type": "markdown",
      "metadata": {
        "id": "4ulBZ6yhCi9F"
      },
      "source": [
        "(4) Write a Python program to get a string from a given string where all occurrences of its first char have been changed to '\\$', except the first char itself. (4 points)\n",
        "\n",
        "Sample String : 'restart‘, \n",
        "\n",
        "Expected Result : 'resta\\$t'"
      ]
    },
    {
      "cell_type": "code",
      "execution_count": 40,
      "metadata": {
        "colab": {
          "base_uri": "https://localhost:8080/"
        },
        "id": "Fj0XhwbBCw2o",
        "outputId": "da2ea450-117a-4425-cade-63992653936a"
      },
      "outputs": [
        {
          "output_type": "stream",
          "name": "stdout",
          "text": [
            "Final result: resta$t\n"
          ]
        }
      ],
      "source": [
        "# write your answer here\n",
        "# I am using replace function \n",
        "def my_char(my_string):\n",
        "  char= my_string[0]\n",
        "  my_string1=my_string.replace(char,'$')\n",
        "  my_string1=char+ my_string1[1:]\n",
        "  return my_string1\n",
        "z=my_char('restart')\n",
        "print(\"Final result:\",z)"
      ]
    },
    {
      "cell_type": "markdown",
      "metadata": {
        "id": "_bIP7s1MCzue"
      },
      "source": [
        "(5) Write a program with python which could accept two parameter a and b to calculate and output the result of S, where \n",
        "\n",
        "$\\ S=3.14*(1+a/b)^3$ (4 points)\n",
        "\n"
      ]
    },
    {
      "cell_type": "code",
      "execution_count": 41,
      "metadata": {
        "colab": {
          "base_uri": "https://localhost:8080/"
        },
        "id": "w79QilHXD3Mg",
        "outputId": "fbba8030-5140-49ca-d6ed-aa5617c14023"
      },
      "outputs": [
        {
          "output_type": "stream",
          "name": "stdout",
          "text": [
            "Enter the value for aa3\n",
            "Enter the value of bb4\n",
            "The output result for S: 7.4429629629629614\n"
          ]
        }
      ],
      "source": [
        "# write your answer here\n",
        "z=input(\"Enter the value for a\")\n",
        "m=input(\"Enter the value of b\")\n",
        "S= 3.14*(1+a/b)**3\n",
        "print(\"The output result for S:\",S)"
      ]
    },
    {
      "cell_type": "markdown",
      "metadata": {
        "id": "xCa2bK9aD4Q3"
      },
      "source": [
        "(6) Write a Python program to concatenate following dictionaries to create a new one. (4 points)\n",
        "\n",
        "Sample Dictionary : dic1={1:10, 2:20}, dic2={3:30, 4:40}, dic3={5:50,6:60}, \n",
        "\n",
        "Expected Result : {1: 10, 2: 20, 3: 30, 4: 40, 5: 50, 6: 60}\n"
      ]
    },
    {
      "cell_type": "code",
      "execution_count": 42,
      "metadata": {
        "colab": {
          "base_uri": "https://localhost:8080/"
        },
        "id": "_z4aLqAbEET1",
        "outputId": "de4b378d-5dbf-4bc6-b6b6-26003f609c4f"
      },
      "outputs": [
        {
          "output_type": "stream",
          "name": "stdout",
          "text": [
            "The concatenated dictionary result: {1: 10, 2: 20, 3: 30, 4: 40, 5: 50, 6: 60}\n"
          ]
        }
      ],
      "source": [
        "# write your answer here\n",
        "#defining a function to define all dictioneries and arrange them into a new one\n",
        "dic1={1:10,2:20}\n",
        "dic2={3:30,4:40}\n",
        "dic3={5:50,6:60}\n",
        "dic4={}\n",
        "for dictionary in (dic1,dic2,dic3):\n",
        "  dic4.update(dictionary)\n",
        "print(\"The concatenated dictionary result:\", dic4)\n",
        "\n"
      ]
    },
    {
      "cell_type": "markdown",
      "metadata": {
        "id": "0v48Vqa7FrQh"
      },
      "source": [
        "(7) Write a Python program to check whether an element exists within a tuple. (4 points)"
      ]
    },
    {
      "cell_type": "code",
      "execution_count": 43,
      "metadata": {
        "colab": {
          "base_uri": "https://localhost:8080/"
        },
        "id": "7WEmgq-DF2P1",
        "outputId": "b6279bda-7182-48b1-e2a0-8156c41c7f3c"
      },
      "outputs": [
        {
          "output_type": "stream",
          "name": "stdout",
          "text": [
            "Divya is not in the tuple list\n",
            "True\n"
          ]
        }
      ],
      "source": [
        "# write your answer here\n",
        "#defining a function to check existance of element in tupule\n",
        "my_tuple = (\"Divya\", \"Sirugudi\")\n",
        "if \"Prathima\" in my_tuple:\n",
        "  print(\"Yes, 'Divya' is in the tuple list\")\n",
        "else:\n",
        "  print(\"Divya is not in the tuple list\")\n",
        "\n",
        "# Other way is by simply initializing tuple and using in to find if it exists\n",
        "my_tuple= (\"Divya\", \"Sirugudi\")\n",
        "print(\"Divya\" in my_tuple)"
      ]
    },
    {
      "cell_type": "markdown",
      "metadata": {
        "id": "vD5PYLMuGga_"
      },
      "source": [
        "(8) Write a Python program to find maximum and the minimum value in a set. (4 points)"
      ]
    },
    {
      "cell_type": "code",
      "execution_count": 44,
      "metadata": {
        "colab": {
          "base_uri": "https://localhost:8080/"
        },
        "id": "t0D5kdJUGjjw",
        "outputId": "4b5d8ce3-21e8-415d-9cdd-429c11a680a0"
      },
      "outputs": [
        {
          "output_type": "stream",
          "name": "stdout",
          "text": [
            "The maximum value in a set is: 20\n",
            "The minimum value in a set is: 15\n"
          ]
        }
      ],
      "source": [
        "# write your answer here\n",
        "# Initializing set\n",
        "my_set=set([15,16,17,18,19,20])\n",
        "a=max(my_set)\n",
        "b=min(my_set)\n",
        "print(\"The maximum value in a set is:\",a)\n",
        "print(\"The minimum value in a set is:\",b)"
      ]
    },
    {
      "cell_type": "markdown",
      "metadata": {
        "id": "uHkd-y5VhVWC"
      },
      "source": [
        "(9) Write a Python program to randomly divide the students in this class into six groups for term projects, each group should have at least 4 students but no more than 6 students (including 6). Here is the students list: (4 points)\n",
        "\n",
        "studnet_list = ['ja0964','sa1198','sb1357','vb0218','sc1229','kg0569','kg0470','sg1297','bg0320','fh0141','jl1252','sk1386',\n",
        "           'ak0956','sk1390','sk1458','sk1313','ak0934','vm0377','nm0618','sm1640','sm1907','gn0108','pr0353','dr0609','ms1500','aos0040','ds0814', 'av0659','nv0234','hy0232']"
      ]
    },
    {
      "cell_type": "code",
      "execution_count": 45,
      "metadata": {
        "colab": {
          "base_uri": "https://localhost:8080/"
        },
        "id": "3iGbmcOBhTwy",
        "outputId": "10f2045f-c6ff-4cf6-98c4-074af19ce886"
      },
      "outputs": [
        {
          "output_type": "stream",
          "name": "stdout",
          "text": [
            "[['kg0470', 'ak0956', 'sm1640', 'vm0377', 'fh0141', 'sk1458'], ['pr0353', 'sb1357', 'nm0618', 'sk1313', 'gn0108', 'sm1907'], ['ja0964', 'jl1252', 'kg0569', 'sk1386', 'ds0814', 'sk1390'], ['sa1198', 'dr0609', 'sc1229', 'ms1500', 'bg0320', 'sg1297'], ['aos0040', 'nv0234', 'vb0218', 'hy0232']]\n"
          ]
        }
      ],
      "source": [
        "# write your answer here\n",
        "student_list = ['ja0964','sa1198','sb1357','vb0218','sc1229','kg0569','kg0470','sg1297','bg0320','fh0141',\n",
        "                'jl1252','sk1386', 'ak0956','sk1390','sk1458','sk1313','ak0934','vm0377','nm0618','sm1640',\n",
        "                'sm1907','gn0108','pr0353','dr0609','ms1500','aos0040','ds0814', 'av0659','nv0234','hy0232']\n",
        "import random\n",
        "# defining function to divide students in to groups \n",
        "def select_random_Ns(student_list, n):\n",
        "    random.shuffle(student_list)\n",
        "    result = []\n",
        "    for i in range(2, len(student_list), n):\n",
        "        result.append(student_list[i:i + n])\n",
        "    return result\n",
        "        \n",
        "        \n",
        "#Calling function to divide students randomly in to groups\n",
        "print(select_random_Ns(student_list, 6))"
      ]
    },
    {
      "cell_type": "markdown",
      "metadata": {
        "id": "DT6UktQ6qiPX"
      },
      "source": [
        "(10) Write a Python program to find the duplicate elements in a given array of integers. Return -1 If there are no such elements. (4 points)"
      ]
    },
    {
      "cell_type": "code",
      "execution_count": 53,
      "metadata": {
        "colab": {
          "base_uri": "https://localhost:8080/"
        },
        "id": "tCiPYnKeqiPX",
        "outputId": "c8ac3b5c-efd5-40f5-d6f9-728c3449e9c9"
      },
      "outputs": [
        {
          "output_type": "stream",
          "name": "stdout",
          "text": [
            "4\n",
            "-1\n",
            "1\n"
          ]
        }
      ],
      "source": [
        "# write your answer here\n",
        "\n",
        "def findfirstduplicate(nums):\n",
        "    numset = set()\n",
        "    noduplicate = -1\n",
        "\n",
        "    for i in range(len(nums)):\n",
        "\n",
        "        if nums[i] in numset:\n",
        "            return nums[i]\n",
        "        else:\n",
        "            numset.add(nums[i])\n",
        "\n",
        "    return noduplicate\n",
        "\n",
        "print(findfirstduplicate([1, 2, 3, 4, 4, 5]))\n",
        "print(findfirstduplicate([1, 2, 3, 4]))\n",
        "print(findfirstduplicate([1, 1, 2, 3, 3, 2, 2]))"
      ]
    },
    {
      "cell_type": "markdown",
      "metadata": {
        "id": "ezLhlnrXqiPX"
      },
      "source": [
        "(11) Write a Python program to select all the Sundays of a specified year. (4 extra points)"
      ]
    },
    {
      "cell_type": "code",
      "execution_count": 34,
      "metadata": {
        "colab": {
          "base_uri": "https://localhost:8080/"
        },
        "id": "tCBt4gwMqiPX",
        "outputId": "74d32b7a-67f1-40db-c9a4-ae13814e9626"
      },
      "outputs": [
        {
          "output_type": "stream",
          "name": "stdout",
          "text": [
            "2021-01-03\n",
            "2021-01-10\n",
            "2021-01-17\n",
            "2021-01-24\n",
            "2021-01-31\n",
            "2021-02-07\n",
            "2021-02-14\n",
            "2021-02-21\n",
            "2021-02-28\n",
            "2021-03-07\n",
            "2021-03-14\n",
            "2021-03-21\n",
            "2021-03-28\n",
            "2021-04-04\n",
            "2021-04-11\n",
            "2021-04-18\n",
            "2021-04-25\n",
            "2021-05-02\n",
            "2021-05-09\n",
            "2021-05-16\n",
            "2021-05-23\n",
            "2021-05-30\n",
            "2021-06-06\n",
            "2021-06-13\n",
            "2021-06-20\n",
            "2021-06-27\n",
            "2021-07-04\n",
            "2021-07-11\n",
            "2021-07-18\n",
            "2021-07-25\n",
            "2021-08-01\n",
            "2021-08-08\n",
            "2021-08-15\n",
            "2021-08-22\n",
            "2021-08-29\n",
            "2021-09-05\n",
            "2021-09-12\n",
            "2021-09-19\n",
            "2021-09-26\n",
            "2021-10-03\n",
            "2021-10-10\n",
            "2021-10-17\n",
            "2021-10-24\n",
            "2021-10-31\n",
            "2021-11-07\n",
            "2021-11-14\n",
            "2021-11-21\n",
            "2021-11-28\n",
            "2021-12-05\n",
            "2021-12-12\n",
            "2021-12-19\n",
            "2021-12-26\n"
          ]
        }
      ],
      "source": [
        "# write your answer here\n",
        "from datetime import date, timedelta\n",
        "\n",
        "#defining function to print sundays \n",
        "def print_sundays(year):\n",
        "       dt = date(year, 1, 1)\n",
        "       dt += timedelta(days = 6 - dt.weekday())  \n",
        "       while dt.year == year:\n",
        "          yield dt\n",
        "          dt += timedelta(days = 7)\n",
        " #calling function to print sundays                   \n",
        "for s in print_sundays(2021):\n",
        "   print(s)\n",
        "\n"
      ]
    }
  ],
  "metadata": {
    "colab": {
      "collapsed_sections": [],
      "name": "In_class_exercise_01-1.ipynb.divya",
      "provenance": []
    },
    "kernelspec": {
      "display_name": "Python 3",
      "language": "python",
      "name": "python3"
    },
    "language_info": {
      "codemirror_mode": {
        "name": "ipython",
        "version": 3
      },
      "file_extension": ".py",
      "mimetype": "text/x-python",
      "name": "python",
      "nbconvert_exporter": "python",
      "pygments_lexer": "ipython3",
      "version": "3.8.5"
    }
  },
  "nbformat": 4,
  "nbformat_minor": 0
}